{
 "cells": [
  {
   "cell_type": "markdown",
   "id": "38f7212e",
   "metadata": {},
   "source": [
    "## Setup"
   ]
  },
  {
   "cell_type": "code",
   "execution_count": 141,
   "id": "eec5f1a5",
   "metadata": {},
   "outputs": [],
   "source": [
    "import pandas as pd\n",
    "import numpy as np\n",
    "\n",
    "import requests\n",
    "from io import StringIO\n",
    "\n",
    "import matplotlib.pyplot as plt\n",
    "import seaborn as sns\n",
    "sns.set_theme()"
   ]
  },
  {
   "cell_type": "markdown",
   "id": "a5096dfb",
   "metadata": {},
   "source": [
    "## EXERCISE 15. Weird taxi rides"
   ]
  },
  {
   "cell_type": "code",
   "execution_count": 2,
   "id": "b727677f",
   "metadata": {},
   "outputs": [],
   "source": [
    "df = pd.read_csv('data/nyc_taxi_2019-01.csv',\n",
    "                usecols=['passenger_count', 'trip_distance',\n",
    "                        'total_amount', 'payment_type'])"
   ]
  },
  {
   "cell_type": "code",
   "execution_count": 3,
   "id": "e994f75a",
   "metadata": {},
   "outputs": [
    {
     "data": {
      "text/html": [
       "<div>\n",
       "<style scoped>\n",
       "    .dataframe tbody tr th:only-of-type {\n",
       "        vertical-align: middle;\n",
       "    }\n",
       "\n",
       "    .dataframe tbody tr th {\n",
       "        vertical-align: top;\n",
       "    }\n",
       "\n",
       "    .dataframe thead th {\n",
       "        text-align: right;\n",
       "    }\n",
       "</style>\n",
       "<table border=\"1\" class=\"dataframe\">\n",
       "  <thead>\n",
       "    <tr style=\"text-align: right;\">\n",
       "      <th></th>\n",
       "      <th>passenger_count</th>\n",
       "      <th>trip_distance</th>\n",
       "      <th>payment_type</th>\n",
       "      <th>total_amount</th>\n",
       "    </tr>\n",
       "  </thead>\n",
       "  <tbody>\n",
       "    <tr>\n",
       "      <th>0</th>\n",
       "      <td>1</td>\n",
       "      <td>1.5</td>\n",
       "      <td>1</td>\n",
       "      <td>9.95</td>\n",
       "    </tr>\n",
       "    <tr>\n",
       "      <th>1</th>\n",
       "      <td>1</td>\n",
       "      <td>2.6</td>\n",
       "      <td>1</td>\n",
       "      <td>16.30</td>\n",
       "    </tr>\n",
       "    <tr>\n",
       "      <th>2</th>\n",
       "      <td>3</td>\n",
       "      <td>0.0</td>\n",
       "      <td>1</td>\n",
       "      <td>5.80</td>\n",
       "    </tr>\n",
       "    <tr>\n",
       "      <th>3</th>\n",
       "      <td>5</td>\n",
       "      <td>0.0</td>\n",
       "      <td>2</td>\n",
       "      <td>7.55</td>\n",
       "    </tr>\n",
       "    <tr>\n",
       "      <th>4</th>\n",
       "      <td>5</td>\n",
       "      <td>0.0</td>\n",
       "      <td>2</td>\n",
       "      <td>55.55</td>\n",
       "    </tr>\n",
       "  </tbody>\n",
       "</table>\n",
       "</div>"
      ],
      "text/plain": [
       "   passenger_count  trip_distance  payment_type  total_amount\n",
       "0                1            1.5             1          9.95\n",
       "1                1            2.6             1         16.30\n",
       "2                3            0.0             1          5.80\n",
       "3                5            0.0             2          7.55\n",
       "4                5            0.0             2         55.55"
      ]
     },
     "execution_count": 3,
     "metadata": {},
     "output_type": "execute_result"
    }
   ],
   "source": [
    "df.head()"
   ]
  },
  {
   "cell_type": "code",
   "execution_count": 6,
   "id": "d017dcfd",
   "metadata": {},
   "outputs": [
    {
     "data": {
      "text/plain": [
       "(7667792, 4)"
      ]
     },
     "execution_count": 6,
     "metadata": {},
     "output_type": "execute_result"
    }
   ],
   "source": [
    "df.shape"
   ]
  },
  {
   "cell_type": "code",
   "execution_count": 13,
   "id": "0700e101",
   "metadata": {},
   "outputs": [
    {
     "name": "stdout",
     "output_type": "stream",
     "text": [
      "Missing values in each column:\n",
      "passenger_count    0\n",
      "trip_distance      0\n",
      "payment_type       0\n",
      "total_amount       0\n",
      "dtype: int64\n"
     ]
    }
   ],
   "source": [
    "# Check for missing values\n",
    "missing_values = df.isnull().sum()\n",
    "print(\"Missing values in each column:\")\n",
    "print(missing_values)"
   ]
  },
  {
   "cell_type": "markdown",
   "id": "463aff0d",
   "metadata": {},
   "source": [
    "### 15.1. Taxi dataset description"
   ]
  },
  {
   "cell_type": "code",
   "execution_count": 4,
   "id": "b992ed3f",
   "metadata": {},
   "outputs": [
    {
     "name": "stdout",
     "output_type": "stream",
     "text": [
      "Number of taxi rides with more than 8 passengers: 9\n"
     ]
    }
   ],
   "source": [
    "# How many taxi rides had more than eight passengers?\n",
    "mask_passengers = df['passenger_count'] > 8\n",
    "num_rides = df[mask_passengers].shape[0]\n",
    "print(f'Number of taxi rides with more than 8 passengers: {num_rides}')"
   ]
  },
  {
   "cell_type": "code",
   "execution_count": 5,
   "id": "c8d06375",
   "metadata": {},
   "outputs": [
    {
     "name": "stdout",
     "output_type": "stream",
     "text": [
      "Number of taxi rides with zero passengers: 117381\n"
     ]
    }
   ],
   "source": [
    "# How many taxi rides had zero passengers?\n",
    "mask_zero_passengers = df['passenger_count'] == 0\n",
    "num_zero_passengers = df[mask_zero_passengers].shape[0]\n",
    "print(f'Number of taxi rides with zero passengers: {num_zero_passengers}')"
   ]
  },
  {
   "cell_type": "code",
   "execution_count": 8,
   "id": "9e0853c1",
   "metadata": {},
   "outputs": [
    {
     "name": "stdout",
     "output_type": "stream",
     "text": [
      "Number of taxi rides paid in cash and costing over $1,000: 5\n"
     ]
    }
   ],
   "source": [
    "# How many taxi rides were paid for in cash and cost over $1,000?\n",
    "mask_cash = (df['payment_type'] == 2) & (df['total_amount'] > 1000)\n",
    "num_cash_over_1000 = df[mask_cash].shape[0]\n",
    "print(f'Number of taxi rides paid in cash and costing over $1,000: {num_cash_over_1000}')"
   ]
  },
  {
   "cell_type": "code",
   "execution_count": 10,
   "id": "b864202e",
   "metadata": {},
   "outputs": [
    {
     "name": "stdout",
     "output_type": "stream",
     "text": [
      "Number of taxi rides costing less than $0: 7131\n"
     ]
    }
   ],
   "source": [
    "# How many rides cost less than $0?\n",
    "mask_cost_less_than_zero = df['total_amount'] < 0\n",
    "num_cost_less_than_zero = df[mask_cost_less_than_zero].shape[0]\n",
    "print(f'Number of taxi rides costing less than $0: {num_cost_less_than_zero}')"
   ]
  },
  {
   "cell_type": "code",
   "execution_count": 11,
   "id": "c0ca5f2b",
   "metadata": {},
   "outputs": [
    {
     "name": "stdout",
     "output_type": "stream",
     "text": [
      "Number of taxi rides with below-average distance and above-average amount: 411255\n"
     ]
    }
   ],
   "source": [
    "# How many rides traveled a below-average distance but cost an above-average amount?\n",
    "mean_distance = df['trip_distance'].mean()\n",
    "mean_amount = df['total_amount'].mean()\n",
    "mask_below_avg_distance = df['trip_distance'] < mean_distance\n",
    "mask_above_avg_amount = df['total_amount'] > mean_amount\n",
    "num_below_avg_distance_above_avg_amount = df[mask_below_avg_distance & mask_above_avg_amount].shape[0]\n",
    "print(f'Number of taxi rides with below-average distance and above-average amount: {num_below_avg_distance_above_avg_amount}')"
   ]
  },
  {
   "cell_type": "markdown",
   "id": "2f3afd22",
   "metadata": {},
   "source": [
    "### 15.2. Taxi dataset description with query"
   ]
  },
  {
   "cell_type": "code",
   "execution_count": 15,
   "id": "3ed9e5da",
   "metadata": {},
   "outputs": [
    {
     "name": "stdout",
     "output_type": "stream",
     "text": [
      "Number of taxi rides with more than 8 passengers (using query): 9\n"
     ]
    }
   ],
   "source": [
    "# How many taxi rides had more than eight passengers?\n",
    "query_passengers = 'passenger_count > 8'\n",
    "num_rides_query = df.query(query_passengers).shape[0]\n",
    "print(f'Number of taxi rides with more than 8 passengers (using query): {num_rides_query}')"
   ]
  },
  {
   "cell_type": "code",
   "execution_count": 16,
   "id": "75ca0307",
   "metadata": {},
   "outputs": [
    {
     "name": "stdout",
     "output_type": "stream",
     "text": [
      "Number of taxi rides with zero passengers (using query): 117381\n"
     ]
    }
   ],
   "source": [
    "# How many taxi rides had zero passengers?\n",
    "query_zero_passengers = 'passenger_count == 0'\n",
    "num_zero_passengers_query = df.query(query_zero_passengers).shape[0]\n",
    "print(f'Number of taxi rides with zero passengers (using query): {num_zero_passengers_query}')"
   ]
  },
  {
   "cell_type": "code",
   "execution_count": 17,
   "id": "df71c548",
   "metadata": {},
   "outputs": [
    {
     "name": "stdout",
     "output_type": "stream",
     "text": [
      "Number of taxi rides paid in cash and costing over $1,000 (using query): 5\n"
     ]
    }
   ],
   "source": [
    "# How many taxi rides were paid for in cash and cost over $1,000?\n",
    "query_cash = 'payment_type == 2 and total_amount > 1000'\n",
    "num_cash_over_1000_query = df.query(query_cash).shape[0]\n",
    "print(f'Number of taxi rides paid in cash and costing over $1,000 (using query): {num_cash_over_1000_query}')"
   ]
  },
  {
   "cell_type": "code",
   "execution_count": 18,
   "id": "71572582",
   "metadata": {},
   "outputs": [
    {
     "name": "stdout",
     "output_type": "stream",
     "text": [
      "Number of taxi rides costing less than $0 (using query): 7131\n"
     ]
    }
   ],
   "source": [
    "# How many rides cost less than $0?\n",
    "query_cost_less_than_zero = 'total_amount < 0'\n",
    "num_cost_less_than_zero_query = df.query(query_cost_less_than_zero).shape[0]\n",
    "print(f'Number of taxi rides costing less than $0 (using query): {num_cost_less_than_zero_query}')"
   ]
  },
  {
   "cell_type": "code",
   "execution_count": 19,
   "id": "a6ef0438",
   "metadata": {},
   "outputs": [
    {
     "name": "stdout",
     "output_type": "stream",
     "text": [
      "Number of taxi rides with below-average distance and above-average amount (using query): 411255\n"
     ]
    }
   ],
   "source": [
    "# How many rides traveled a below-average distance but cost an above-average amount?\n",
    "mean_distance = df['trip_distance'].mean()\n",
    "mean_amount = df['total_amount'].mean()\n",
    "query_below_avg_distance_above_avg_amount = f'trip_distance < {mean_distance} and total_amount > {mean_amount}'\n",
    "num_below_avg_distance_above_avg_amount_query = df.query(query_below_avg_distance_above_avg_amount).shape[0]\n",
    "print(f'Number of taxi rides with below-average distance and above-average amount (using query): {num_below_avg_distance_above_avg_amount_query}')"
   ]
  },
  {
   "cell_type": "markdown",
   "id": "7cbbd174",
   "metadata": {},
   "source": [
    "### 15.3. How many rides that cost less than $0 involved either a dispute (payment_type of 4) or a voided trip (payment_type of 6)?"
   ]
  },
  {
   "cell_type": "code",
   "execution_count": 20,
   "id": "a591b06c",
   "metadata": {},
   "outputs": [
    {
     "name": "stdout",
     "output_type": "stream",
     "text": [
      "Number of rides that cost less than $0 and involved either a dispute or a voided trip: 2666\n"
     ]
    }
   ],
   "source": [
    "# How many rides that cost less than $0 involved either a dispute (payment_type of 4) \n",
    "# or a voided trip (payment_type of 6)?\n",
    "mask_cost_less_than_zero = df['total_amount'] < 0\n",
    "mask_dispute_or_voided = (df['payment_type'] == 4) | (df['payment_type'] == 6)\n",
    "num_dispute_or_voided = df[mask_cost_less_than_zero & mask_dispute_or_voided].shape[0]\n",
    "print(f'Number of rides that cost less than $0 and involved either a dispute or a voided trip: {num_dispute_or_voided}')"
   ]
  },
  {
   "cell_type": "code",
   "execution_count": 21,
   "id": "36733742",
   "metadata": {},
   "outputs": [
    {
     "data": {
      "text/plain": [
       "payment_type\n",
       "4    2666\n",
       "Name: count, dtype: int64"
      ]
     },
     "execution_count": 21,
     "metadata": {},
     "output_type": "execute_result"
    }
   ],
   "source": [
    "df.loc[mask_cost_less_than_zero & mask_dispute_or_voided, 'payment_type'].value_counts()"
   ]
  },
  {
   "cell_type": "markdown",
   "id": "f8a735b9",
   "metadata": {},
   "source": [
    "### 15.4. What percentage normally pays in cash versus a credit card?"
   ]
  },
  {
   "cell_type": "code",
   "execution_count": 22,
   "id": "b27a6ed8",
   "metadata": {},
   "outputs": [
    {
     "data": {
      "text/plain": [
       "payment_type\n",
       "1    5486027\n",
       "2    2137415\n",
       "3      33186\n",
       "4      11164\n",
       "Name: count, dtype: int64"
      ]
     },
     "execution_count": 22,
     "metadata": {},
     "output_type": "execute_result"
    }
   ],
   "source": [
    "df['payment_type'].value_counts()"
   ]
  },
  {
   "cell_type": "code",
   "execution_count": 23,
   "id": "df390184",
   "metadata": {},
   "outputs": [
    {
     "data": {
      "text/plain": [
       "payment_type\n",
       "1    71.546372\n",
       "2    27.875234\n",
       "3     0.432797\n",
       "4     0.145596\n",
       "Name: proportion, dtype: float64"
      ]
     },
     "execution_count": 23,
     "metadata": {},
     "output_type": "execute_result"
    }
   ],
   "source": [
    "df['payment_type'].value_counts(normalize=True) * 100 "
   ]
  },
  {
   "cell_type": "code",
   "execution_count": 24,
   "id": "99b2d236",
   "metadata": {},
   "outputs": [
    {
     "data": {
      "text/plain": [
       "payment_type\n",
       "1    71.546372\n",
       "2    27.875234\n",
       "Name: proportion, dtype: float64"
      ]
     },
     "execution_count": 24,
     "metadata": {},
     "output_type": "execute_result"
    }
   ],
   "source": [
    "df['payment_type'].value_counts(normalize=True)[[1, 2]] * 100  # Cash vs Credit Card"
   ]
  },
  {
   "cell_type": "markdown",
   "id": "f9b0aec5",
   "metadata": {},
   "source": [
    "## EXERCISE 16. Pandemic taxis"
   ]
  },
  {
   "cell_type": "code",
   "execution_count": 2,
   "id": "e855ae87",
   "metadata": {},
   "outputs": [],
   "source": [
    "df_2019_jul = pd.read_csv('data/nyc_taxi_2019-07.csv',\n",
    "                usecols=['passenger_count', \n",
    "                        'total_amount', 'payment_type'])\n",
    "df_2019_jul['year'] = 2019\n",
    "\n",
    "df_2020_jul = pd.read_csv('data/nyc_taxi_2020-07.csv',\n",
    "                usecols=['passenger_count', \n",
    "                        'total_amount', 'payment_type'])\n",
    "df_2020_jul['year'] = 2020\n",
    "\n",
    "df = pd.concat([df_2019_jul, df_2020_jul])"
   ]
  },
  {
   "cell_type": "code",
   "execution_count": 3,
   "id": "fa949bfa",
   "metadata": {},
   "outputs": [
    {
     "data": {
      "text/plain": [
       "(7110831, 4)"
      ]
     },
     "execution_count": 3,
     "metadata": {},
     "output_type": "execute_result"
    }
   ],
   "source": [
    "df.shape"
   ]
  },
  {
   "cell_type": "code",
   "execution_count": 4,
   "id": "68fdc3bd",
   "metadata": {},
   "outputs": [
    {
     "data": {
      "text/html": [
       "<div>\n",
       "<style scoped>\n",
       "    .dataframe tbody tr th:only-of-type {\n",
       "        vertical-align: middle;\n",
       "    }\n",
       "\n",
       "    .dataframe tbody tr th {\n",
       "        vertical-align: top;\n",
       "    }\n",
       "\n",
       "    .dataframe thead th {\n",
       "        text-align: right;\n",
       "    }\n",
       "</style>\n",
       "<table border=\"1\" class=\"dataframe\">\n",
       "  <thead>\n",
       "    <tr style=\"text-align: right;\">\n",
       "      <th></th>\n",
       "      <th>passenger_count</th>\n",
       "      <th>payment_type</th>\n",
       "      <th>total_amount</th>\n",
       "      <th>year</th>\n",
       "    </tr>\n",
       "  </thead>\n",
       "  <tbody>\n",
       "    <tr>\n",
       "      <th>0</th>\n",
       "      <td>1.0</td>\n",
       "      <td>1.0</td>\n",
       "      <td>4.94</td>\n",
       "      <td>2019</td>\n",
       "    </tr>\n",
       "    <tr>\n",
       "      <th>1</th>\n",
       "      <td>1.0</td>\n",
       "      <td>2.0</td>\n",
       "      <td>20.30</td>\n",
       "      <td>2019</td>\n",
       "    </tr>\n",
       "    <tr>\n",
       "      <th>2</th>\n",
       "      <td>1.0</td>\n",
       "      <td>1.0</td>\n",
       "      <td>70.67</td>\n",
       "      <td>2019</td>\n",
       "    </tr>\n",
       "    <tr>\n",
       "      <th>3</th>\n",
       "      <td>1.0</td>\n",
       "      <td>1.0</td>\n",
       "      <td>66.36</td>\n",
       "      <td>2019</td>\n",
       "    </tr>\n",
       "    <tr>\n",
       "      <th>4</th>\n",
       "      <td>0.0</td>\n",
       "      <td>1.0</td>\n",
       "      <td>15.30</td>\n",
       "      <td>2019</td>\n",
       "    </tr>\n",
       "  </tbody>\n",
       "</table>\n",
       "</div>"
      ],
      "text/plain": [
       "   passenger_count  payment_type  total_amount  year\n",
       "0              1.0           1.0          4.94  2019\n",
       "1              1.0           2.0         20.30  2019\n",
       "2              1.0           1.0         70.67  2019\n",
       "3              1.0           1.0         66.36  2019\n",
       "4              0.0           1.0         15.30  2019"
      ]
     },
     "execution_count": 4,
     "metadata": {},
     "output_type": "execute_result"
    }
   ],
   "source": [
    "df.head()"
   ]
  },
  {
   "cell_type": "markdown",
   "id": "21931335",
   "metadata": {},
   "source": [
    "### 16.1. Comparison of datasets for July 2019 and 2020"
   ]
  },
  {
   "cell_type": "code",
   "execution_count": 5,
   "id": "46bf1ced",
   "metadata": {},
   "outputs": [
    {
     "data": {
      "text/plain": [
       "year\n",
       "2019    6310419\n",
       "2020     800412\n",
       "Name: count, dtype: int64"
      ]
     },
     "execution_count": 5,
     "metadata": {},
     "output_type": "execute_result"
    }
   ],
   "source": [
    "# How many rides were taken in 2019 and 2020, and what is the difference between these two figures?\n",
    "df['year'].value_counts()"
   ]
  },
  {
   "cell_type": "code",
   "execution_count": 6,
   "id": "69bc20cb",
   "metadata": {},
   "outputs": [],
   "source": [
    "mask_2019 = df['year'] == 2019\n",
    "mask_2020 = df['year'] == 2020"
   ]
  },
  {
   "cell_type": "code",
   "execution_count": 7,
   "id": "626bb36a",
   "metadata": {},
   "outputs": [
    {
     "name": "stdout",
     "output_type": "stream",
     "text": [
      "Number of rides in 2019: 6,310,419\n",
      "Number of rides in 2020: 800,412\n",
      "Difference in rides between 2019 and 2020: 5,510,007\n"
     ]
    }
   ],
   "source": [
    "rides_2019 = df[df['year'] == 2019].shape[0]\n",
    "rides_2020 = df[df['year'] == 2020].shape[0]\n",
    "difference = rides_2019 - rides_2020\n",
    "print(f'Number of rides in 2019: {rides_2019:,}')\n",
    "print(f'Number of rides in 2020: {rides_2020:,}')\n",
    "print(f'Difference in rides between 2019 and 2020: {difference:,}')"
   ]
  },
  {
   "cell_type": "code",
   "execution_count": 8,
   "id": "5c7efefa",
   "metadata": {},
   "outputs": [
    {
     "name": "stdout",
     "output_type": "stream",
     "text": [
      "Total amount collected in 2019: $123,761,823\n",
      "Total amount collected in 2020: $14,912,844\n",
      "Difference in total amount between 2019 and 2020: $108,848,979\n"
     ]
    }
   ],
   "source": [
    "# How much money (in total) was collected in 2019 and 2020, and what was the difference between these two figures?\n",
    "total_amount_2019 = df.loc[df['year'] == 2019, 'total_amount'].sum()\n",
    "total_amount_2020 = df.loc[df['year'] == 2020, 'total_amount'].sum()\n",
    "difference_amount = total_amount_2019 - total_amount_2020\n",
    "print(f'Total amount collected in 2019: ${total_amount_2019:,.0f}')\n",
    "print(f'Total amount collected in 2020: ${total_amount_2020:,.0f}')\n",
    "print(f'Difference in total amount between 2019 and 2020: ${difference_amount:,.0f}')"
   ]
  },
  {
   "cell_type": "code",
   "execution_count": 9,
   "id": "8eea534d",
   "metadata": {},
   "outputs": [
    {
     "data": {
      "text/plain": [
       "passenger_count\n",
       "1.0    0.697987\n",
       "2.0    0.151958\n",
       "3.0    0.044481\n",
       "5.0    0.040510\n",
       "6.0    0.024171\n",
       "4.0    0.022259\n",
       "0.0    0.018623\n",
       "7.0    0.000005\n",
       "8.0    0.000004\n",
       "9.0    0.000003\n",
       "Name: proportion, dtype: float64"
      ]
     },
     "execution_count": 9,
     "metadata": {},
     "output_type": "execute_result"
    }
   ],
   "source": [
    "# Did the proportion of trips with more than one passenger change dramatically?\n",
    "df.loc[mask_2019, 'passenger_count'].value_counts(normalize=True)"
   ]
  },
  {
   "cell_type": "code",
   "execution_count": 10,
   "id": "1725a8b3",
   "metadata": {},
   "outputs": [
    {
     "data": {
      "text/plain": [
       "passenger_count\n",
       "1.0    0.767402\n",
       "2.0    0.123243\n",
       "3.0    0.029527\n",
       "0.0    0.026446\n",
       "5.0    0.023194\n",
       "6.0    0.019587\n",
       "4.0    0.010589\n",
       "7.0    0.000007\n",
       "8.0    0.000003\n",
       "9.0    0.000001\n",
       "Name: proportion, dtype: float64"
      ]
     },
     "execution_count": 10,
     "metadata": {},
     "output_type": "execute_result"
    }
   ],
   "source": [
    "df.loc[mask_2020, 'passenger_count'].value_counts(normalize=True)"
   ]
  },
  {
   "cell_type": "code",
   "execution_count": 11,
   "id": "19346a1c",
   "metadata": {},
   "outputs": [
    {
     "name": "stdout",
     "output_type": "stream",
     "text": [
      "Proportion of trips with more than one passenger in 2019: 30.20%\n",
      "Proportion of trips with more than one passenger in 2020: 23.26%\n",
      "Change in proportion of trips with more than one passenger from 2019 to 2020: -0.07%\n"
     ]
    }
   ],
   "source": [
    "proportion_more_than_one_passenger_2019 = 1 - df.loc[mask_2019, 'passenger_count'].value_counts(normalize=True)[1]\n",
    "proportion_more_than_one_passenger_2020 = 1 - df.loc[mask_2020, 'passenger_count'].value_counts(normalize=True)[1]\n",
    "print(f'Proportion of trips with more than one passenger in 2019: {proportion_more_than_one_passenger_2019*100:.2f}%')\n",
    "print(f'Proportion of trips with more than one passenger in 2020: {proportion_more_than_one_passenger_2020*100:.2f}%')  \n",
    "change = proportion_more_than_one_passenger_2020 - proportion_more_than_one_passenger_2019\n",
    "print(f'Change in proportion of trips with more than one passenger from 2019 to 2020: {change:.2f}%')"
   ]
  },
  {
   "cell_type": "code",
   "execution_count": 12,
   "id": "0240de40",
   "metadata": {},
   "outputs": [
    {
     "data": {
      "text/plain": [
       "payment_type\n",
       "1.0    0.704883\n",
       "2.0    0.287060\n",
       "3.0    0.005654\n",
       "4.0    0.002404\n",
       "Name: proportion, dtype: float64"
      ]
     },
     "execution_count": 12,
     "metadata": {},
     "output_type": "execute_result"
    }
   ],
   "source": [
    "# Did people use cash (i.e., payment_type of 2) less in 2020 than in 2019?\n",
    "df.loc[mask_2019, 'payment_type'].value_counts(normalize=True)"
   ]
  },
  {
   "cell_type": "code",
   "execution_count": 13,
   "id": "61f0b9fd",
   "metadata": {},
   "outputs": [
    {
     "data": {
      "text/plain": [
       "payment_type\n",
       "1.0    0.665705\n",
       "2.0    0.320559\n",
       "3.0    0.009245\n",
       "4.0    0.004490\n",
       "Name: proportion, dtype: float64"
      ]
     },
     "execution_count": 13,
     "metadata": {},
     "output_type": "execute_result"
    }
   ],
   "source": [
    "df.loc[mask_2020, 'payment_type'].value_counts(normalize=True)"
   ]
  },
  {
   "cell_type": "markdown",
   "id": "4df507ca",
   "metadata": {},
   "source": [
    "### 16.2. Use the corr method on df to find the correlations among the columns. How would you interpret these results?"
   ]
  },
  {
   "cell_type": "code",
   "execution_count": 14,
   "id": "3cea6c12",
   "metadata": {},
   "outputs": [
    {
     "data": {
      "text/html": [
       "<div>\n",
       "<style scoped>\n",
       "    .dataframe tbody tr th:only-of-type {\n",
       "        vertical-align: middle;\n",
       "    }\n",
       "\n",
       "    .dataframe tbody tr th {\n",
       "        vertical-align: top;\n",
       "    }\n",
       "\n",
       "    .dataframe thead th {\n",
       "        text-align: right;\n",
       "    }\n",
       "</style>\n",
       "<table border=\"1\" class=\"dataframe\">\n",
       "  <thead>\n",
       "    <tr style=\"text-align: right;\">\n",
       "      <th></th>\n",
       "      <th>passenger_count</th>\n",
       "      <th>payment_type</th>\n",
       "      <th>total_amount</th>\n",
       "      <th>year</th>\n",
       "    </tr>\n",
       "  </thead>\n",
       "  <tbody>\n",
       "    <tr>\n",
       "      <th>passenger_count</th>\n",
       "      <td>1.000000</td>\n",
       "      <td>0.016410</td>\n",
       "      <td>0.014943</td>\n",
       "      <td>-0.049558</td>\n",
       "    </tr>\n",
       "    <tr>\n",
       "      <th>payment_type</th>\n",
       "      <td>0.016410</td>\n",
       "      <td>1.000000</td>\n",
       "      <td>-0.138561</td>\n",
       "      <td>0.029277</td>\n",
       "    </tr>\n",
       "    <tr>\n",
       "      <th>total_amount</th>\n",
       "      <td>0.014943</td>\n",
       "      <td>-0.138561</td>\n",
       "      <td>1.000000</td>\n",
       "      <td>-0.019706</td>\n",
       "    </tr>\n",
       "    <tr>\n",
       "      <th>year</th>\n",
       "      <td>-0.049558</td>\n",
       "      <td>0.029277</td>\n",
       "      <td>-0.019706</td>\n",
       "      <td>1.000000</td>\n",
       "    </tr>\n",
       "  </tbody>\n",
       "</table>\n",
       "</div>"
      ],
      "text/plain": [
       "                 passenger_count  payment_type  total_amount      year\n",
       "passenger_count         1.000000      0.016410      0.014943 -0.049558\n",
       "payment_type            0.016410      1.000000     -0.138561  0.029277\n",
       "total_amount            0.014943     -0.138561      1.000000 -0.019706\n",
       "year                   -0.049558      0.029277     -0.019706  1.000000"
      ]
     },
     "execution_count": 14,
     "metadata": {},
     "output_type": "execute_result"
    }
   ],
   "source": [
    "df.corr()"
   ]
  },
  {
   "cell_type": "markdown",
   "id": "c1312756",
   "metadata": {},
   "source": [
    "### 16.3. Difference in descriptive statistics for total_amount between 2019 and 2020."
   ]
  },
  {
   "cell_type": "code",
   "execution_count": 17,
   "id": "7cf71905",
   "metadata": {},
   "outputs": [
    {
     "data": {
      "text/plain": [
       "count    5510007.00\n",
       "mean           0.98\n",
       "std            0.75\n",
       "min          -53.20\n",
       "25%            0.50\n",
       "50%            0.60\n",
       "75%            0.75\n",
       "max         4672.45\n",
       "Name: total_amount, dtype: float64"
      ]
     },
     "execution_count": 17,
     "metadata": {},
     "output_type": "execute_result"
    }
   ],
   "source": [
    "df.loc[mask_2019, 'total_amount'].describe().round(2) - df.loc[mask_2020, 'total_amount'].describe().round(2)"
   ]
  },
  {
   "cell_type": "markdown",
   "id": "6e60bdb4",
   "metadata": {},
   "source": [
    "### 16.4. Zero-passenger trips"
   ]
  },
  {
   "cell_type": "code",
   "execution_count": 25,
   "id": "48879cd9",
   "metadata": {},
   "outputs": [
    {
     "data": {
      "text/plain": [
       "(np.float64(0.018622599363335383), np.float64(0.026446482682882185))"
      ]
     },
     "execution_count": 25,
     "metadata": {},
     "output_type": "execute_result"
    }
   ],
   "source": [
    "# How many zero-passenger trips were there in 2019 and 2020?\n",
    "(df.loc[mask_2019, 'passenger_count'].value_counts(normalize=True)[0],\n",
    "df.loc[mask_2020, 'passenger_count'].value_counts(normalize=True)[0])"
   ]
  },
  {
   "cell_type": "markdown",
   "id": "55802def",
   "metadata": {},
   "source": [
    "## EXERCISE 17. Setting column types"
   ]
  },
  {
   "cell_type": "markdown",
   "id": "0988e636",
   "metadata": {},
   "source": [
    "### 17.1 Assigning dtypes"
   ]
  },
  {
   "cell_type": "code",
   "execution_count": 26,
   "id": "448a03c4",
   "metadata": {},
   "outputs": [],
   "source": [
    "df = pd.read_csv('data/nyc_taxi_2020-01.csv',\n",
    "                usecols=['passenger_count',\n",
    "                         'total_amount' , \n",
    "                         'payment_type'],\n",
    "                dtype={'passenger_count': np.float64, \n",
    "                       'total_amount': np.float64, \n",
    "                       'payment_type': np.float64})"
   ]
  },
  {
   "cell_type": "code",
   "execution_count": 27,
   "id": "4c02dbe2",
   "metadata": {},
   "outputs": [
    {
     "data": {
      "text/plain": [
       "(6405008, 3)"
      ]
     },
     "execution_count": 27,
     "metadata": {},
     "output_type": "execute_result"
    }
   ],
   "source": [
    "df.shape"
   ]
  },
  {
   "cell_type": "code",
   "execution_count": 28,
   "id": "abaeea81",
   "metadata": {},
   "outputs": [
    {
     "data": {
      "text/html": [
       "<div>\n",
       "<style scoped>\n",
       "    .dataframe tbody tr th:only-of-type {\n",
       "        vertical-align: middle;\n",
       "    }\n",
       "\n",
       "    .dataframe tbody tr th {\n",
       "        vertical-align: top;\n",
       "    }\n",
       "\n",
       "    .dataframe thead th {\n",
       "        text-align: right;\n",
       "    }\n",
       "</style>\n",
       "<table border=\"1\" class=\"dataframe\">\n",
       "  <thead>\n",
       "    <tr style=\"text-align: right;\">\n",
       "      <th></th>\n",
       "      <th>passenger_count</th>\n",
       "      <th>payment_type</th>\n",
       "      <th>total_amount</th>\n",
       "    </tr>\n",
       "  </thead>\n",
       "  <tbody>\n",
       "    <tr>\n",
       "      <th>0</th>\n",
       "      <td>1.0</td>\n",
       "      <td>1.0</td>\n",
       "      <td>11.27</td>\n",
       "    </tr>\n",
       "    <tr>\n",
       "      <th>1</th>\n",
       "      <td>1.0</td>\n",
       "      <td>1.0</td>\n",
       "      <td>12.30</td>\n",
       "    </tr>\n",
       "    <tr>\n",
       "      <th>2</th>\n",
       "      <td>1.0</td>\n",
       "      <td>1.0</td>\n",
       "      <td>10.80</td>\n",
       "    </tr>\n",
       "    <tr>\n",
       "      <th>3</th>\n",
       "      <td>1.0</td>\n",
       "      <td>1.0</td>\n",
       "      <td>8.16</td>\n",
       "    </tr>\n",
       "    <tr>\n",
       "      <th>4</th>\n",
       "      <td>1.0</td>\n",
       "      <td>2.0</td>\n",
       "      <td>4.80</td>\n",
       "    </tr>\n",
       "  </tbody>\n",
       "</table>\n",
       "</div>"
      ],
      "text/plain": [
       "   passenger_count  payment_type  total_amount\n",
       "0              1.0           1.0         11.27\n",
       "1              1.0           1.0         12.30\n",
       "2              1.0           1.0         10.80\n",
       "3              1.0           1.0          8.16\n",
       "4              1.0           2.0          4.80"
      ]
     },
     "execution_count": 28,
     "metadata": {},
     "output_type": "execute_result"
    }
   ],
   "source": [
    "df.head()"
   ]
  },
  {
   "cell_type": "code",
   "execution_count": 32,
   "id": "5c0b9347",
   "metadata": {},
   "outputs": [
    {
     "name": "stdout",
     "output_type": "stream",
     "text": [
      "Missing values in each column:\n",
      "passenger_count    65441\n",
      "payment_type       65441\n",
      "total_amount           0\n",
      "dtype: int64\n"
     ]
    }
   ],
   "source": [
    "# Check for missing values\n",
    "missing_values = df.isnull().sum()\n",
    "print(\"Missing values in each column:\")\n",
    "print(missing_values)"
   ]
  },
  {
   "cell_type": "code",
   "execution_count": 31,
   "id": "4f22b6b1",
   "metadata": {},
   "outputs": [
    {
     "data": {
      "text/html": [
       "<div>\n",
       "<style scoped>\n",
       "    .dataframe tbody tr th:only-of-type {\n",
       "        vertical-align: middle;\n",
       "    }\n",
       "\n",
       "    .dataframe tbody tr th {\n",
       "        vertical-align: top;\n",
       "    }\n",
       "\n",
       "    .dataframe thead th {\n",
       "        text-align: right;\n",
       "    }\n",
       "</style>\n",
       "<table border=\"1\" class=\"dataframe\">\n",
       "  <thead>\n",
       "    <tr style=\"text-align: right;\">\n",
       "      <th></th>\n",
       "      <th>passenger_count</th>\n",
       "      <th>payment_type</th>\n",
       "      <th>total_amount</th>\n",
       "    </tr>\n",
       "  </thead>\n",
       "  <tbody>\n",
       "    <tr>\n",
       "      <th>6339567</th>\n",
       "      <td>NaN</td>\n",
       "      <td>NaN</td>\n",
       "      <td>54.60</td>\n",
       "    </tr>\n",
       "    <tr>\n",
       "      <th>6339568</th>\n",
       "      <td>NaN</td>\n",
       "      <td>NaN</td>\n",
       "      <td>30.11</td>\n",
       "    </tr>\n",
       "    <tr>\n",
       "      <th>6339569</th>\n",
       "      <td>NaN</td>\n",
       "      <td>NaN</td>\n",
       "      <td>27.91</td>\n",
       "    </tr>\n",
       "    <tr>\n",
       "      <th>6339570</th>\n",
       "      <td>NaN</td>\n",
       "      <td>NaN</td>\n",
       "      <td>29.63</td>\n",
       "    </tr>\n",
       "    <tr>\n",
       "      <th>6339571</th>\n",
       "      <td>NaN</td>\n",
       "      <td>NaN</td>\n",
       "      <td>28.83</td>\n",
       "    </tr>\n",
       "    <tr>\n",
       "      <th>...</th>\n",
       "      <td>...</td>\n",
       "      <td>...</td>\n",
       "      <td>...</td>\n",
       "    </tr>\n",
       "    <tr>\n",
       "      <th>6405003</th>\n",
       "      <td>NaN</td>\n",
       "      <td>NaN</td>\n",
       "      <td>21.14</td>\n",
       "    </tr>\n",
       "    <tr>\n",
       "      <th>6405004</th>\n",
       "      <td>NaN</td>\n",
       "      <td>NaN</td>\n",
       "      <td>62.46</td>\n",
       "    </tr>\n",
       "    <tr>\n",
       "      <th>6405005</th>\n",
       "      <td>NaN</td>\n",
       "      <td>NaN</td>\n",
       "      <td>51.90</td>\n",
       "    </tr>\n",
       "    <tr>\n",
       "      <th>6405006</th>\n",
       "      <td>NaN</td>\n",
       "      <td>NaN</td>\n",
       "      <td>30.22</td>\n",
       "    </tr>\n",
       "    <tr>\n",
       "      <th>6405007</th>\n",
       "      <td>NaN</td>\n",
       "      <td>NaN</td>\n",
       "      <td>58.11</td>\n",
       "    </tr>\n",
       "  </tbody>\n",
       "</table>\n",
       "<p>65441 rows × 3 columns</p>\n",
       "</div>"
      ],
      "text/plain": [
       "         passenger_count  payment_type  total_amount\n",
       "6339567              NaN           NaN         54.60\n",
       "6339568              NaN           NaN         30.11\n",
       "6339569              NaN           NaN         27.91\n",
       "6339570              NaN           NaN         29.63\n",
       "6339571              NaN           NaN         28.83\n",
       "...                  ...           ...           ...\n",
       "6405003              NaN           NaN         21.14\n",
       "6405004              NaN           NaN         62.46\n",
       "6405005              NaN           NaN         51.90\n",
       "6405006              NaN           NaN         30.22\n",
       "6405007              NaN           NaN         58.11\n",
       "\n",
       "[65441 rows x 3 columns]"
      ]
     },
     "execution_count": 31,
     "metadata": {},
     "output_type": "execute_result"
    }
   ],
   "source": [
    "# Identify rows containing NaN values\n",
    "df[df.isnull().any(axis=1)]"
   ]
  },
  {
   "cell_type": "code",
   "execution_count": 35,
   "id": "902c4a6b",
   "metadata": {},
   "outputs": [
    {
     "name": "stdout",
     "output_type": "stream",
     "text": [
      "Number of rows after dropping NaN values: 6339567\n",
      "Missing values after dropping rows with NaN:\n",
      "passenger_count    0\n",
      "payment_type       0\n",
      "total_amount       0\n",
      "dtype: int64\n"
     ]
    }
   ],
   "source": [
    "# Drop rows with NaN values\n",
    "df_cleaned = df.dropna()\n",
    "print(f'Number of rows after dropping NaN values: {df_cleaned.shape[0]}')\n",
    "\n",
    "# Check for missing values after dropping\n",
    "missing_values_cleaned = df_cleaned.isnull().sum()\n",
    "print(\"Missing values after dropping rows with NaN:\")\n",
    "print(missing_values_cleaned)"
   ]
  },
  {
   "cell_type": "code",
   "execution_count": 36,
   "id": "fed155bc",
   "metadata": {},
   "outputs": [],
   "source": [
    "# Set dtype for passenger_count and payment_type to int\n",
    "df['passenger_count'] = df['passenger_count'].astype('Int64')\n",
    "df['payment_type'] = df['payment_type'].astype('Int8')"
   ]
  },
  {
   "cell_type": "code",
   "execution_count": 37,
   "id": "18684741",
   "metadata": {},
   "outputs": [
    {
     "data": {
      "text/plain": [
       "passenger_count      Int64\n",
       "payment_type          Int8\n",
       "total_amount       float64\n",
       "dtype: object"
      ]
     },
     "execution_count": 37,
     "metadata": {},
     "output_type": "execute_result"
    }
   ],
   "source": [
    "df.dtypes"
   ]
  },
  {
   "cell_type": "markdown",
   "id": "a0595d71",
   "metadata": {},
   "source": [
    "### 17.2-3 Data frame from four other columns"
   ]
  },
  {
   "cell_type": "code",
   "execution_count": 42,
   "id": "1c7290c8",
   "metadata": {},
   "outputs": [],
   "source": [
    "df = pd.read_csv('data/nyc_taxi_2020-01.csv',\n",
    "                usecols=['VendorID', 'trip_distance', 'tip_amount', 'total_amount'],\n",
    "                dtype={'VendorID':np.float32,\n",
    "                       'trip_distance':np.float32, \n",
    "                       'tip_amount':np.float32,\n",
    "                       'total_amount':np.float32})"
   ]
  },
  {
   "cell_type": "code",
   "execution_count": 43,
   "id": "ba7ef9b8",
   "metadata": {},
   "outputs": [
    {
     "name": "stdout",
     "output_type": "stream",
     "text": [
      "Missing values in each column:\n",
      "VendorID         65441\n",
      "trip_distance        0\n",
      "tip_amount           0\n",
      "total_amount         0\n",
      "dtype: int64\n"
     ]
    }
   ],
   "source": [
    "# Check for missing values\n",
    "missing_values = df.isnull().sum()\n",
    "print(\"Missing values in each column:\")\n",
    "print(missing_values)"
   ]
  },
  {
   "cell_type": "code",
   "execution_count": 44,
   "id": "d4c54e08",
   "metadata": {},
   "outputs": [
    {
     "name": "stdout",
     "output_type": "stream",
     "text": [
      "Unique VendorIDs: [ 1.  2. nan]\n"
     ]
    }
   ],
   "source": [
    "# Get unique values in VendorID\n",
    "unique_vendor_ids = df['VendorID'].unique()\n",
    "print(f'Unique VendorIDs: {unique_vendor_ids}')"
   ]
  },
  {
   "cell_type": "code",
   "execution_count": 49,
   "id": "61ed29ba",
   "metadata": {},
   "outputs": [
    {
     "name": "stdout",
     "output_type": "stream",
     "text": [
      "Missing values in VendorID: 0\n"
     ]
    }
   ],
   "source": [
    "# Drop rows with NaN values\n",
    "# df = df.dropna().copy()\n",
    "\n",
    "# Fill NaN values with 3.0\n",
    "df['VendorID'] = df['VendorID'].fillna(3.0)\n",
    "\n",
    "# Check for missing values after filling\n",
    "missing_values_filled = df['VendorID'].isnull().sum()\n",
    "print(f\"Missing values in VendorID: {missing_values_filled}\")"
   ]
  },
  {
   "cell_type": "code",
   "execution_count": 50,
   "id": "98167f80",
   "metadata": {},
   "outputs": [],
   "source": [
    "# Set the int type for VendorID to Int8\n",
    "df['VendorID'] = df['VendorID'].astype('Int8')"
   ]
  },
  {
   "cell_type": "markdown",
   "id": "09e424fa",
   "metadata": {},
   "source": [
    "### 17.4 Memory usage"
   ]
  },
  {
   "cell_type": "code",
   "execution_count": 51,
   "id": "00e10c90",
   "metadata": {},
   "outputs": [],
   "source": [
    "df = pd.read_csv('data/nyc_taxi_2020-01.csv',\n",
    "                usecols=['VendorID', 'trip_distance', 'tip_amount', 'total_amount'],\n",
    "                dtype={'VendorID':np.float64,\n",
    "                       'trip_distance':np.float64, \n",
    "                       'tip_amount':np.float64,\n",
    "                       'total_amount':np.float64})"
   ]
  },
  {
   "cell_type": "code",
   "execution_count": 64,
   "id": "3119c44a",
   "metadata": {},
   "outputs": [
    {
     "data": {
      "text/html": [
       "<div>\n",
       "<style scoped>\n",
       "    .dataframe tbody tr th:only-of-type {\n",
       "        vertical-align: middle;\n",
       "    }\n",
       "\n",
       "    .dataframe tbody tr th {\n",
       "        vertical-align: top;\n",
       "    }\n",
       "\n",
       "    .dataframe thead th {\n",
       "        text-align: right;\n",
       "    }\n",
       "</style>\n",
       "<table border=\"1\" class=\"dataframe\">\n",
       "  <thead>\n",
       "    <tr style=\"text-align: right;\">\n",
       "      <th></th>\n",
       "      <th>VendorID</th>\n",
       "      <th>trip_distance</th>\n",
       "      <th>tip_amount</th>\n",
       "      <th>total_amount</th>\n",
       "    </tr>\n",
       "  </thead>\n",
       "  <tbody>\n",
       "    <tr>\n",
       "      <th>0</th>\n",
       "      <td>1.0</td>\n",
       "      <td>1.2</td>\n",
       "      <td>1.47</td>\n",
       "      <td>11.27</td>\n",
       "    </tr>\n",
       "    <tr>\n",
       "      <th>1</th>\n",
       "      <td>1.0</td>\n",
       "      <td>1.2</td>\n",
       "      <td>1.50</td>\n",
       "      <td>12.30</td>\n",
       "    </tr>\n",
       "    <tr>\n",
       "      <th>2</th>\n",
       "      <td>1.0</td>\n",
       "      <td>0.6</td>\n",
       "      <td>1.00</td>\n",
       "      <td>10.80</td>\n",
       "    </tr>\n",
       "    <tr>\n",
       "      <th>3</th>\n",
       "      <td>1.0</td>\n",
       "      <td>0.8</td>\n",
       "      <td>1.36</td>\n",
       "      <td>8.16</td>\n",
       "    </tr>\n",
       "    <tr>\n",
       "      <th>4</th>\n",
       "      <td>2.0</td>\n",
       "      <td>0.0</td>\n",
       "      <td>0.00</td>\n",
       "      <td>4.80</td>\n",
       "    </tr>\n",
       "  </tbody>\n",
       "</table>\n",
       "</div>"
      ],
      "text/plain": [
       "   VendorID  trip_distance  tip_amount  total_amount\n",
       "0       1.0            1.2        1.47         11.27\n",
       "1       1.0            1.2        1.50         12.30\n",
       "2       1.0            0.6        1.00         10.80\n",
       "3       1.0            0.8        1.36          8.16\n",
       "4       2.0            0.0        0.00          4.80"
      ]
     },
     "execution_count": 64,
     "metadata": {},
     "output_type": "execute_result"
    }
   ],
   "source": [
    "df.head()"
   ]
  },
  {
   "cell_type": "code",
   "execution_count": 57,
   "id": "1b4531a5",
   "metadata": {},
   "outputs": [
    {
     "name": "stdout",
     "output_type": "stream",
     "text": [
      "Memory usage with float64: 195 MB\n"
     ]
    }
   ],
   "source": [
    "memory_usage_float_64 = df.memory_usage().sum() / 1024**2  # Memory usage in MB\n",
    "print(f'Memory usage with float64: {memory_usage_float_64:,.0f} MB')"
   ]
  },
  {
   "cell_type": "code",
   "execution_count": 63,
   "id": "1aea1892",
   "metadata": {},
   "outputs": [
    {
     "name": "stdout",
     "output_type": "stream",
     "text": [
      "Maximum values in each column:\n",
      "VendorID: 2.00\n",
      "trip_distance: 210,240.07\n",
      "tip_amount: 1,100.00\n",
      "total_amount: 4,268.30\n"
     ]
    }
   ],
   "source": [
    "# Get the maximum value in all columns\n",
    "max_values = df.max()\n",
    "print(\"Maximum values in each column:\")\n",
    "for col, max_val in max_values.items():\n",
    "    print(f'{col}: {max_val:,.2f}')"
   ]
  },
  {
   "cell_type": "code",
   "execution_count": 70,
   "id": "a89decfa",
   "metadata": {},
   "outputs": [
    {
     "name": "stdout",
     "output_type": "stream",
     "text": [
      "Maximum value for int8: 127\n",
      "Maximum value for int16: 32,767\n",
      "Maximum value for int32: 2,147,483,647\n",
      "Maximum value for int64: 9,223,372,036,854,775,807\n",
      "\n",
      "Maximum values for numpy float types:\n",
      "Maximum value for float16: 65,504.00\n",
      "Maximum value for float32: 340,282,346,638,528,859,811,704,183,484,516,925,440.00\n",
      "Maximum value for float64: 179,769,313,486,231,570,814,527,423,731,704,356,798,070,567,525,844,996,598,917,476,803,157,260,780,028,538,760,589,558,632,766,878,171,540,458,953,514,382,464,234,321,326,889,464,182,768,467,546,703,537,516,986,049,910,576,551,282,076,245,490,090,389,328,944,075,868,508,455,133,942,304,583,236,903,222,948,165,808,559,332,123,348,274,797,826,204,144,723,168,738,177,180,919,299,881,250,404,026,184,124,858,368.00\n"
     ]
    }
   ],
   "source": [
    "# Get the maximum values for numpy integer types\n",
    "types = [np.int8, np.int16, np.int32, np.int64]\n",
    "for t in types:\n",
    "    max_value = np.iinfo(t).max\n",
    "    print(f'Maximum value for {t.__name__}: {max_value:,}')\n",
    "\n",
    "# Get the maximum values for numpy float types\n",
    "print(\"\\nMaximum values for numpy float types:\")\n",
    "float_types = [np.float16, np.float32, np.float64]\n",
    "for t in float_types:\n",
    "    max_value = np.finfo(t).max\n",
    "    print(f'Maximum value for {t.__name__}: {max_value:,.2f}')"
   ]
  },
  {
   "cell_type": "code",
   "execution_count": 72,
   "id": "7c6970c7",
   "metadata": {},
   "outputs": [],
   "source": [
    "# Drop rows with NaN values\n",
    "df_cleaned = df.dropna().copy()\n",
    "\n",
    "# Set an appropriate integer type for all columns\n",
    "df_cleaned['VendorID'] = df_cleaned['VendorID'].astype('Int8')\n",
    "df_cleaned['trip_distance'] = df_cleaned['trip_distance'].astype('float32')\n",
    "df_cleaned['tip_amount'] = df_cleaned['tip_amount'].astype('float16')\n",
    "df_cleaned['total_amount'] = df_cleaned['total_amount'].astype('float16')"
   ]
  },
  {
   "cell_type": "code",
   "execution_count": 76,
   "id": "f9758889",
   "metadata": {},
   "outputs": [
    {
     "name": "stdout",
     "output_type": "stream",
     "text": [
      "Memory usage with float64: 109 MB\n"
     ]
    }
   ],
   "source": [
    "memory_usage_optimized = df_cleaned.memory_usage().sum() / 1024**2  # Memory usage in MB\n",
    "print(f'Memory usage with float64: {memory_usage_optimized:,.0f} MB')"
   ]
  },
  {
   "cell_type": "code",
   "execution_count": 78,
   "id": "41f1c5e4",
   "metadata": {},
   "outputs": [
    {
     "name": "stdout",
     "output_type": "stream",
     "text": [
      "Memory usage for VendorID with float64: 48.87 MB\n",
      "Memory usage for VendorID with Int8: 60.46 MB\n"
     ]
    }
   ],
   "source": [
    "# Compare memory usage before and after optimization for VendorID\n",
    "memory_usage_float_64_vendor = df['VendorID'].memory_usage() / 1024**2  # Memory usage in MB\n",
    "memory_usage_optimized_vendor = df_cleaned['VendorID'].memory_usage() / 1024**2  # Memory usage in MB\n",
    "print(f'Memory usage for VendorID with float64: {memory_usage_float_64_vendor:,.2f} MB')\n",
    "print(f'Memory usage for VendorID with Int8: {memory_usage_optimized_vendor:,.2f} MB')"
   ]
  },
  {
   "cell_type": "markdown",
   "id": "7d2893fa",
   "metadata": {},
   "source": [
    "## EXERCISE 18. `passwd` to df"
   ]
  },
  {
   "cell_type": "markdown",
   "id": "4a12fbc8",
   "metadata": {},
   "source": [
    "### 18.1 Read `passwd` into a dataframe"
   ]
  },
  {
   "cell_type": "code",
   "execution_count": 83,
   "id": "4e64c911",
   "metadata": {},
   "outputs": [],
   "source": [
    "file_name = 'data/linux-etc-passwd.txt'\n",
    "separator = ':' # Separate fields with a colon\n",
    "comment = '#' # Skip lines starting with this character\n",
    "num_lines_to_skip = 2  # Skip the first 2 lines\n",
    "header_line = None # None means no header line\n",
    "column_names = ['username', 'password', 'userid', 'groupid', 'name', 'homedir', 'shell'] # Column names to use\n",
    "index_column = 'username' # Set the index column to 'username'"
   ]
  },
  {
   "cell_type": "code",
   "execution_count": 84,
   "id": "de8fbe5b",
   "metadata": {},
   "outputs": [],
   "source": [
    "df = pd.read_csv(\n",
    "    filepath_or_buffer=file_name,\n",
    "    sep=separator,\n",
    "    comment=comment,\n",
    "    # skiprows=num_lines_to_skip,\n",
    "    header=header_line,\n",
    "    names=column_names,\n",
    "    index_col=index_column\n",
    ")"
   ]
  },
  {
   "cell_type": "code",
   "execution_count": 85,
   "id": "3c47d1fa",
   "metadata": {},
   "outputs": [
    {
     "data": {
      "text/html": [
       "<div>\n",
       "<style scoped>\n",
       "    .dataframe tbody tr th:only-of-type {\n",
       "        vertical-align: middle;\n",
       "    }\n",
       "\n",
       "    .dataframe tbody tr th {\n",
       "        vertical-align: top;\n",
       "    }\n",
       "\n",
       "    .dataframe thead th {\n",
       "        text-align: right;\n",
       "    }\n",
       "</style>\n",
       "<table border=\"1\" class=\"dataframe\">\n",
       "  <thead>\n",
       "    <tr style=\"text-align: right;\">\n",
       "      <th></th>\n",
       "      <th>password</th>\n",
       "      <th>userid</th>\n",
       "      <th>groupid</th>\n",
       "      <th>name</th>\n",
       "      <th>homedir</th>\n",
       "      <th>shell</th>\n",
       "    </tr>\n",
       "    <tr>\n",
       "      <th>username</th>\n",
       "      <th></th>\n",
       "      <th></th>\n",
       "      <th></th>\n",
       "      <th></th>\n",
       "      <th></th>\n",
       "      <th></th>\n",
       "    </tr>\n",
       "  </thead>\n",
       "  <tbody>\n",
       "    <tr>\n",
       "      <th>root</th>\n",
       "      <td>x</td>\n",
       "      <td>0</td>\n",
       "      <td>0</td>\n",
       "      <td>root</td>\n",
       "      <td>/root</td>\n",
       "      <td>/bin/bash</td>\n",
       "    </tr>\n",
       "    <tr>\n",
       "      <th>daemon</th>\n",
       "      <td>x</td>\n",
       "      <td>1</td>\n",
       "      <td>1</td>\n",
       "      <td>daemon</td>\n",
       "      <td>/usr/sbin</td>\n",
       "      <td>/usr/sbin/nologin</td>\n",
       "    </tr>\n",
       "    <tr>\n",
       "      <th>bin</th>\n",
       "      <td>x</td>\n",
       "      <td>2</td>\n",
       "      <td>2</td>\n",
       "      <td>bin</td>\n",
       "      <td>/bin</td>\n",
       "      <td>/usr/sbin/nologin</td>\n",
       "    </tr>\n",
       "    <tr>\n",
       "      <th>sys</th>\n",
       "      <td>x</td>\n",
       "      <td>3</td>\n",
       "      <td>3</td>\n",
       "      <td>sys</td>\n",
       "      <td>/dev</td>\n",
       "      <td>/usr/sbin/nologin</td>\n",
       "    </tr>\n",
       "    <tr>\n",
       "      <th>sync</th>\n",
       "      <td>x</td>\n",
       "      <td>4</td>\n",
       "      <td>65534</td>\n",
       "      <td>sync</td>\n",
       "      <td>/bin</td>\n",
       "      <td>/bin/sync</td>\n",
       "    </tr>\n",
       "  </tbody>\n",
       "</table>\n",
       "</div>"
      ],
      "text/plain": [
       "         password  userid  groupid    name    homedir              shell\n",
       "username                                                                \n",
       "root            x       0        0    root      /root          /bin/bash\n",
       "daemon          x       1        1  daemon  /usr/sbin  /usr/sbin/nologin\n",
       "bin             x       2        2     bin       /bin  /usr/sbin/nologin\n",
       "sys             x       3        3     sys       /dev  /usr/sbin/nologin\n",
       "sync            x       4    65534    sync       /bin          /bin/sync"
      ]
     },
     "execution_count": 85,
     "metadata": {},
     "output_type": "execute_result"
    }
   ],
   "source": [
    "df.head()"
   ]
  },
  {
   "cell_type": "markdown",
   "id": "3df977e8",
   "metadata": {},
   "source": [
    "### 18.2 Ignore the password and groupid fields so they don’t appear in the data frame"
   ]
  },
  {
   "cell_type": "code",
   "execution_count": 96,
   "id": "10adbb93",
   "metadata": {},
   "outputs": [],
   "source": [
    "file_name = 'data/linux-etc-passwd.txt'\n",
    "separator = ':' # Separate fields with a colon\n",
    "comment = '#' # Skip lines starting with this character\n",
    "num_lines_to_skip = 2  # Skip the first 2 lines\n",
    "header_line = None # None means no header line\n",
    "column_names = ['username', 'password', 'userid', 'groupid', 'name', 'homedir', 'shell'] # Column names to use\n",
    "index_column = 'username' # Set the index column to 'username'"
   ]
  },
  {
   "cell_type": "code",
   "execution_count": 97,
   "id": "0dbb2ab1",
   "metadata": {},
   "outputs": [],
   "source": [
    "columns_to_drop = ['password', 'groupid']  # Columns to drop"
   ]
  },
  {
   "cell_type": "code",
   "execution_count": 98,
   "id": "d267e4d4",
   "metadata": {},
   "outputs": [],
   "source": [
    "df = pd.read_csv(\n",
    "    filepath_or_buffer=file_name,\n",
    "    sep=separator,\n",
    "    comment=comment,\n",
    "    # skiprows=num_lines_to_skip,\n",
    "    header=header_line,\n",
    "    names=column_names,\n",
    "    index_col=index_column\n",
    ")"
   ]
  },
  {
   "cell_type": "code",
   "execution_count": 99,
   "id": "1c38b6c2",
   "metadata": {},
   "outputs": [],
   "source": [
    "df = df.drop(columns=columns_to_drop)"
   ]
  },
  {
   "cell_type": "code",
   "execution_count": 100,
   "id": "be42e3d8",
   "metadata": {},
   "outputs": [
    {
     "data": {
      "text/html": [
       "<div>\n",
       "<style scoped>\n",
       "    .dataframe tbody tr th:only-of-type {\n",
       "        vertical-align: middle;\n",
       "    }\n",
       "\n",
       "    .dataframe tbody tr th {\n",
       "        vertical-align: top;\n",
       "    }\n",
       "\n",
       "    .dataframe thead th {\n",
       "        text-align: right;\n",
       "    }\n",
       "</style>\n",
       "<table border=\"1\" class=\"dataframe\">\n",
       "  <thead>\n",
       "    <tr style=\"text-align: right;\">\n",
       "      <th></th>\n",
       "      <th>userid</th>\n",
       "      <th>name</th>\n",
       "      <th>homedir</th>\n",
       "      <th>shell</th>\n",
       "    </tr>\n",
       "    <tr>\n",
       "      <th>username</th>\n",
       "      <th></th>\n",
       "      <th></th>\n",
       "      <th></th>\n",
       "      <th></th>\n",
       "    </tr>\n",
       "  </thead>\n",
       "  <tbody>\n",
       "    <tr>\n",
       "      <th>root</th>\n",
       "      <td>0</td>\n",
       "      <td>root</td>\n",
       "      <td>/root</td>\n",
       "      <td>/bin/bash</td>\n",
       "    </tr>\n",
       "    <tr>\n",
       "      <th>daemon</th>\n",
       "      <td>1</td>\n",
       "      <td>daemon</td>\n",
       "      <td>/usr/sbin</td>\n",
       "      <td>/usr/sbin/nologin</td>\n",
       "    </tr>\n",
       "    <tr>\n",
       "      <th>bin</th>\n",
       "      <td>2</td>\n",
       "      <td>bin</td>\n",
       "      <td>/bin</td>\n",
       "      <td>/usr/sbin/nologin</td>\n",
       "    </tr>\n",
       "    <tr>\n",
       "      <th>sys</th>\n",
       "      <td>3</td>\n",
       "      <td>sys</td>\n",
       "      <td>/dev</td>\n",
       "      <td>/usr/sbin/nologin</td>\n",
       "    </tr>\n",
       "    <tr>\n",
       "      <th>sync</th>\n",
       "      <td>4</td>\n",
       "      <td>sync</td>\n",
       "      <td>/bin</td>\n",
       "      <td>/bin/sync</td>\n",
       "    </tr>\n",
       "  </tbody>\n",
       "</table>\n",
       "</div>"
      ],
      "text/plain": [
       "          userid    name    homedir              shell\n",
       "username                                              \n",
       "root           0    root      /root          /bin/bash\n",
       "daemon         1  daemon  /usr/sbin  /usr/sbin/nologin\n",
       "bin            2     bin       /bin  /usr/sbin/nologin\n",
       "sys            3     sys       /dev  /usr/sbin/nologin\n",
       "sync           4    sync       /bin          /bin/sync"
      ]
     },
     "execution_count": 100,
     "metadata": {},
     "output_type": "execute_result"
    }
   ],
   "source": [
    "df.head()"
   ]
  },
  {
   "cell_type": "code",
   "execution_count": 106,
   "id": "8cc06441",
   "metadata": {},
   "outputs": [
    {
     "data": {
      "text/plain": [
       "['username', 'userid', 'name', 'homedir', 'shell']"
      ]
     },
     "execution_count": 106,
     "metadata": {},
     "output_type": "execute_result"
    }
   ],
   "source": [
    "usecolumn = [col for col in column_names if col not in columns_to_drop ]\n",
    "usecolumn"
   ]
  },
  {
   "cell_type": "code",
   "execution_count": 107,
   "id": "5b71f6d0",
   "metadata": {},
   "outputs": [],
   "source": [
    "df = pd.read_csv(\n",
    "    filepath_or_buffer=file_name,\n",
    "    sep=separator,\n",
    "    comment=comment,\n",
    "    # skiprows=num_lines_to_skip,\n",
    "    header=header_line,\n",
    "    usecols=usecolumn,\n",
    "    names=column_names,\n",
    "    index_col=index_column\n",
    ")"
   ]
  },
  {
   "cell_type": "code",
   "execution_count": 108,
   "id": "b3a712a9",
   "metadata": {},
   "outputs": [
    {
     "data": {
      "text/html": [
       "<div>\n",
       "<style scoped>\n",
       "    .dataframe tbody tr th:only-of-type {\n",
       "        vertical-align: middle;\n",
       "    }\n",
       "\n",
       "    .dataframe tbody tr th {\n",
       "        vertical-align: top;\n",
       "    }\n",
       "\n",
       "    .dataframe thead th {\n",
       "        text-align: right;\n",
       "    }\n",
       "</style>\n",
       "<table border=\"1\" class=\"dataframe\">\n",
       "  <thead>\n",
       "    <tr style=\"text-align: right;\">\n",
       "      <th></th>\n",
       "      <th>userid</th>\n",
       "      <th>name</th>\n",
       "      <th>homedir</th>\n",
       "      <th>shell</th>\n",
       "    </tr>\n",
       "    <tr>\n",
       "      <th>username</th>\n",
       "      <th></th>\n",
       "      <th></th>\n",
       "      <th></th>\n",
       "      <th></th>\n",
       "    </tr>\n",
       "  </thead>\n",
       "  <tbody>\n",
       "    <tr>\n",
       "      <th>root</th>\n",
       "      <td>0</td>\n",
       "      <td>root</td>\n",
       "      <td>/root</td>\n",
       "      <td>/bin/bash</td>\n",
       "    </tr>\n",
       "    <tr>\n",
       "      <th>daemon</th>\n",
       "      <td>1</td>\n",
       "      <td>daemon</td>\n",
       "      <td>/usr/sbin</td>\n",
       "      <td>/usr/sbin/nologin</td>\n",
       "    </tr>\n",
       "    <tr>\n",
       "      <th>bin</th>\n",
       "      <td>2</td>\n",
       "      <td>bin</td>\n",
       "      <td>/bin</td>\n",
       "      <td>/usr/sbin/nologin</td>\n",
       "    </tr>\n",
       "    <tr>\n",
       "      <th>sys</th>\n",
       "      <td>3</td>\n",
       "      <td>sys</td>\n",
       "      <td>/dev</td>\n",
       "      <td>/usr/sbin/nologin</td>\n",
       "    </tr>\n",
       "    <tr>\n",
       "      <th>sync</th>\n",
       "      <td>4</td>\n",
       "      <td>sync</td>\n",
       "      <td>/bin</td>\n",
       "      <td>/bin/sync</td>\n",
       "    </tr>\n",
       "  </tbody>\n",
       "</table>\n",
       "</div>"
      ],
      "text/plain": [
       "          userid    name    homedir              shell\n",
       "username                                              \n",
       "root           0    root      /root          /bin/bash\n",
       "daemon         1  daemon  /usr/sbin  /usr/sbin/nologin\n",
       "bin            2     bin       /bin  /usr/sbin/nologin\n",
       "sys            3     sys       /dev  /usr/sbin/nologin\n",
       "sync           4    sync       /bin          /bin/sync"
      ]
     },
     "execution_count": 108,
     "metadata": {},
     "output_type": "execute_result"
    }
   ],
   "source": [
    "df.head()"
   ]
  },
  {
   "cell_type": "markdown",
   "id": "5d83d5e0",
   "metadata": {},
   "source": [
    "### 18.3 Nonspecial usernames"
   ]
  },
  {
   "cell_type": "code",
   "execution_count": 118,
   "id": "dd90fafa",
   "metadata": {},
   "outputs": [
    {
     "name": "stdout",
     "output_type": "stream",
     "text": [
      "username:nobody, userid:65534\n",
      "username:user, userid:1000\n",
      "username:reuven, userid:1001\n",
      "username:genadi, userid:1002\n",
      "username:shira, userid:1003\n",
      "username:atara, userid:1004\n",
      "username:shikma, userid:1005\n",
      "username:amotz, userid:1006\n",
      "username:git, userid:1007\n",
      "username:deploy, userid:1008\n"
     ]
    }
   ],
   "source": [
    "# Unix systems typically reserve user IDs below 1000 to special accounts. Show the\n",
    "# nonspecial usernames in this passwd file.\n",
    "mask_nonspecial = df['userid'] >= 1000\n",
    "nonspecial_usernames = df.loc[mask_nonspecial, 'userid']\n",
    "for username, userid in nonspecial_usernames.items():\n",
    "    print(f\"username:{username}, userid:{userid}\")"
   ]
  },
  {
   "cell_type": "markdown",
   "id": "394c0530",
   "metadata": {},
   "source": [
    "### 18.4 Different shells in this file"
   ]
  },
  {
   "cell_type": "code",
   "execution_count": 119,
   "id": "eecd89fb",
   "metadata": {},
   "outputs": [
    {
     "data": {
      "text/html": [
       "<div>\n",
       "<style scoped>\n",
       "    .dataframe tbody tr th:only-of-type {\n",
       "        vertical-align: middle;\n",
       "    }\n",
       "\n",
       "    .dataframe tbody tr th {\n",
       "        vertical-align: top;\n",
       "    }\n",
       "\n",
       "    .dataframe thead th {\n",
       "        text-align: right;\n",
       "    }\n",
       "</style>\n",
       "<table border=\"1\" class=\"dataframe\">\n",
       "  <thead>\n",
       "    <tr style=\"text-align: right;\">\n",
       "      <th></th>\n",
       "      <th>userid</th>\n",
       "      <th>name</th>\n",
       "      <th>homedir</th>\n",
       "      <th>shell</th>\n",
       "    </tr>\n",
       "    <tr>\n",
       "      <th>username</th>\n",
       "      <th></th>\n",
       "      <th></th>\n",
       "      <th></th>\n",
       "      <th></th>\n",
       "    </tr>\n",
       "  </thead>\n",
       "  <tbody>\n",
       "    <tr>\n",
       "      <th>root</th>\n",
       "      <td>0</td>\n",
       "      <td>root</td>\n",
       "      <td>/root</td>\n",
       "      <td>/bin/bash</td>\n",
       "    </tr>\n",
       "    <tr>\n",
       "      <th>daemon</th>\n",
       "      <td>1</td>\n",
       "      <td>daemon</td>\n",
       "      <td>/usr/sbin</td>\n",
       "      <td>/usr/sbin/nologin</td>\n",
       "    </tr>\n",
       "    <tr>\n",
       "      <th>bin</th>\n",
       "      <td>2</td>\n",
       "      <td>bin</td>\n",
       "      <td>/bin</td>\n",
       "      <td>/usr/sbin/nologin</td>\n",
       "    </tr>\n",
       "    <tr>\n",
       "      <th>sys</th>\n",
       "      <td>3</td>\n",
       "      <td>sys</td>\n",
       "      <td>/dev</td>\n",
       "      <td>/usr/sbin/nologin</td>\n",
       "    </tr>\n",
       "    <tr>\n",
       "      <th>sync</th>\n",
       "      <td>4</td>\n",
       "      <td>sync</td>\n",
       "      <td>/bin</td>\n",
       "      <td>/bin/sync</td>\n",
       "    </tr>\n",
       "  </tbody>\n",
       "</table>\n",
       "</div>"
      ],
      "text/plain": [
       "          userid    name    homedir              shell\n",
       "username                                              \n",
       "root           0    root      /root          /bin/bash\n",
       "daemon         1  daemon  /usr/sbin  /usr/sbin/nologin\n",
       "bin            2     bin       /bin  /usr/sbin/nologin\n",
       "sys            3     sys       /dev  /usr/sbin/nologin\n",
       "sync           4    sync       /bin          /bin/sync"
      ]
     },
     "execution_count": 119,
     "metadata": {},
     "output_type": "execute_result"
    }
   ],
   "source": [
    "df.head()"
   ]
  },
  {
   "cell_type": "code",
   "execution_count": 120,
   "id": "0fc6b27a",
   "metadata": {},
   "outputs": [
    {
     "data": {
      "text/plain": [
       "array(['/bin/bash', '/usr/sbin/nologin', '/bin/sync', '/bin/false',\n",
       "       '/bin/sh', '/bin/nologin'], dtype=object)"
      ]
     },
     "execution_count": 120,
     "metadata": {},
     "output_type": "execute_result"
    }
   ],
   "source": [
    "df['shell'].unique()"
   ]
  },
  {
   "cell_type": "code",
   "execution_count": 121,
   "id": "78e90d74",
   "metadata": {},
   "outputs": [
    {
     "data": {
      "text/plain": [
       "username\n",
       "root                    /bin/bash\n",
       "daemon          /usr/sbin/nologin\n",
       "sync                    /bin/sync\n",
       "syslog                 /bin/false\n",
       "debian-spamd              /bin/sh\n",
       "gitlab-redis         /bin/nologin\n",
       "Name: shell, dtype: object"
      ]
     },
     "execution_count": 121,
     "metadata": {},
     "output_type": "execute_result"
    }
   ],
   "source": [
    "df['shell'].drop_duplicates()"
   ]
  },
  {
   "cell_type": "markdown",
   "id": "a5dc8220",
   "metadata": {},
   "source": [
    "## EXERCISE 19. Bitcoin values"
   ]
  },
  {
   "cell_type": "markdown",
   "id": "a2dae3a7",
   "metadata": {},
   "source": [
    "### 19.1 Prices for Bitcoin"
   ]
  },
  {
   "cell_type": "code",
   "execution_count": 132,
   "id": "c17be865",
   "metadata": {},
   "outputs": [],
   "source": [
    "url_bitcoin = 'https://api.blockchain.info/charts/market-price?format=csv'\n",
    "\n",
    "df = pd.read_csv(filepath_or_buffer=url_bitcoin,\n",
    "                 header=None,  # No header row in the CSV\n",
    "                 names=['timestamp', 'price'],  # Assign column names\n",
    "                 parse_dates=['timestamp']  # Parse the timestamp column as datetime\n",
    "                 )"
   ]
  },
  {
   "cell_type": "code",
   "execution_count": 133,
   "id": "32b44036",
   "metadata": {},
   "outputs": [],
   "source": [
    "# Format the price column to two decimal places and add a comma as a thousands separator\n",
    "pd.options.display.float_format = '{:,.2f}'.format"
   ]
  },
  {
   "cell_type": "code",
   "execution_count": 134,
   "id": "801d6c74",
   "metadata": {},
   "outputs": [
    {
     "data": {
      "text/html": [
       "<div>\n",
       "<style scoped>\n",
       "    .dataframe tbody tr th:only-of-type {\n",
       "        vertical-align: middle;\n",
       "    }\n",
       "\n",
       "    .dataframe tbody tr th {\n",
       "        vertical-align: top;\n",
       "    }\n",
       "\n",
       "    .dataframe thead th {\n",
       "        text-align: right;\n",
       "    }\n",
       "</style>\n",
       "<table border=\"1\" class=\"dataframe\">\n",
       "  <thead>\n",
       "    <tr style=\"text-align: right;\">\n",
       "      <th></th>\n",
       "      <th>timestamp</th>\n",
       "      <th>price</th>\n",
       "    </tr>\n",
       "  </thead>\n",
       "  <tbody>\n",
       "    <tr>\n",
       "      <th>0</th>\n",
       "      <td>2024-07-01</td>\n",
       "      <td>62,676.36</td>\n",
       "    </tr>\n",
       "    <tr>\n",
       "      <th>1</th>\n",
       "      <td>2024-07-02</td>\n",
       "      <td>62,845.12</td>\n",
       "    </tr>\n",
       "    <tr>\n",
       "      <th>2</th>\n",
       "      <td>2024-07-03</td>\n",
       "      <td>62,028.38</td>\n",
       "    </tr>\n",
       "    <tr>\n",
       "      <th>3</th>\n",
       "      <td>2024-07-04</td>\n",
       "      <td>60,145.84</td>\n",
       "    </tr>\n",
       "    <tr>\n",
       "      <th>4</th>\n",
       "      <td>2024-07-05</td>\n",
       "      <td>57,034.05</td>\n",
       "    </tr>\n",
       "  </tbody>\n",
       "</table>\n",
       "</div>"
      ],
      "text/plain": [
       "   timestamp     price\n",
       "0 2024-07-01 62,676.36\n",
       "1 2024-07-02 62,845.12\n",
       "2 2024-07-03 62,028.38\n",
       "3 2024-07-04 60,145.84\n",
       "4 2024-07-05 57,034.05"
      ]
     },
     "execution_count": 134,
     "metadata": {},
     "output_type": "execute_result"
    }
   ],
   "source": [
    "df.head()"
   ]
  },
  {
   "cell_type": "code",
   "execution_count": 135,
   "id": "d109b4fb",
   "metadata": {},
   "outputs": [
    {
     "data": {
      "text/plain": [
       "((366, 2),\n",
       " timestamp    datetime64[ns]\n",
       " price               float64\n",
       " dtype: object)"
      ]
     },
     "execution_count": 135,
     "metadata": {},
     "output_type": "execute_result"
    }
   ],
   "source": [
    "df.shape, df.dtypes"
   ]
  },
  {
   "cell_type": "code",
   "execution_count": 137,
   "id": "41add616",
   "metadata": {},
   "outputs": [
    {
     "name": "stdout",
     "output_type": "stream",
     "text": [
      "Closing price for the most recent trading day: $107,130.31\n"
     ]
    }
   ],
   "source": [
    "# The closing price for the most recent trading day\n",
    "closing_price = df['price'].iloc[-1]\n",
    "print(f'Closing price for the most recent trading day: ${closing_price:,.2f}')"
   ]
  },
  {
   "cell_type": "code",
   "execution_count": 138,
   "id": "f56ee925",
   "metadata": {},
   "outputs": [
    {
     "name": "stdout",
     "output_type": "stream",
     "text": [
      "Lowest historical price: $53,951.72 on 2024-09-07\n"
     ]
    }
   ],
   "source": [
    "# The lowest historical price and the date of that price\n",
    "min_price = df['price'].min()\n",
    "min_price_date = df.loc[df['price'] == min_price, 'timestamp'].iloc[0]\n",
    "print(f'Lowest historical price: ${min_price:,.2f} on {min_price_date.date()}')"
   ]
  },
  {
   "cell_type": "code",
   "execution_count": 139,
   "id": "43050662",
   "metadata": {},
   "outputs": [
    {
     "name": "stdout",
     "output_type": "stream",
     "text": [
      "Highest historical price: $111,722.19 on 2025-05-23\n"
     ]
    }
   ],
   "source": [
    "# The highest historical price and the date of that price\n",
    "max_price = df['price'].max()\n",
    "max_price_date = df.loc[df['price'] == max_price, 'timestamp'].iloc[0]\n",
    "print(f'Highest historical price: ${max_price:,.2f} on {max_price_date.date()}')"
   ]
  },
  {
   "cell_type": "markdown",
   "id": "1256569f",
   "metadata": {},
   "source": [
    "### 19.2 Without assigning the downloaded data to an interim variable, can you return the current value? "
   ]
  },
  {
   "cell_type": "code",
   "execution_count": 140,
   "id": "21ee4d68",
   "metadata": {},
   "outputs": [
    {
     "data": {
      "text/plain": [
       "np.float64(107130.31)"
      ]
     },
     "execution_count": 140,
     "metadata": {},
     "output_type": "execute_result"
    }
   ],
   "source": [
    "# Return the current value without assigning the downloaded data to an interim variable\n",
    "pd.read_csv(filepath_or_buffer=url_bitcoin,\n",
    "            header=None,  # No header row in the CSV\n",
    "            names=['timestamp', 'price'],  # Assign column names\n",
    "            parse_dates=['timestamp']  # Parse the timestamp column as datetime\n",
    "            )['price'].iloc[-1]"
   ]
  },
  {
   "cell_type": "markdown",
   "id": "bbeb7453",
   "metadata": {},
   "source": [
    "### 19.3 Retrieve 1 year of historical S&P 500 data from Yahoo Finance"
   ]
  },
  {
   "cell_type": "code",
   "execution_count": 152,
   "id": "5a3c9d7e",
   "metadata": {},
   "outputs": [],
   "source": [
    "url = \"https://en.wikipedia.org/wiki/List_of_countries_by_GDP_(nominal)\"\n",
    "tables = pd.read_html(url)# The third table is usually the main one"
   ]
  },
  {
   "cell_type": "code",
   "execution_count": 158,
   "id": "43f4ecff",
   "metadata": {},
   "outputs": [
    {
     "name": "stdout",
     "output_type": "stream",
     "text": [
      "Table 0: type=<class 'pandas.core.frame.DataFrame'>, shape=(1, 1)\n",
      "Table 1: type=<class 'pandas.core.frame.DataFrame'>, shape=(1, 3)\n",
      "Table 2: type=<class 'pandas.core.frame.DataFrame'>, shape=(214, 7)\n",
      "Table 3: type=<class 'pandas.core.frame.DataFrame'>, shape=(9, 2)\n",
      "Table 4: type=<class 'pandas.core.frame.DataFrame'>, shape=(8, 2)\n",
      "Table 5: type=<class 'pandas.core.frame.DataFrame'>, shape=(13, 2)\n",
      "Table 6: type=<class 'pandas.core.frame.DataFrame'>, shape=(2, 2)\n",
      "Table 0:                                                    0\n",
      "0  Largest economies in the world by GDP (nominal...\n",
      "Table 1:                                                    0  \\\n",
      "0  > $20 trillion $10–20 trillion $5–10 trillion ...   \n",
      "\n",
      "                                                   1  \\\n",
      "0  $750 billion – $1 trillion $500–750 billion $2...   \n",
      "\n",
      "                                                   2  \n",
      "0  $50–100 billion $25–50 billion $5–25 billion <...  \n",
      "Table 2:   Country/Territory IMF[1][12]            World Bank[13]             \\\n",
      "  Country/Territory   Forecast       Year       Estimate       Year   \n",
      "0             World  113795678       2025      105435540       2023   \n",
      "1     United States   30507217       2025       27360935       2023   \n",
      "2             China   19231705  [n 1]2025       17794782  [n 3]2023   \n",
      "3           Germany    4744804       2025        4456081       2023   \n",
      "4             India    4187017       2025        3549919       2023   \n",
      "\n",
      "  United Nations[14]             \n",
      "            Estimate       Year  \n",
      "0          100834796       2022  \n",
      "1           27720700       2023  \n",
      "2           17794782  [n 1]2023  \n",
      "3            4525704       2023  \n",
      "4            3575778       2023  \n",
      "Table 3:   vteLists of countries by financial rankings  \\\n",
      "0                                       Trade   \n",
      "1                                  Investment   \n",
      "2                                       Funds   \n",
      "3                             Budget and debt   \n",
      "4                            Income and taxes   \n",
      "\n",
      "       vteLists of countries by financial rankings.1  \n",
      "0  Account balance Exports by product merchandise...  \n",
      "1                   FDI received past FDI abroad GFI  \n",
      "2  Forex reserves Gold reserves Sovereign wealth ...  \n",
      "3  Government budget PPP % of GDP per capita Cred...  \n",
      "4  Wage average Disposable minimum Wage growth GN...  \n",
      "Table 4:   vteLists of countries by GDP rankings  \\\n",
      "0                               Nominal   \n",
      "1         Purchasing power parity (PPP)   \n",
      "2                            Per capita   \n",
      "3                            GDP growth   \n",
      "4           Gross national income (GNI)   \n",
      "\n",
      "             vteLists of countries by GDP rankings.1  \n",
      "0  GDP (nominal) Past and projected Sector compos...  \n",
      "1  GDP (PPP) Past Past and projected Ten largest ...  \n",
      "2  nominal GDP Past and projected GDP (PPP) by re...  \n",
      "3  real GDP growth rate African countries Asian s...  \n",
      "4  PPP per capita Nominal per capita Real income ...  \n",
      "Table 5:              vteEconomic classification of countries  \\\n",
      "0  Developed country Developing country Heavily i...   \n",
      "1                             Three/Four-World Model   \n",
      "2                       Gross domestic product (GDP)   \n",
      "3                                            Nominal   \n",
      "4                      Purchasing power parity (PPP)   \n",
      "\n",
      "           vteEconomic classification of countries.1  \n",
      "0  Developed country Developing country Heavily i...  \n",
      "1  First World Second World Third World Fourth World  \n",
      "2  Nominal By country past and projected per capi...  \n",
      "3  By country past and projected per capita per c...  \n",
      "4  By country future estimates per capita per cap...  \n",
      "Table 6:                                0  \\\n",
      "0                        Nominal   \n",
      "1  Purchasing power parity (PPP)   \n",
      "\n",
      "                                                   1  \n",
      "0  By country past and projected per capita per c...  \n",
      "1  By country future estimates per capita per cap...  \n"
     ]
    }
   ],
   "source": [
    "type(tables), len(tables)\n",
    "\n",
    "for i, table in enumerate(tables):\n",
    "    print(f\"Table {i}: type={type(table)}, shape={table.shape}\")\n",
    "\n",
    "for i, table in enumerate(tables):\n",
    "    print(f\"Table {i}: {table.head()}\")"
   ]
  },
  {
   "cell_type": "code",
   "execution_count": 159,
   "id": "eb8f336f",
   "metadata": {},
   "outputs": [
    {
     "data": {
      "text/html": [
       "<div>\n",
       "<style scoped>\n",
       "    .dataframe tbody tr th:only-of-type {\n",
       "        vertical-align: middle;\n",
       "    }\n",
       "\n",
       "    .dataframe tbody tr th {\n",
       "        vertical-align: top;\n",
       "    }\n",
       "\n",
       "    .dataframe thead tr th {\n",
       "        text-align: left;\n",
       "    }\n",
       "</style>\n",
       "<table border=\"1\" class=\"dataframe\">\n",
       "  <thead>\n",
       "    <tr>\n",
       "      <th></th>\n",
       "      <th>Country/Territory</th>\n",
       "      <th colspan=\"2\" halign=\"left\">IMF[1][12]</th>\n",
       "      <th colspan=\"2\" halign=\"left\">World Bank[13]</th>\n",
       "      <th colspan=\"2\" halign=\"left\">United Nations[14]</th>\n",
       "    </tr>\n",
       "    <tr>\n",
       "      <th></th>\n",
       "      <th>Country/Territory</th>\n",
       "      <th>Forecast</th>\n",
       "      <th>Year</th>\n",
       "      <th>Estimate</th>\n",
       "      <th>Year</th>\n",
       "      <th>Estimate</th>\n",
       "      <th>Year</th>\n",
       "    </tr>\n",
       "  </thead>\n",
       "  <tbody>\n",
       "    <tr>\n",
       "      <th>0</th>\n",
       "      <td>World</td>\n",
       "      <td>113795678</td>\n",
       "      <td>2025</td>\n",
       "      <td>105435540</td>\n",
       "      <td>2023</td>\n",
       "      <td>100834796</td>\n",
       "      <td>2022</td>\n",
       "    </tr>\n",
       "    <tr>\n",
       "      <th>1</th>\n",
       "      <td>United States</td>\n",
       "      <td>30507217</td>\n",
       "      <td>2025</td>\n",
       "      <td>27360935</td>\n",
       "      <td>2023</td>\n",
       "      <td>27720700</td>\n",
       "      <td>2023</td>\n",
       "    </tr>\n",
       "    <tr>\n",
       "      <th>2</th>\n",
       "      <td>China</td>\n",
       "      <td>19231705</td>\n",
       "      <td>[n 1]2025</td>\n",
       "      <td>17794782</td>\n",
       "      <td>[n 3]2023</td>\n",
       "      <td>17794782</td>\n",
       "      <td>[n 1]2023</td>\n",
       "    </tr>\n",
       "    <tr>\n",
       "      <th>3</th>\n",
       "      <td>Germany</td>\n",
       "      <td>4744804</td>\n",
       "      <td>2025</td>\n",
       "      <td>4456081</td>\n",
       "      <td>2023</td>\n",
       "      <td>4525704</td>\n",
       "      <td>2023</td>\n",
       "    </tr>\n",
       "    <tr>\n",
       "      <th>4</th>\n",
       "      <td>India</td>\n",
       "      <td>4187017</td>\n",
       "      <td>2025</td>\n",
       "      <td>3549919</td>\n",
       "      <td>2023</td>\n",
       "      <td>3575778</td>\n",
       "      <td>2023</td>\n",
       "    </tr>\n",
       "  </tbody>\n",
       "</table>\n",
       "</div>"
      ],
      "text/plain": [
       "  Country/Territory IMF[1][12]            World Bank[13]             \\\n",
       "  Country/Territory   Forecast       Year       Estimate       Year   \n",
       "0             World  113795678       2025      105435540       2023   \n",
       "1     United States   30507217       2025       27360935       2023   \n",
       "2             China   19231705  [n 1]2025       17794782  [n 3]2023   \n",
       "3           Germany    4744804       2025        4456081       2023   \n",
       "4             India    4187017       2025        3549919       2023   \n",
       "\n",
       "  United Nations[14]             \n",
       "            Estimate       Year  \n",
       "0          100834796       2022  \n",
       "1           27720700       2023  \n",
       "2           17794782  [n 1]2023  \n",
       "3            4525704       2023  \n",
       "4            3575778       2023  "
      ]
     },
     "execution_count": 159,
     "metadata": {},
     "output_type": "execute_result"
    }
   ],
   "source": [
    "df = tables[2]  # The third table is usually the main one\n",
    "df.head()"
   ]
  },
  {
   "cell_type": "code",
   "execution_count": 160,
   "id": "ddc3e431",
   "metadata": {},
   "outputs": [
    {
     "data": {
      "text/plain": [
       "(214, 7)"
      ]
     },
     "execution_count": 160,
     "metadata": {},
     "output_type": "execute_result"
    }
   ],
   "source": [
    "df.shape"
   ]
  },
  {
   "cell_type": "code",
   "execution_count": 161,
   "id": "2e383c40",
   "metadata": {},
   "outputs": [
    {
     "data": {
      "text/plain": [
       "MultiIndex([( 'Country/Territory', 'Country/Territory'),\n",
       "            (        'IMF[1][12]',          'Forecast'),\n",
       "            (        'IMF[1][12]',              'Year'),\n",
       "            (    'World Bank[13]',          'Estimate'),\n",
       "            (    'World Bank[13]',              'Year'),\n",
       "            ('United Nations[14]',          'Estimate'),\n",
       "            ('United Nations[14]',              'Year')],\n",
       "           )"
      ]
     },
     "execution_count": 161,
     "metadata": {},
     "output_type": "execute_result"
    }
   ],
   "source": [
    "df.columns"
   ]
  },
  {
   "cell_type": "code",
   "execution_count": 162,
   "id": "7ad67451",
   "metadata": {},
   "outputs": [],
   "source": [
    "import re\n",
    "\n",
    "# Clean the first level of the MultiIndex\n",
    "new_level_0 = [re.sub(r'\\[.*?\\]', '', col[0]).strip() for col in df.columns]\n",
    "# Keep the second level as is (or clean if you want)\n",
    "new_level_1 = [col[1] for col in df.columns]\n",
    "\n",
    "# Assign new MultiIndex to columns\n",
    "df.columns = pd.MultiIndex.from_tuples(zip(new_level_0, new_level_1))"
   ]
  },
  {
   "cell_type": "code",
   "execution_count": 163,
   "id": "14d5bf44",
   "metadata": {},
   "outputs": [
    {
     "data": {
      "text/plain": [
       "MultiIndex([('Country/Territory', 'Country/Territory'),\n",
       "            (              'IMF',          'Forecast'),\n",
       "            (              'IMF',              'Year'),\n",
       "            (       'World Bank',          'Estimate'),\n",
       "            (       'World Bank',              'Year'),\n",
       "            (   'United Nations',          'Estimate'),\n",
       "            (   'United Nations',              'Year')],\n",
       "           )"
      ]
     },
     "execution_count": 163,
     "metadata": {},
     "output_type": "execute_result"
    }
   ],
   "source": [
    "df.columns"
   ]
  },
  {
   "cell_type": "code",
   "execution_count": 173,
   "id": "736a4e47",
   "metadata": {},
   "outputs": [
    {
     "data": {
      "text/html": [
       "<div>\n",
       "<style scoped>\n",
       "    .dataframe tbody tr th:only-of-type {\n",
       "        vertical-align: middle;\n",
       "    }\n",
       "\n",
       "    .dataframe tbody tr th {\n",
       "        vertical-align: top;\n",
       "    }\n",
       "\n",
       "    .dataframe thead tr th {\n",
       "        text-align: left;\n",
       "    }\n",
       "</style>\n",
       "<table border=\"1\" class=\"dataframe\">\n",
       "  <thead>\n",
       "    <tr>\n",
       "      <th></th>\n",
       "      <th>Country/Territory</th>\n",
       "      <th colspan=\"2\" halign=\"left\">IMF</th>\n",
       "      <th colspan=\"2\" halign=\"left\">World Bank</th>\n",
       "      <th colspan=\"2\" halign=\"left\">United Nations</th>\n",
       "    </tr>\n",
       "    <tr>\n",
       "      <th></th>\n",
       "      <th>Country/Territory</th>\n",
       "      <th>Forecast</th>\n",
       "      <th>Year</th>\n",
       "      <th>Estimate</th>\n",
       "      <th>Year</th>\n",
       "      <th>Estimate</th>\n",
       "      <th>Year</th>\n",
       "    </tr>\n",
       "  </thead>\n",
       "  <tbody>\n",
       "    <tr>\n",
       "      <th>0</th>\n",
       "      <td>World</td>\n",
       "      <td>113795678</td>\n",
       "      <td>2025</td>\n",
       "      <td>105435540</td>\n",
       "      <td>2023</td>\n",
       "      <td>100834796</td>\n",
       "      <td>2022</td>\n",
       "    </tr>\n",
       "    <tr>\n",
       "      <th>1</th>\n",
       "      <td>United States</td>\n",
       "      <td>30507217</td>\n",
       "      <td>2025</td>\n",
       "      <td>27360935</td>\n",
       "      <td>2023</td>\n",
       "      <td>27720700</td>\n",
       "      <td>2023</td>\n",
       "    </tr>\n",
       "    <tr>\n",
       "      <th>2</th>\n",
       "      <td>China</td>\n",
       "      <td>19231705</td>\n",
       "      <td>[n 1]2025</td>\n",
       "      <td>17794782</td>\n",
       "      <td>[n 3]2023</td>\n",
       "      <td>17794782</td>\n",
       "      <td>[n 1]2023</td>\n",
       "    </tr>\n",
       "    <tr>\n",
       "      <th>3</th>\n",
       "      <td>Germany</td>\n",
       "      <td>4744804</td>\n",
       "      <td>2025</td>\n",
       "      <td>4456081</td>\n",
       "      <td>2023</td>\n",
       "      <td>4525704</td>\n",
       "      <td>2023</td>\n",
       "    </tr>\n",
       "    <tr>\n",
       "      <th>4</th>\n",
       "      <td>India</td>\n",
       "      <td>4187017</td>\n",
       "      <td>2025</td>\n",
       "      <td>3549919</td>\n",
       "      <td>2023</td>\n",
       "      <td>3575778</td>\n",
       "      <td>2023</td>\n",
       "    </tr>\n",
       "  </tbody>\n",
       "</table>\n",
       "</div>"
      ],
      "text/plain": [
       "  Country/Territory        IMF            World Bank             \\\n",
       "  Country/Territory   Forecast       Year   Estimate       Year   \n",
       "0             World  113795678       2025  105435540       2023   \n",
       "1     United States   30507217       2025   27360935       2023   \n",
       "2             China   19231705  [n 1]2025   17794782  [n 3]2023   \n",
       "3           Germany    4744804       2025    4456081       2023   \n",
       "4             India    4187017       2025    3549919       2023   \n",
       "\n",
       "  United Nations             \n",
       "        Estimate       Year  \n",
       "0      100834796       2022  \n",
       "1       27720700       2023  \n",
       "2       17794782  [n 1]2023  \n",
       "3        4525704       2023  \n",
       "4        3575778       2023  "
      ]
     },
     "execution_count": 173,
     "metadata": {},
     "output_type": "execute_result"
    }
   ],
   "source": [
    "df.head()"
   ]
  },
  {
   "cell_type": "code",
   "execution_count": 197,
   "id": "b110fc79",
   "metadata": {},
   "outputs": [
    {
     "name": "stdout",
     "output_type": "stream",
     "text": [
      "Check for dash before replacement:\n",
      "IMF - Forecast: 19 rows contain '-'\n",
      "World Bank - Estimate: 12 rows contain '-'\n",
      "United Nations - Estimate: 1 rows contain '-'\n",
      "\n",
      "Check for dash after replacement:\n",
      "IMF - Forecast: 0 rows contain '-'\n",
      "World Bank - Estimate: 0 rows contain '-'\n",
      "United Nations - Estimate: 0 rows contain '-'\n"
     ]
    }
   ],
   "source": [
    "data_columns = [('IMF', 'Forecast'), ('World Bank', 'Estimate'), ('United Nations', 'Estimate')]\n",
    "imf_forecast_col = data_columns[0]\n",
    "wb_estimate_col = data_columns[1]\n",
    "un_estimate_col = data_columns[2]\n",
    "\n",
    "dash_symbol = '—'\n",
    "\n",
    "def check_for_dash(df, dash_symbol = '—'):\n",
    "\n",
    "    for col in data_columns:\n",
    "        contains_dash = df[col].str.contains('—').sum()\n",
    "        print(f\"{col[0]} - {col[1]}: {contains_dash} rows contain '-'\")\n",
    "\n",
    "print(\"Check for dash before replacement:\")\n",
    "check_for_dash(df, dash_symbol)\n",
    "\n",
    "# Remove the dash symbol from the specified columns\n",
    "for col in data_columns:\n",
    "    df[col] = df[col].str.replace(dash_symbol, '0', regex=False)\n",
    "\n",
    "print(\"\\nCheck for dash after replacement:\")\n",
    "check_for_dash(df, dash_symbol)"
   ]
  },
  {
   "cell_type": "code",
   "execution_count": 201,
   "id": "2b7ebff4",
   "metadata": {},
   "outputs": [
    {
     "name": "stdout",
     "output_type": "stream",
     "text": [
      "\n",
      "Data types after conversion:\n",
      "Country/Territory  Country/Territory     object\n",
      "IMF                Forecast             float64\n",
      "                   Year                  object\n",
      "World Bank         Estimate             float64\n",
      "                   Year                  object\n",
      "United Nations     Estimate             float64\n",
      "                   Year                  object\n",
      "dtype: object\n"
     ]
    }
   ],
   "source": [
    "# Convert the specified columns to integer type\n",
    "for col in data_columns:\n",
    "    df[col] = df[col].astype(np.float64)\n",
    "\n",
    "# Check the data types of the columns\n",
    "print(\"\\nData types after conversion:\")\n",
    "print(df.dtypes)"
   ]
  },
  {
   "cell_type": "code",
   "execution_count": 202,
   "id": "74ecfd74",
   "metadata": {},
   "outputs": [],
   "source": [
    "# Format Forecast and Estimate columns to add a comma as a thousands separator\n",
    "pd.options.display.float_format = '{:,.0f}'.format "
   ]
  },
  {
   "cell_type": "code",
   "execution_count": 203,
   "id": "c4f6cb4f",
   "metadata": {},
   "outputs": [
    {
     "data": {
      "text/html": [
       "<div>\n",
       "<style scoped>\n",
       "    .dataframe tbody tr th:only-of-type {\n",
       "        vertical-align: middle;\n",
       "    }\n",
       "\n",
       "    .dataframe tbody tr th {\n",
       "        vertical-align: top;\n",
       "    }\n",
       "\n",
       "    .dataframe thead tr th {\n",
       "        text-align: left;\n",
       "    }\n",
       "</style>\n",
       "<table border=\"1\" class=\"dataframe\">\n",
       "  <thead>\n",
       "    <tr>\n",
       "      <th></th>\n",
       "      <th>Country/Territory</th>\n",
       "      <th colspan=\"2\" halign=\"left\">IMF</th>\n",
       "      <th colspan=\"2\" halign=\"left\">World Bank</th>\n",
       "      <th colspan=\"2\" halign=\"left\">United Nations</th>\n",
       "    </tr>\n",
       "    <tr>\n",
       "      <th></th>\n",
       "      <th>Country/Territory</th>\n",
       "      <th>Forecast</th>\n",
       "      <th>Year</th>\n",
       "      <th>Estimate</th>\n",
       "      <th>Year</th>\n",
       "      <th>Estimate</th>\n",
       "      <th>Year</th>\n",
       "    </tr>\n",
       "  </thead>\n",
       "  <tbody>\n",
       "    <tr>\n",
       "      <th>0</th>\n",
       "      <td>World</td>\n",
       "      <td>113,795,678</td>\n",
       "      <td>2025</td>\n",
       "      <td>105,435,540</td>\n",
       "      <td>2023</td>\n",
       "      <td>100,834,796</td>\n",
       "      <td>2022</td>\n",
       "    </tr>\n",
       "    <tr>\n",
       "      <th>1</th>\n",
       "      <td>United States</td>\n",
       "      <td>30,507,217</td>\n",
       "      <td>2025</td>\n",
       "      <td>27,360,935</td>\n",
       "      <td>2023</td>\n",
       "      <td>27,720,700</td>\n",
       "      <td>2023</td>\n",
       "    </tr>\n",
       "    <tr>\n",
       "      <th>2</th>\n",
       "      <td>China</td>\n",
       "      <td>19,231,705</td>\n",
       "      <td>[n 1]2025</td>\n",
       "      <td>17,794,782</td>\n",
       "      <td>[n 3]2023</td>\n",
       "      <td>17,794,782</td>\n",
       "      <td>[n 1]2023</td>\n",
       "    </tr>\n",
       "    <tr>\n",
       "      <th>3</th>\n",
       "      <td>Germany</td>\n",
       "      <td>4,744,804</td>\n",
       "      <td>2025</td>\n",
       "      <td>4,456,081</td>\n",
       "      <td>2023</td>\n",
       "      <td>4,525,704</td>\n",
       "      <td>2023</td>\n",
       "    </tr>\n",
       "    <tr>\n",
       "      <th>4</th>\n",
       "      <td>India</td>\n",
       "      <td>4,187,017</td>\n",
       "      <td>2025</td>\n",
       "      <td>3,549,919</td>\n",
       "      <td>2023</td>\n",
       "      <td>3,575,778</td>\n",
       "      <td>2023</td>\n",
       "    </tr>\n",
       "  </tbody>\n",
       "</table>\n",
       "</div>"
      ],
      "text/plain": [
       "  Country/Territory         IMF             World Bank             \\\n",
       "  Country/Territory    Forecast       Year    Estimate       Year   \n",
       "0             World 113,795,678       2025 105,435,540       2023   \n",
       "1     United States  30,507,217       2025  27,360,935       2023   \n",
       "2             China  19,231,705  [n 1]2025  17,794,782  [n 3]2023   \n",
       "3           Germany   4,744,804       2025   4,456,081       2023   \n",
       "4             India   4,187,017       2025   3,549,919       2023   \n",
       "\n",
       "  United Nations             \n",
       "        Estimate       Year  \n",
       "0    100,834,796       2022  \n",
       "1     27,720,700       2023  \n",
       "2     17,794,782  [n 1]2023  \n",
       "3      4,525,704       2023  \n",
       "4      3,575,778       2023  "
      ]
     },
     "execution_count": 203,
     "metadata": {},
     "output_type": "execute_result"
    }
   ],
   "source": [
    "df.head()"
   ]
  },
  {
   "cell_type": "markdown",
   "id": "7ca4cb50",
   "metadata": {},
   "source": [
    "## EXERCISE 20. Big cities"
   ]
  },
  {
   "cell_type": "markdown",
   "id": "5489de34",
   "metadata": {},
   "source": [
    "### 20.1 Data exploration"
   ]
  },
  {
   "cell_type": "code",
   "execution_count": 206,
   "id": "901e76d6",
   "metadata": {},
   "outputs": [],
   "source": [
    "file_name = 'data/cities.json'\n",
    "df = pd.read_json(file_name)"
   ]
  },
  {
   "cell_type": "code",
   "execution_count": 224,
   "id": "2087d42d",
   "metadata": {},
   "outputs": [
    {
     "data": {
      "text/html": [
       "<div>\n",
       "<style scoped>\n",
       "    .dataframe tbody tr th:only-of-type {\n",
       "        vertical-align: middle;\n",
       "    }\n",
       "\n",
       "    .dataframe tbody tr th {\n",
       "        vertical-align: top;\n",
       "    }\n",
       "\n",
       "    .dataframe thead th {\n",
       "        text-align: right;\n",
       "    }\n",
       "</style>\n",
       "<table border=\"1\" class=\"dataframe\">\n",
       "  <thead>\n",
       "    <tr style=\"text-align: right;\">\n",
       "      <th></th>\n",
       "      <th>city</th>\n",
       "      <th>growth_from_2000_to_2013</th>\n",
       "      <th>latitude</th>\n",
       "      <th>longitude</th>\n",
       "      <th>population</th>\n",
       "      <th>rank</th>\n",
       "      <th>state</th>\n",
       "    </tr>\n",
       "  </thead>\n",
       "  <tbody>\n",
       "    <tr>\n",
       "      <th>0</th>\n",
       "      <td>New York</td>\n",
       "      <td>4.8%</td>\n",
       "      <td>41</td>\n",
       "      <td>-74</td>\n",
       "      <td>8405837</td>\n",
       "      <td>1</td>\n",
       "      <td>New York</td>\n",
       "    </tr>\n",
       "    <tr>\n",
       "      <th>1</th>\n",
       "      <td>Los Angeles</td>\n",
       "      <td>4.8%</td>\n",
       "      <td>34</td>\n",
       "      <td>-118</td>\n",
       "      <td>3884307</td>\n",
       "      <td>2</td>\n",
       "      <td>California</td>\n",
       "    </tr>\n",
       "    <tr>\n",
       "      <th>2</th>\n",
       "      <td>Chicago</td>\n",
       "      <td>-6.1%</td>\n",
       "      <td>42</td>\n",
       "      <td>-88</td>\n",
       "      <td>2718782</td>\n",
       "      <td>3</td>\n",
       "      <td>Illinois</td>\n",
       "    </tr>\n",
       "    <tr>\n",
       "      <th>3</th>\n",
       "      <td>Houston</td>\n",
       "      <td>11.0%</td>\n",
       "      <td>30</td>\n",
       "      <td>-95</td>\n",
       "      <td>2195914</td>\n",
       "      <td>4</td>\n",
       "      <td>Texas</td>\n",
       "    </tr>\n",
       "    <tr>\n",
       "      <th>4</th>\n",
       "      <td>Philadelphia</td>\n",
       "      <td>2.6%</td>\n",
       "      <td>40</td>\n",
       "      <td>-75</td>\n",
       "      <td>1553165</td>\n",
       "      <td>5</td>\n",
       "      <td>Pennsylvania</td>\n",
       "    </tr>\n",
       "    <tr>\n",
       "      <th>5</th>\n",
       "      <td>Phoenix</td>\n",
       "      <td>14.0%</td>\n",
       "      <td>33</td>\n",
       "      <td>-112</td>\n",
       "      <td>1513367</td>\n",
       "      <td>6</td>\n",
       "      <td>Arizona</td>\n",
       "    </tr>\n",
       "    <tr>\n",
       "      <th>6</th>\n",
       "      <td>San Antonio</td>\n",
       "      <td>21.0%</td>\n",
       "      <td>29</td>\n",
       "      <td>-98</td>\n",
       "      <td>1409019</td>\n",
       "      <td>7</td>\n",
       "      <td>Texas</td>\n",
       "    </tr>\n",
       "    <tr>\n",
       "      <th>7</th>\n",
       "      <td>San Diego</td>\n",
       "      <td>10.5%</td>\n",
       "      <td>33</td>\n",
       "      <td>-117</td>\n",
       "      <td>1355896</td>\n",
       "      <td>8</td>\n",
       "      <td>California</td>\n",
       "    </tr>\n",
       "    <tr>\n",
       "      <th>8</th>\n",
       "      <td>Dallas</td>\n",
       "      <td>5.6%</td>\n",
       "      <td>33</td>\n",
       "      <td>-97</td>\n",
       "      <td>1257676</td>\n",
       "      <td>9</td>\n",
       "      <td>Texas</td>\n",
       "    </tr>\n",
       "    <tr>\n",
       "      <th>9</th>\n",
       "      <td>San Jose</td>\n",
       "      <td>10.5%</td>\n",
       "      <td>37</td>\n",
       "      <td>-122</td>\n",
       "      <td>998537</td>\n",
       "      <td>10</td>\n",
       "      <td>California</td>\n",
       "    </tr>\n",
       "  </tbody>\n",
       "</table>\n",
       "</div>"
      ],
      "text/plain": [
       "           city growth_from_2000_to_2013  latitude  longitude  population  \\\n",
       "0      New York                     4.8%        41        -74     8405837   \n",
       "1   Los Angeles                     4.8%        34       -118     3884307   \n",
       "2       Chicago                    -6.1%        42        -88     2718782   \n",
       "3       Houston                    11.0%        30        -95     2195914   \n",
       "4  Philadelphia                     2.6%        40        -75     1553165   \n",
       "5       Phoenix                    14.0%        33       -112     1513367   \n",
       "6   San Antonio                    21.0%        29        -98     1409019   \n",
       "7     San Diego                    10.5%        33       -117     1355896   \n",
       "8        Dallas                     5.6%        33        -97     1257676   \n",
       "9      San Jose                    10.5%        37       -122      998537   \n",
       "\n",
       "   rank         state  \n",
       "0     1      New York  \n",
       "1     2    California  \n",
       "2     3      Illinois  \n",
       "3     4         Texas  \n",
       "4     5  Pennsylvania  \n",
       "5     6       Arizona  \n",
       "6     7         Texas  \n",
       "7     8    California  \n",
       "8     9         Texas  \n",
       "9    10    California  "
      ]
     },
     "execution_count": 224,
     "metadata": {},
     "output_type": "execute_result"
    }
   ],
   "source": [
    "df.head(10)"
   ]
  },
  {
   "cell_type": "code",
   "execution_count": 211,
   "id": "07aa5256",
   "metadata": {},
   "outputs": [
    {
     "data": {
      "text/plain": [
       "((1000, 7), 925)"
      ]
     },
     "execution_count": 211,
     "metadata": {},
     "output_type": "execute_result"
    }
   ],
   "source": [
    "df.shape, df['city'].nunique()"
   ]
  },
  {
   "cell_type": "code",
   "execution_count": 215,
   "id": "fcff219a",
   "metadata": {},
   "outputs": [
    {
     "data": {
      "text/plain": [
       "city\n",
       "Springfield     4\n",
       "Lancaster       3\n",
       "Lakewood        3\n",
       "Columbus        2\n",
       "Concord         2\n",
       "               ..\n",
       "San Marcos      1\n",
       "Bellevue        1\n",
       "Aurora          1\n",
       "Apple Valley    1\n",
       "Florence        1\n",
       "Name: count, Length: 62, dtype: int64"
      ]
     },
     "execution_count": 215,
     "metadata": {},
     "output_type": "execute_result"
    }
   ],
   "source": [
    "# Find the repeated cities\n",
    "mask = df['city'].duplicated()\n",
    "df['city'][mask].value_counts()"
   ]
  },
  {
   "cell_type": "code",
   "execution_count": 209,
   "id": "f02c238c",
   "metadata": {},
   "outputs": [
    {
     "data": {
      "text/plain": [
       "(np.float64(131132.443), np.float64(68207.0))"
      ]
     },
     "execution_count": 209,
     "metadata": {},
     "output_type": "execute_result"
    }
   ],
   "source": [
    "# What are the mean and median populations for these 1,000 largest cities?\n",
    "df['population'].mean(), df['population'].median()"
   ]
  },
  {
   "cell_type": "code",
   "execution_count": 221,
   "id": "27b4df0e",
   "metadata": {},
   "outputs": [
    {
     "data": {
      "text/plain": [
       "mean   131,132\n",
       "50%     68,207\n",
       "Name: population, dtype: float64"
      ]
     },
     "execution_count": 221,
     "metadata": {},
     "output_type": "execute_result"
    }
   ],
   "source": [
    "df['population'].describe()[['mean', '50%']]"
   ]
  },
  {
   "cell_type": "code",
   "execution_count": 219,
   "id": "6ffff4a5",
   "metadata": {},
   "outputs": [
    {
     "name": "stdout",
     "output_type": "stream",
     "text": [
      "Population threshold for the 50 most populous cities: 379,577\n"
     ]
    },
    {
     "data": {
      "text/plain": [
       "(np.float64(87027.38736842106), np.float64(65796.0))"
      ]
     },
     "execution_count": 219,
     "metadata": {},
     "output_type": "execute_result"
    }
   ],
   "source": [
    "# Along these lines, if you remove the 50 most populous cities, what happens to\n",
    "# the mean population? What happens to the median?\n",
    "population_thershold = df['population'].nlargest(50).min()\n",
    "print(f'Population threshold for the 50 most populous cities: {population_thershold:,}')\n",
    "\n",
    "mask_population = df['population'] < population_thershold\n",
    "df.loc[mask_population, 'population'].mean(), df.loc[mask_population, 'population'].median()"
   ]
  },
  {
   "cell_type": "code",
   "execution_count": 222,
   "id": "b1efea09",
   "metadata": {},
   "outputs": [
    {
     "data": {
      "text/plain": [
       "mean   87,027\n",
       "50%    65,796\n",
       "Name: population, dtype: float64"
      ]
     },
     "execution_count": 222,
     "metadata": {},
     "output_type": "execute_result"
    }
   ],
   "source": [
    "df.loc[mask_population, 'population'].describe()[['mean', '50%']]"
   ]
  },
  {
   "cell_type": "code",
   "execution_count": 225,
   "id": "e229f31c",
   "metadata": {},
   "outputs": [
    {
     "data": {
      "text/html": [
       "<div>\n",
       "<style scoped>\n",
       "    .dataframe tbody tr th:only-of-type {\n",
       "        vertical-align: middle;\n",
       "    }\n",
       "\n",
       "    .dataframe tbody tr th {\n",
       "        vertical-align: top;\n",
       "    }\n",
       "\n",
       "    .dataframe thead th {\n",
       "        text-align: right;\n",
       "    }\n",
       "</style>\n",
       "<table border=\"1\" class=\"dataframe\">\n",
       "  <thead>\n",
       "    <tr style=\"text-align: right;\">\n",
       "      <th></th>\n",
       "      <th>city</th>\n",
       "      <th>growth_from_2000_to_2013</th>\n",
       "      <th>latitude</th>\n",
       "      <th>longitude</th>\n",
       "      <th>population</th>\n",
       "      <th>rank</th>\n",
       "      <th>state</th>\n",
       "    </tr>\n",
       "  </thead>\n",
       "  <tbody>\n",
       "    <tr>\n",
       "      <th>62</th>\n",
       "      <td>Anchorage</td>\n",
       "      <td>15.4%</td>\n",
       "      <td>61</td>\n",
       "      <td>-150</td>\n",
       "      <td>300950</td>\n",
       "      <td>63</td>\n",
       "      <td>Alaska</td>\n",
       "    </tr>\n",
       "  </tbody>\n",
       "</table>\n",
       "</div>"
      ],
      "text/plain": [
       "         city growth_from_2000_to_2013  latitude  longitude  population  rank  \\\n",
       "62  Anchorage                    15.4%        61       -150      300950    63   \n",
       "\n",
       "     state  \n",
       "62  Alaska  "
      ]
     },
     "execution_count": 225,
     "metadata": {},
     "output_type": "execute_result"
    }
   ],
   "source": [
    "# What is the northernmost city, and where does it rank?\n",
    "max_latitude = df['latitude'].max()\n",
    "northernmost_city = df[df['latitude'] == max_latitude]\n",
    "northernmost_city"
   ]
  },
  {
   "cell_type": "code",
   "execution_count": 228,
   "id": "4fc5560c",
   "metadata": {},
   "outputs": [
    {
     "data": {
      "text/plain": [
       "62"
      ]
     },
     "execution_count": 228,
     "metadata": {},
     "output_type": "execute_result"
    }
   ],
   "source": [
    "idx = df['latitude'].idxmax()\n",
    "idx"
   ]
  },
  {
   "cell_type": "code",
   "execution_count": 230,
   "id": "2c6eda7c",
   "metadata": {},
   "outputs": [
    {
     "data": {
      "text/html": [
       "<div>\n",
       "<style scoped>\n",
       "    .dataframe tbody tr th:only-of-type {\n",
       "        vertical-align: middle;\n",
       "    }\n",
       "\n",
       "    .dataframe tbody tr th {\n",
       "        vertical-align: top;\n",
       "    }\n",
       "\n",
       "    .dataframe thead th {\n",
       "        text-align: right;\n",
       "    }\n",
       "</style>\n",
       "<table border=\"1\" class=\"dataframe\">\n",
       "  <thead>\n",
       "    <tr style=\"text-align: right;\">\n",
       "      <th></th>\n",
       "      <th>city</th>\n",
       "      <th>growth_from_2000_to_2013</th>\n",
       "      <th>latitude</th>\n",
       "      <th>longitude</th>\n",
       "      <th>population</th>\n",
       "      <th>rank</th>\n",
       "      <th>state</th>\n",
       "    </tr>\n",
       "  </thead>\n",
       "  <tbody>\n",
       "    <tr>\n",
       "      <th>62</th>\n",
       "      <td>Anchorage</td>\n",
       "      <td>15.4%</td>\n",
       "      <td>61</td>\n",
       "      <td>-150</td>\n",
       "      <td>300950</td>\n",
       "      <td>63</td>\n",
       "      <td>Alaska</td>\n",
       "    </tr>\n",
       "  </tbody>\n",
       "</table>\n",
       "</div>"
      ],
      "text/plain": [
       "         city growth_from_2000_to_2013  latitude  longitude  population  rank  \\\n",
       "62  Anchorage                    15.4%        61       -150      300950    63   \n",
       "\n",
       "     state  \n",
       "62  Alaska  "
      ]
     },
     "execution_count": 230,
     "metadata": {},
     "output_type": "execute_result"
    }
   ],
   "source": [
    "df.loc[[idx]]"
   ]
  },
  {
   "cell_type": "code",
   "execution_count": 232,
   "id": "3db1f5db",
   "metadata": {},
   "outputs": [
    {
     "data": {
      "text/html": [
       "<div>\n",
       "<style scoped>\n",
       "    .dataframe tbody tr th:only-of-type {\n",
       "        vertical-align: middle;\n",
       "    }\n",
       "\n",
       "    .dataframe tbody tr th {\n",
       "        vertical-align: top;\n",
       "    }\n",
       "\n",
       "    .dataframe thead th {\n",
       "        text-align: right;\n",
       "    }\n",
       "</style>\n",
       "<table border=\"1\" class=\"dataframe\">\n",
       "  <thead>\n",
       "    <tr style=\"text-align: right;\">\n",
       "      <th></th>\n",
       "      <th>city</th>\n",
       "      <th>rank</th>\n",
       "    </tr>\n",
       "  </thead>\n",
       "  <tbody>\n",
       "    <tr>\n",
       "      <th>62</th>\n",
       "      <td>Anchorage</td>\n",
       "      <td>63</td>\n",
       "    </tr>\n",
       "  </tbody>\n",
       "</table>\n",
       "</div>"
      ],
      "text/plain": [
       "         city  rank\n",
       "62  Anchorage    63"
      ]
     },
     "execution_count": 232,
     "metadata": {},
     "output_type": "execute_result"
    }
   ],
   "source": [
    "df.loc[[idx], ['city', 'rank']]"
   ]
  },
  {
   "cell_type": "code",
   "execution_count": 236,
   "id": "89e88cd0",
   "metadata": {},
   "outputs": [
    {
     "data": {
      "text/plain": [
       "(51,\n",
       " state\n",
       " California       212\n",
       " Texas             83\n",
       " Florida           73\n",
       " Illinois          52\n",
       " Massachusetts     36\n",
       " Name: count, dtype: int64)"
      ]
     },
     "execution_count": 236,
     "metadata": {},
     "output_type": "execute_result"
    }
   ],
   "source": [
    "# Which state has the largest number of cities on this list?\n",
    "df['state'].nunique(), df['state'].value_counts()[:5]"
   ]
  },
  {
   "cell_type": "markdown",
   "id": "26d37111",
   "metadata": {},
   "source": [
    "### 20.2 Mean and median changes in city size between 2000 and 2013"
   ]
  },
  {
   "cell_type": "code",
   "execution_count": 238,
   "id": "2d9acb04",
   "metadata": {},
   "outputs": [
    {
     "data": {
      "text/html": [
       "<div>\n",
       "<style scoped>\n",
       "    .dataframe tbody tr th:only-of-type {\n",
       "        vertical-align: middle;\n",
       "    }\n",
       "\n",
       "    .dataframe tbody tr th {\n",
       "        vertical-align: top;\n",
       "    }\n",
       "\n",
       "    .dataframe thead th {\n",
       "        text-align: right;\n",
       "    }\n",
       "</style>\n",
       "<table border=\"1\" class=\"dataframe\">\n",
       "  <thead>\n",
       "    <tr style=\"text-align: right;\">\n",
       "      <th></th>\n",
       "      <th>city</th>\n",
       "      <th>growth_from_2000_to_2013</th>\n",
       "      <th>latitude</th>\n",
       "      <th>longitude</th>\n",
       "      <th>population</th>\n",
       "      <th>rank</th>\n",
       "      <th>state</th>\n",
       "    </tr>\n",
       "  </thead>\n",
       "  <tbody>\n",
       "    <tr>\n",
       "      <th>0</th>\n",
       "      <td>New York</td>\n",
       "      <td>4.8%</td>\n",
       "      <td>41</td>\n",
       "      <td>-74</td>\n",
       "      <td>8405837</td>\n",
       "      <td>1</td>\n",
       "      <td>New York</td>\n",
       "    </tr>\n",
       "    <tr>\n",
       "      <th>1</th>\n",
       "      <td>Los Angeles</td>\n",
       "      <td>4.8%</td>\n",
       "      <td>34</td>\n",
       "      <td>-118</td>\n",
       "      <td>3884307</td>\n",
       "      <td>2</td>\n",
       "      <td>California</td>\n",
       "    </tr>\n",
       "    <tr>\n",
       "      <th>2</th>\n",
       "      <td>Chicago</td>\n",
       "      <td>-6.1%</td>\n",
       "      <td>42</td>\n",
       "      <td>-88</td>\n",
       "      <td>2718782</td>\n",
       "      <td>3</td>\n",
       "      <td>Illinois</td>\n",
       "    </tr>\n",
       "    <tr>\n",
       "      <th>3</th>\n",
       "      <td>Houston</td>\n",
       "      <td>11.0%</td>\n",
       "      <td>30</td>\n",
       "      <td>-95</td>\n",
       "      <td>2195914</td>\n",
       "      <td>4</td>\n",
       "      <td>Texas</td>\n",
       "    </tr>\n",
       "    <tr>\n",
       "      <th>4</th>\n",
       "      <td>Philadelphia</td>\n",
       "      <td>2.6%</td>\n",
       "      <td>40</td>\n",
       "      <td>-75</td>\n",
       "      <td>1553165</td>\n",
       "      <td>5</td>\n",
       "      <td>Pennsylvania</td>\n",
       "    </tr>\n",
       "  </tbody>\n",
       "</table>\n",
       "</div>"
      ],
      "text/plain": [
       "           city growth_from_2000_to_2013  latitude  longitude  population  \\\n",
       "0      New York                     4.8%        41        -74     8405837   \n",
       "1   Los Angeles                     4.8%        34       -118     3884307   \n",
       "2       Chicago                    -6.1%        42        -88     2718782   \n",
       "3       Houston                    11.0%        30        -95     2195914   \n",
       "4  Philadelphia                     2.6%        40        -75     1553165   \n",
       "\n",
       "   rank         state  \n",
       "0     1      New York  \n",
       "1     2    California  \n",
       "2     3      Illinois  \n",
       "3     4         Texas  \n",
       "4     5  Pennsylvania  "
      ]
     },
     "execution_count": 238,
     "metadata": {},
     "output_type": "execute_result"
    }
   ],
   "source": [
    "df.head()"
   ]
  },
  {
   "cell_type": "code",
   "execution_count": 239,
   "id": "2d384781",
   "metadata": {},
   "outputs": [
    {
     "data": {
      "text/plain": [
       "city                         object\n",
       "growth_from_2000_to_2013     object\n",
       "latitude                    float64\n",
       "longitude                   float64\n",
       "population                    int64\n",
       "rank                          int64\n",
       "state                        object\n",
       "dtype: object"
      ]
     },
     "execution_count": 239,
     "metadata": {},
     "output_type": "execute_result"
    }
   ],
   "source": [
    "df.dtypes"
   ]
  },
  {
   "cell_type": "code",
   "execution_count": 240,
   "id": "267bbf33",
   "metadata": {},
   "outputs": [
    {
     "name": "stdout",
     "output_type": "stream",
     "text": [
      "Missing values in each column:\n",
      "city                        0\n",
      "growth_from_2000_to_2013    0\n",
      "latitude                    0\n",
      "longitude                   0\n",
      "population                  0\n",
      "rank                        0\n",
      "state                       0\n",
      "dtype: int64\n"
     ]
    }
   ],
   "source": [
    "# Check for missing values\n",
    "missing_values = df.isnull().sum()\n",
    "print(\"Missing values in each column:\")\n",
    "print(missing_values)"
   ]
  },
  {
   "cell_type": "code",
   "execution_count": 255,
   "id": "6e751b14",
   "metadata": {},
   "outputs": [
    {
     "name": "stdout",
     "output_type": "stream",
     "text": [
      "6\n"
     ]
    },
    {
     "data": {
      "text/plain": [
       "mean   23\n",
       "50%    10\n",
       "Name: growth_from_2000_to_2013, dtype: float64"
      ]
     },
     "execution_count": 255,
     "metadata": {},
     "output_type": "execute_result"
    }
   ],
   "source": [
    "# Read the data from the json file\n",
    "file_name = 'data/cities.json'\n",
    "df = pd.read_json(file_name)\n",
    "\n",
    "# Convert the growth_from_2000_to_2013 column into a floating-point number\n",
    "growth_col = 'growth_from_2000_to_2013'\n",
    "\n",
    "# Remove the percentage sign\n",
    "df[growth_col] = df[growth_col].str.replace('%', '')\n",
    "\n",
    "# Check for empty strings\n",
    "df[growth_col] = df[growth_col].replace('', np.nan)\n",
    "\n",
    "# Check for missing values after conversion\n",
    "missing_values_after_conversion = df[growth_col].isnull().sum()\n",
    "print(missing_values_after_conversion)\n",
    "\n",
    "# Drop missing values\n",
    "df[growth_col] = df[growth_col].dropna()\n",
    "\n",
    "# Convert to float\n",
    "df[growth_col] = df[growth_col].astype(float)\n",
    "\n",
    "# Find the mean and median changes in city size between 2000 and 2013\n",
    "df[growth_col].describe()[['mean', '50%']]"
   ]
  },
  {
   "cell_type": "markdown",
   "id": "4f49e2dd",
   "metadata": {},
   "source": [
    "### 20.3 How many cities had positive growth in this period, and how many had negative growth?"
   ]
  },
  {
   "cell_type": "code",
   "execution_count": 258,
   "id": "1a4cf989",
   "metadata": {},
   "outputs": [
    {
     "name": "stdout",
     "output_type": "stream",
     "text": [
      "Number of cities with zero growth: 5\n",
      "Number of cities with positive growth: 847\n",
      "Number of cities with negative growth: 142\n"
     ]
    }
   ],
   "source": [
    "num_cities_positive_growth = df[df[growth_col] > 0].shape[0]\n",
    "num_cities_negative_growth = df[df[growth_col] < 0].shape[0]\n",
    "num_cities_with_zero_growth = df[df[growth_col] == 0].shape[0]\n",
    "print(f'Number of cities with zero growth: {num_cities_with_zero_growth}')\n",
    "print(f'Number of cities with positive growth: {num_cities_positive_growth}')\n",
    "print(f'Number of cities with negative growth: {num_cities_negative_growth}')"
   ]
  },
  {
   "cell_type": "code",
   "execution_count": 262,
   "id": "728f6032",
   "metadata": {},
   "outputs": [
    {
     "data": {
      "text/plain": [
       "(52, 7)"
      ]
     },
     "execution_count": 262,
     "metadata": {},
     "output_type": "execute_result"
    }
   ],
   "source": [
    "# Find the city or cities with latitudes more than two standard deviations from the mean\n",
    "mean_latitude = df['latitude'].mean()\n",
    "std_latitude = df['latitude'].std()\n",
    "mask_outliers = (df['latitude'] < mean_latitude - 2 * std_latitude) \n",
    "mask_outliers |= (df['latitude'] > mean_latitude + 2 * std_latitude)\n",
    "outliers = df[mask_outliers]\n",
    "outliers.shape"
   ]
  }
 ],
 "metadata": {
  "kernelspec": {
   "display_name": "env",
   "language": "python",
   "name": "python3"
  },
  "language_info": {
   "codemirror_mode": {
    "name": "ipython",
    "version": 3
   },
   "file_extension": ".py",
   "mimetype": "text/x-python",
   "name": "python",
   "nbconvert_exporter": "python",
   "pygments_lexer": "ipython3",
   "version": "3.13.2"
  }
 },
 "nbformat": 4,
 "nbformat_minor": 5
}
