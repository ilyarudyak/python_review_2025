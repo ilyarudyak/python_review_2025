{
 "cells": [
  {
   "cell_type": "markdown",
   "id": "9432ac1e",
   "metadata": {},
   "source": [
    "## Setup"
   ]
  },
  {
   "cell_type": "code",
   "execution_count": 93,
   "id": "c9f71b19",
   "metadata": {},
   "outputs": [],
   "source": [
    "import pandas as pd\n",
    "import numpy as np\n",
    "\n",
    "import requests\n",
    "from io import StringIO\n",
    "\n",
    "import string\n",
    "\n",
    "import matplotlib.pyplot as plt\n",
    "import seaborn as sns\n",
    "sns.set_theme()"
   ]
  },
  {
   "cell_type": "code",
   "execution_count": 2,
   "id": "dd84fe10",
   "metadata": {},
   "outputs": [],
   "source": [
    "# file_name = 'data/nyc-parking-violations-2020.csv'\n",
    "# usecol = ['Plate ID',  'Registration State', 'Vehicle Make', 'Vehicle Color', 'Violation Time', 'Street Name']\n",
    "# df = pd.read_csv(file_name, usecols=usecol, low_memory=False)"
   ]
  },
  {
   "cell_type": "markdown",
   "id": "4395d96c",
   "metadata": {},
   "source": []
  },
  {
   "cell_type": "code",
   "execution_count": 57,
   "id": "2ef9b101",
   "metadata": {},
   "outputs": [],
   "source": [
    "# df.head()"
   ]
  },
  {
   "cell_type": "code",
   "execution_count": 58,
   "id": "b161b1e1",
   "metadata": {},
   "outputs": [],
   "source": [
    "# df.shape"
   ]
  },
  {
   "cell_type": "markdown",
   "id": "f21e0a80",
   "metadata": {},
   "source": [
    "## EXERCISE 25. Parking cleanup"
   ]
  },
  {
   "cell_type": "markdown",
   "id": "bacfd9d8",
   "metadata": {},
   "source": [
    "### 25.1 Data exploration"
   ]
  },
  {
   "cell_type": "code",
   "execution_count": 11,
   "id": "dc020802",
   "metadata": {},
   "outputs": [],
   "source": [
    "# Remove rows with any missing data (i.e., a NaN value)\n",
    "df_all_removed = df.dropna()"
   ]
  },
  {
   "cell_type": "code",
   "execution_count": 13,
   "id": "ad49a6c0",
   "metadata": {},
   "outputs": [
    {
     "data": {
      "text/plain": [
       "447359"
      ]
     },
     "execution_count": 13,
     "metadata": {},
     "output_type": "execute_result"
    }
   ],
   "source": [
    "df.shape[0] - df_all_removed.shape[0]"
   ]
  },
  {
   "cell_type": "code",
   "execution_count": 14,
   "id": "e3dbd331",
   "metadata": {},
   "outputs": [],
   "source": [
    "# Let’s instead assume that a ticket can only be dismissed if the license plate,\n",
    "# state, car make, and/or street name are missing. Remove rows that are missing\n",
    "# one or more of these.\n",
    "df_some_removed = df.dropna(subset=['Plate ID', 'Registration State', 'Vehicle Make', 'Street Name'])"
   ]
  },
  {
   "cell_type": "code",
   "execution_count": 16,
   "id": "45c649e1",
   "metadata": {},
   "outputs": [
    {
     "data": {
      "text/plain": [
       "63785"
      ]
     },
     "execution_count": 16,
     "metadata": {},
     "output_type": "execute_result"
    }
   ],
   "source": [
    "df.shape[0] - df_some_removed.shape[0]"
   ]
  },
  {
   "cell_type": "code",
   "execution_count": 17,
   "id": "9791afb7",
   "metadata": {},
   "outputs": [],
   "source": [
    "# Let's instead assume that a ticket can only be dismissed if the license plate, state, and/or\n",
    "# street name are all there. Remove rows that are missing one or more of these. How many rows remain?\n",
    "df_some_removed_v2 = df.dropna(subset=['Plate ID', 'Registration State', 'Street Name'])"
   ]
  },
  {
   "cell_type": "code",
   "execution_count": 18,
   "id": "0651934c",
   "metadata": {},
   "outputs": [
    {
     "data": {
      "text/plain": [
       "1618"
      ]
     },
     "execution_count": 18,
     "metadata": {},
     "output_type": "execute_result"
    }
   ],
   "source": [
    "df.shape[0] - df_some_removed_v2.shape[0]"
   ]
  },
  {
   "cell_type": "markdown",
   "id": "e99b7d7b",
   "metadata": {},
   "source": [
    "### 25.2-4 Beyond the exercise"
   ]
  },
  {
   "cell_type": "code",
   "execution_count": 5,
   "id": "bbd5cb69",
   "metadata": {},
   "outputs": [
    {
     "data": {
      "text/plain": [
       "253"
      ]
     },
     "execution_count": 5,
     "metadata": {},
     "output_type": "execute_result"
    }
   ],
   "source": [
    "at_least_three_df = df.dropna(subset=['Plate ID', 'Registration State', 'Vehicle Make', 'Street Name'],\n",
    "                           thresh=3)\n",
    "df.shape[0] - at_least_three_df.shape[0]"
   ]
  },
  {
   "cell_type": "code",
   "execution_count": 7,
   "id": "bbf8548f",
   "metadata": {},
   "outputs": [
    {
     "data": {
      "text/plain": [
       "Vehicle Color         391982\n",
       "Vehicle Make           62420\n",
       "Street Name             1417\n",
       "Violation Time           278\n",
       "Plate ID                 202\n",
       "Registration State         0\n",
       "dtype: int64"
      ]
     },
     "execution_count": 7,
     "metadata": {},
     "output_type": "execute_result"
    }
   ],
   "source": [
    "# Which of the columns you’ve imported has the greatest number of NaN values?\n",
    "nan_counts = df.isna().sum()\n",
    "nan_counts.sort_values(ascending=False)"
   ]
  },
  {
   "cell_type": "code",
   "execution_count": 8,
   "id": "7218a041",
   "metadata": {},
   "outputs": [
    {
     "data": {
      "text/plain": [
       "Vehicle Color         391982\n",
       "Vehicle Make           62420\n",
       "Plate ID                9084\n",
       "Street Name             1417\n",
       "Violation Time           278\n",
       "Registration State         0\n",
       "dtype: int64"
      ]
     },
     "execution_count": 8,
     "metadata": {},
     "output_type": "execute_result"
    }
   ],
   "source": [
    "# Null data is bad, but there is plenty of bad non-null data, too. For example,\n",
    "# many cars with BLANKPLATE as a plate ID were ticketed. Turn these into NaN val-\n",
    "# ues, and rerun the previous query.\n",
    "df['Plate ID'] = df['Plate ID'].replace('BLANKPLATE', np.nan)\n",
    "nan_counts = df.isna().sum()\n",
    "nan_counts.sort_values(ascending=False)"
   ]
  },
  {
   "cell_type": "markdown",
   "id": "e3c62d93",
   "metadata": {},
   "source": [
    "## EXERCISE 26. Celebrity deaths"
   ]
  },
  {
   "cell_type": "markdown",
   "id": "4cd4fd58",
   "metadata": {},
   "source": [
    "### 26.1 Data exploration"
   ]
  },
  {
   "cell_type": "markdown",
   "id": "a327e469",
   "metadata": {},
   "source": [
    "#### 26.1.2 Create a new month column"
   ]
  },
  {
   "cell_type": "code",
   "execution_count": 15,
   "id": "8a50c471",
   "metadata": {},
   "outputs": [
    {
     "data": {
      "text/plain": [
       "(  dateofdeath age\n",
       " 0  2016-01-01  71\n",
       " 1  2016-01-01  74\n",
       " 2  2016-01-01  79\n",
       " 3  2016-01-01  45\n",
       " 4  2016-01-01  83,\n",
       " dateofdeath    object\n",
       " age            object\n",
       " dtype: object)"
      ]
     },
     "execution_count": 15,
     "metadata": {},
     "output_type": "execute_result"
    }
   ],
   "source": [
    "file_name = 'data/celebrity_deaths_2016.csv'\n",
    "usecol = ['dateofdeath', 'age']\n",
    "\n",
    "df = pd.read_csv(file_name, usecols=usecol, low_memory=False)\n",
    "\n",
    "df.head(), df.dtypes"
   ]
  },
  {
   "cell_type": "code",
   "execution_count": 16,
   "id": "651f9f47",
   "metadata": {},
   "outputs": [
    {
     "data": {
      "text/plain": [
       "(  dateofdeath age\n",
       " 0  2016-01-01  71\n",
       " 1  2016-01-01  74\n",
       " 2  2016-01-01  79\n",
       " 3  2016-01-01  45\n",
       " 4  2016-01-01  83,\n",
       " dateofdeath    datetime64[ns]\n",
       " age                    object\n",
       " dtype: object)"
      ]
     },
     "execution_count": 16,
     "metadata": {},
     "output_type": "execute_result"
    }
   ],
   "source": [
    "# (2) Create a new month column containing the month from the dateofdeath column\n",
    "df['dateofdeath'] = pd.to_datetime(df['dateofdeath'])\n",
    "\n",
    "df.head(), df.dtypes"
   ]
  },
  {
   "cell_type": "code",
   "execution_count": 24,
   "id": "5d91aecc",
   "metadata": {},
   "outputs": [
    {
     "data": {
      "text/plain": [
       "0        1\n",
       "1        1\n",
       "2        1\n",
       "3        1\n",
       "4        1\n",
       "        ..\n",
       "6538    12\n",
       "6539    12\n",
       "6540    12\n",
       "6541    12\n",
       "6542    12\n",
       "Name: dateofdeath, Length: 6543, dtype: int32"
      ]
     },
     "execution_count": 24,
     "metadata": {},
     "output_type": "execute_result"
    }
   ],
   "source": [
    "df['dateofdeath'].dt.month"
   ]
  },
  {
   "cell_type": "code",
   "execution_count": 25,
   "id": "e944521e",
   "metadata": {},
   "outputs": [],
   "source": [
    "df['month'] = df['dateofdeath'].dt.month"
   ]
  },
  {
   "cell_type": "code",
   "execution_count": 26,
   "id": "05dbee11",
   "metadata": {},
   "outputs": [
    {
     "data": {
      "text/plain": [
       "(  dateofdeath age  month\n",
       " 0  2016-01-01  71      1\n",
       " 1  2016-01-01  74      1\n",
       " 2  2016-01-01  79      1\n",
       " 3  2016-01-01  45      1\n",
       " 4  2016-01-01  83      1,\n",
       " dateofdeath    datetime64[ns]\n",
       " age                    object\n",
       " month                   int32\n",
       " dtype: object)"
      ]
     },
     "execution_count": 26,
     "metadata": {},
     "output_type": "execute_result"
    }
   ],
   "source": [
    "df.head(), df.dtypes"
   ]
  },
  {
   "cell_type": "markdown",
   "id": "93c5ed10",
   "metadata": {},
   "source": [
    "#### 26.1.3 Make the month column the index of the data frame"
   ]
  },
  {
   "cell_type": "code",
   "execution_count": 28,
   "id": "35ecef3b",
   "metadata": {},
   "outputs": [],
   "source": [
    "# (3) Make the month column the index of the data frame\n",
    "df = df.set_index('month')"
   ]
  },
  {
   "cell_type": "code",
   "execution_count": 29,
   "id": "e81e67f7",
   "metadata": {},
   "outputs": [
    {
     "data": {
      "text/html": [
       "<div>\n",
       "<style scoped>\n",
       "    .dataframe tbody tr th:only-of-type {\n",
       "        vertical-align: middle;\n",
       "    }\n",
       "\n",
       "    .dataframe tbody tr th {\n",
       "        vertical-align: top;\n",
       "    }\n",
       "\n",
       "    .dataframe thead th {\n",
       "        text-align: right;\n",
       "    }\n",
       "</style>\n",
       "<table border=\"1\" class=\"dataframe\">\n",
       "  <thead>\n",
       "    <tr style=\"text-align: right;\">\n",
       "      <th></th>\n",
       "      <th>dateofdeath</th>\n",
       "      <th>age</th>\n",
       "    </tr>\n",
       "    <tr>\n",
       "      <th>month</th>\n",
       "      <th></th>\n",
       "      <th></th>\n",
       "    </tr>\n",
       "  </thead>\n",
       "  <tbody>\n",
       "    <tr>\n",
       "      <th>1</th>\n",
       "      <td>2016-01-01</td>\n",
       "      <td>71</td>\n",
       "    </tr>\n",
       "    <tr>\n",
       "      <th>1</th>\n",
       "      <td>2016-01-01</td>\n",
       "      <td>74</td>\n",
       "    </tr>\n",
       "    <tr>\n",
       "      <th>1</th>\n",
       "      <td>2016-01-01</td>\n",
       "      <td>79</td>\n",
       "    </tr>\n",
       "    <tr>\n",
       "      <th>1</th>\n",
       "      <td>2016-01-01</td>\n",
       "      <td>45</td>\n",
       "    </tr>\n",
       "    <tr>\n",
       "      <th>1</th>\n",
       "      <td>2016-01-01</td>\n",
       "      <td>83</td>\n",
       "    </tr>\n",
       "  </tbody>\n",
       "</table>\n",
       "</div>"
      ],
      "text/plain": [
       "      dateofdeath age\n",
       "month                \n",
       "1      2016-01-01  71\n",
       "1      2016-01-01  74\n",
       "1      2016-01-01  79\n",
       "1      2016-01-01  45\n",
       "1      2016-01-01  83"
      ]
     },
     "execution_count": 29,
     "metadata": {},
     "output_type": "execute_result"
    }
   ],
   "source": [
    "df.head()"
   ]
  },
  {
   "cell_type": "code",
   "execution_count": 30,
   "id": "274d3f47",
   "metadata": {},
   "outputs": [
    {
     "data": {
      "text/plain": [
       "(6543, 2)"
      ]
     },
     "execution_count": 30,
     "metadata": {},
     "output_type": "execute_result"
    }
   ],
   "source": [
    "df.shape"
   ]
  },
  {
   "cell_type": "code",
   "execution_count": 36,
   "id": "622a051d",
   "metadata": {},
   "outputs": [
    {
     "data": {
      "text/plain": [
       "False"
      ]
     },
     "execution_count": 36,
     "metadata": {},
     "output_type": "execute_result"
    }
   ],
   "source": [
    "df.index.is_monotonic_increasing"
   ]
  },
  {
   "cell_type": "markdown",
   "id": "06429eb8",
   "metadata": {},
   "source": [
    "#### 26.1.4 Sort the data frame by the index"
   ]
  },
  {
   "cell_type": "code",
   "execution_count": 37,
   "id": "44b0d1ae",
   "metadata": {},
   "outputs": [],
   "source": [
    "# (4) Sort the data frame by the index\n",
    "df = df.sort_index()"
   ]
  },
  {
   "cell_type": "code",
   "execution_count": 38,
   "id": "05b0d677",
   "metadata": {},
   "outputs": [
    {
     "data": {
      "text/plain": [
       "True"
      ]
     },
     "execution_count": 38,
     "metadata": {},
     "output_type": "execute_result"
    }
   ],
   "source": [
    "df.index.is_monotonic_increasing"
   ]
  },
  {
   "cell_type": "markdown",
   "id": "bf5573a5",
   "metadata": {},
   "source": [
    "#### 26.1.5 Clean all nonintegers from the age column"
   ]
  },
  {
   "cell_type": "code",
   "execution_count": 90,
   "id": "a61f154a",
   "metadata": {},
   "outputs": [
    {
     "data": {
      "text/html": [
       "<div>\n",
       "<style scoped>\n",
       "    .dataframe tbody tr th:only-of-type {\n",
       "        vertical-align: middle;\n",
       "    }\n",
       "\n",
       "    .dataframe tbody tr th {\n",
       "        vertical-align: top;\n",
       "    }\n",
       "\n",
       "    .dataframe thead th {\n",
       "        text-align: right;\n",
       "    }\n",
       "</style>\n",
       "<table border=\"1\" class=\"dataframe\">\n",
       "  <thead>\n",
       "    <tr style=\"text-align: right;\">\n",
       "      <th></th>\n",
       "      <th>dateofdeath</th>\n",
       "      <th>age</th>\n",
       "    </tr>\n",
       "    <tr>\n",
       "      <th>month</th>\n",
       "      <th></th>\n",
       "      <th></th>\n",
       "    </tr>\n",
       "  </thead>\n",
       "  <tbody>\n",
       "    <tr>\n",
       "      <th>1</th>\n",
       "      <td>2016-01-01</td>\n",
       "      <td>71</td>\n",
       "    </tr>\n",
       "    <tr>\n",
       "      <th>1</th>\n",
       "      <td>2016-01-21</td>\n",
       "      <td>47</td>\n",
       "    </tr>\n",
       "    <tr>\n",
       "      <th>1</th>\n",
       "      <td>2016-01-21</td>\n",
       "      <td>87</td>\n",
       "    </tr>\n",
       "    <tr>\n",
       "      <th>1</th>\n",
       "      <td>2016-01-21</td>\n",
       "      <td>90</td>\n",
       "    </tr>\n",
       "    <tr>\n",
       "      <th>1</th>\n",
       "      <td>2016-01-21</td>\n",
       "      <td>73</td>\n",
       "    </tr>\n",
       "  </tbody>\n",
       "</table>\n",
       "</div>"
      ],
      "text/plain": [
       "      dateofdeath age\n",
       "month                \n",
       "1      2016-01-01  71\n",
       "1      2016-01-21  47\n",
       "1      2016-01-21  87\n",
       "1      2016-01-21  90\n",
       "1      2016-01-21  73"
      ]
     },
     "execution_count": 90,
     "metadata": {},
     "output_type": "execute_result"
    }
   ],
   "source": [
    "file_name = 'data/celebrity_deaths_2016.csv'\n",
    "usecol = ['dateofdeath', 'age']\n",
    "\n",
    "df = pd.read_csv(file_name, usecols=usecol, low_memory=False)\n",
    "\n",
    "# Make the month column the index of the data frame\n",
    "df['dateofdeath'] = pd.to_datetime(df['dateofdeath'])\n",
    "df['month'] = df['dateofdeath'].dt.month\n",
    "df = df.set_index('month')\n",
    "\n",
    "# Sort the data frame by the index\n",
    "df = df.sort_index()\n",
    "\n",
    "df.head()"
   ]
  },
  {
   "cell_type": "code",
   "execution_count": 93,
   "id": "02a255de",
   "metadata": {},
   "outputs": [
    {
     "name": "stdout",
     "output_type": "stream",
     "text": [
      "Number of NaN values in the age column: 0\n",
      "Percentage of NaN values in the age column: 0.0\n"
     ]
    },
    {
     "data": {
      "text/plain": [
       "dtype('O')"
      ]
     },
     "execution_count": 93,
     "metadata": {},
     "output_type": "execute_result"
    }
   ],
   "source": [
    "# Check the nan values in the age column\n",
    "nan_counts = df['age'].isna().sum()\n",
    "print(f'Number of NaN values in the age column: {nan_counts}')\n",
    "\n",
    "# Compute the percentage of NaN values in the age column using mean\n",
    "nan_percentage = df['age'].isna().mean()\n",
    "print(f'Percentage of NaN values in the age column: {nan_percentage:.2}')\n",
    "\n",
    "# Fill NaN values in the age column with an empty string\n",
    "df['age'] = df['age'].fillna('')\n",
    "\n",
    "# Convert the age column to string type\n",
    "df['age'] = df['age'].astype(str)\n",
    "\n",
    "df['age'].dtype"
   ]
  },
  {
   "cell_type": "code",
   "execution_count": 98,
   "id": "acbb96cb",
   "metadata": {},
   "outputs": [
    {
     "data": {
      "text/plain": [
       "array(['71', '47', '87', '90', '73', '37', '59', '75', '97', '78', '67',\n",
       "       '82', '85', '86', '88', '92', '55', '102', '96', '93', '101', '25',\n",
       "       '21', '74', '76', '72', '83', '95', '45', '62', '68', '94', '100',\n",
       "       '84', '91', '52', '79', '', '34', '58', '66', '99', '60', '16',\n",
       "       '80', '81', '15', '53', '70', '89', '26', '61', '64', '77', '31',\n",
       "       '14', '44', '98', '112', '43', '56', '33', '57', '65', '69', '48',\n",
       "       '54', '23', '40', '49', '50', '35', '32', ' 8889', '38', '22',\n",
       "       '51', '28', '63', '20', '103', ' 6869', '24', '39', '107', '30',\n",
       "       '41', ' 3031', '46', ' 5253', '11', '42', ' 4445', '12', ' 6364',\n",
       "       '29', '27', ' 9293', '36', ' 5759', ' 6768', '104', ' 7980', '19',\n",
       "       ' 3435', ' 68-69', ' 7677', ' 2526', '9', ' c. 48', '17', ' 2930',\n",
       "       ' 9192', '110', '116', ' 7374', ' 9394', ' 8081', '109', ' c._180',\n",
       "       '106', ' 4243', '113', ' 51-52', ' 77/78', ' 6667', ' 38/39',\n",
       "       ' 61/62', ' 8485', ' 6970', ' 59-60', '18', ' 50s', ' 56 or 57',\n",
       "       '105', '7', ' 7778', ' 8182', '108'], dtype=object)"
      ]
     },
     "execution_count": 98,
     "metadata": {},
     "output_type": "execute_result"
    }
   ],
   "source": [
    "df['age'].unique()"
   ]
  },
  {
   "cell_type": "code",
   "execution_count": 102,
   "id": "e393e125",
   "metadata": {},
   "outputs": [
    {
     "data": {
      "text/plain": [
       "array(['', ' 8889', ' 6869', ' 3031', ' 5253', ' 4445', ' 6364', ' 9293',\n",
       "       ' 5759', ' 6768', ' 7980', ' 3435', ' 68-69', ' 7677', ' 2526',\n",
       "       ' c. 48', ' 2930', ' 9192', ' 7374', ' 9394', ' 8081', ' c._180',\n",
       "       ' 4243', ' 51-52', ' 77/78', ' 6667', ' 38/39', ' 61/62', ' 8485',\n",
       "       ' 6970', ' 59-60', ' 50s', ' 56 or 57', ' 7778', ' 8182'],\n",
       "      dtype=object)"
      ]
     },
     "execution_count": 102,
     "metadata": {},
     "output_type": "execute_result"
    }
   ],
   "source": [
    "# Explore non-numeric values in the age column using masking\n",
    "non_numeric_mask = ~df['age'].str.isnumeric()\n",
    "numeric_mask = ~non_numeric_mask\n",
    "df.loc[non_numeric_mask, 'age'].unique()"
   ]
  },
  {
   "cell_type": "code",
   "execution_count": 103,
   "id": "bd28bd1b",
   "metadata": {},
   "outputs": [],
   "source": [
    "# Remove all non-numeric values from the age column using masking\n",
    "df = df[numeric_mask]"
   ]
  },
  {
   "cell_type": "code",
   "execution_count": 104,
   "id": "b01a27ba",
   "metadata": {},
   "outputs": [
    {
     "data": {
      "text/plain": [
       "array(['71', '47', '87', '90', '73', '37', '59', '75', '97', '78', '67',\n",
       "       '82', '85', '86', '88', '92', '55', '102', '96', '93', '101', '25',\n",
       "       '21', '74', '76', '72', '83', '95', '45', '62', '68', '94', '100',\n",
       "       '84', '91', '52', '79', '34', '58', '66', '99', '60', '16', '80',\n",
       "       '81', '15', '53', '70', '89', '26', '61', '64', '77', '31', '14',\n",
       "       '44', '98', '112', '43', '56', '33', '57', '65', '69', '48', '54',\n",
       "       '23', '40', '49', '50', '35', '32', '38', '22', '51', '28', '63',\n",
       "       '20', '103', '24', '39', '107', '30', '41', '46', '11', '42', '12',\n",
       "       '29', '27', '36', '104', '19', '9', '17', '110', '116', '109',\n",
       "       '106', '113', '18', '105', '7', '108'], dtype=object)"
      ]
     },
     "execution_count": 104,
     "metadata": {},
     "output_type": "execute_result"
    }
   ],
   "source": [
    "df['age'].unique()"
   ]
  },
  {
   "cell_type": "code",
   "execution_count": 105,
   "id": "ecb21846",
   "metadata": {},
   "outputs": [
    {
     "data": {
      "text/plain": [
       "(6481, 2)"
      ]
     },
     "execution_count": 105,
     "metadata": {},
     "output_type": "execute_result"
    }
   ],
   "source": [
    "df.shape"
   ]
  },
  {
   "cell_type": "code",
   "execution_count": 124,
   "id": "e1372bf0",
   "metadata": {},
   "outputs": [
    {
     "data": {
      "text/html": [
       "<div>\n",
       "<style scoped>\n",
       "    .dataframe tbody tr th:only-of-type {\n",
       "        vertical-align: middle;\n",
       "    }\n",
       "\n",
       "    .dataframe tbody tr th {\n",
       "        vertical-align: top;\n",
       "    }\n",
       "\n",
       "    .dataframe thead th {\n",
       "        text-align: right;\n",
       "    }\n",
       "</style>\n",
       "<table border=\"1\" class=\"dataframe\">\n",
       "  <thead>\n",
       "    <tr style=\"text-align: right;\">\n",
       "      <th></th>\n",
       "      <th>dateofdeath</th>\n",
       "      <th>age</th>\n",
       "    </tr>\n",
       "    <tr>\n",
       "      <th>month</th>\n",
       "      <th></th>\n",
       "      <th></th>\n",
       "    </tr>\n",
       "  </thead>\n",
       "  <tbody>\n",
       "    <tr>\n",
       "      <th>1</th>\n",
       "      <td>2016-01-01</td>\n",
       "      <td>71</td>\n",
       "    </tr>\n",
       "    <tr>\n",
       "      <th>1</th>\n",
       "      <td>2016-01-21</td>\n",
       "      <td>47</td>\n",
       "    </tr>\n",
       "    <tr>\n",
       "      <th>1</th>\n",
       "      <td>2016-01-21</td>\n",
       "      <td>87</td>\n",
       "    </tr>\n",
       "    <tr>\n",
       "      <th>1</th>\n",
       "      <td>2016-01-21</td>\n",
       "      <td>90</td>\n",
       "    </tr>\n",
       "    <tr>\n",
       "      <th>1</th>\n",
       "      <td>2016-01-21</td>\n",
       "      <td>73</td>\n",
       "    </tr>\n",
       "  </tbody>\n",
       "</table>\n",
       "</div>"
      ],
      "text/plain": [
       "      dateofdeath age\n",
       "month                \n",
       "1      2016-01-01  71\n",
       "1      2016-01-21  47\n",
       "1      2016-01-21  87\n",
       "1      2016-01-21  90\n",
       "1      2016-01-21  73"
      ]
     },
     "execution_count": 124,
     "metadata": {},
     "output_type": "execute_result"
    }
   ],
   "source": [
    "file_name = 'data/celebrity_deaths_2016.csv'\n",
    "usecol = ['dateofdeath', 'age']\n",
    "\n",
    "df = pd.read_csv(file_name, usecols=usecol, low_memory=False)\n",
    "\n",
    "# Make the month column the index of the data frame\n",
    "df['dateofdeath'] = pd.to_datetime(df['dateofdeath'])\n",
    "df['month'] = df['dateofdeath'].dt.month\n",
    "df = df.set_index('month')\n",
    "\n",
    "# Sort the data frame by the index\n",
    "df = df.sort_index()\n",
    "\n",
    "df.head()"
   ]
  },
  {
   "cell_type": "code",
   "execution_count": 125,
   "id": "0bb210c6",
   "metadata": {},
   "outputs": [
    {
     "data": {
      "text/plain": [
       "(6543, 2)"
      ]
     },
     "execution_count": 125,
     "metadata": {},
     "output_type": "execute_result"
    }
   ],
   "source": [
    "df.shape"
   ]
  },
  {
   "cell_type": "code",
   "execution_count": 126,
   "id": "06e50f8c",
   "metadata": {},
   "outputs": [],
   "source": [
    "df['age'] = pd.to_numeric(df['age'], errors='coerce')"
   ]
  },
  {
   "cell_type": "code",
   "execution_count": 127,
   "id": "02be2817",
   "metadata": {},
   "outputs": [
    {
     "data": {
      "text/plain": [
       "((6543, 2), dtype('float64'))"
      ]
     },
     "execution_count": 127,
     "metadata": {},
     "output_type": "execute_result"
    }
   ],
   "source": [
    "df.shape, df['age'].dtype"
   ]
  },
  {
   "cell_type": "code",
   "execution_count": 128,
   "id": "75c8a569",
   "metadata": {},
   "outputs": [
    {
     "data": {
      "text/plain": [
       "array([  71.,   47.,   87.,   90.,   73.,   37.,   59.,   75.,   97.,\n",
       "         78.,   67.,   82.,   85.,   86.,   88.,   92.,   55.,  102.,\n",
       "         96.,   93.,  101.,   25.,   21.,   74.,   76.,   72.,   83.,\n",
       "         95.,   45.,   62.,   68.,   94.,  100.,   84.,   91.,   52.,\n",
       "         79.,   nan,   34.,   58.,   66.,   99.,   60.,   16.,   80.,\n",
       "         81.,   15.,   53.,   70.,   89.,   26.,   61.,   64.,   77.,\n",
       "         31.,   14.,   44.,   98.,  112.,   43.,   56.,   33.,   57.,\n",
       "         65.,   69.,   48.,   54.,   23.,   40.,   49.,   50.,   35.,\n",
       "         32., 8889.,   38.,   22.,   51.,   28.,   63.,   20.,  103.,\n",
       "       6869.,   24.,   39.,  107.,   30.,   41., 3031.,   46., 5253.,\n",
       "         11.,   42., 4445.,   12., 6364.,   29.,   27., 9293.,   36.,\n",
       "       5759., 6768.,  104., 7980.,   19., 3435., 7677., 2526.,    9.,\n",
       "         17., 2930., 9192.,  110.,  116., 7374., 9394., 8081.,  109.,\n",
       "        106., 4243.,  113., 6667., 8485., 6970.,   18.,  105.,    7.,\n",
       "       7778., 8182.,  108.])"
      ]
     },
     "execution_count": 128,
     "metadata": {},
     "output_type": "execute_result"
    }
   ],
   "source": [
    "np.set_printoptions(suppress=True)\n",
    "df['age'].unique()"
   ]
  },
  {
   "cell_type": "code",
   "execution_count": 129,
   "id": "a46fb33d",
   "metadata": {},
   "outputs": [],
   "source": [
    "np.set_printoptions(suppress=False)"
   ]
  },
  {
   "cell_type": "code",
   "execution_count": 130,
   "id": "7f6d3256",
   "metadata": {},
   "outputs": [],
   "source": [
    "df = df.dropna(subset=['age'])\n",
    "\n",
    "# Remove all ages of 100 and above\n",
    "df = df[df['age'] < 120]"
   ]
  },
  {
   "cell_type": "code",
   "execution_count": 131,
   "id": "347760bf",
   "metadata": {},
   "outputs": [
    {
     "data": {
      "text/plain": [
       "array([ 71.,  47.,  87.,  90.,  73.,  37.,  59.,  75.,  97.,  78.,  67.,\n",
       "        82.,  85.,  86.,  88.,  92.,  55., 102.,  96.,  93., 101.,  25.,\n",
       "        21.,  74.,  76.,  72.,  83.,  95.,  45.,  62.,  68.,  94., 100.,\n",
       "        84.,  91.,  52.,  79.,  34.,  58.,  66.,  99.,  60.,  16.,  80.,\n",
       "        81.,  15.,  53.,  70.,  89.,  26.,  61.,  64.,  77.,  31.,  14.,\n",
       "        44.,  98., 112.,  43.,  56.,  33.,  57.,  65.,  69.,  48.,  54.,\n",
       "        23.,  40.,  49.,  50.,  35.,  32.,  38.,  22.,  51.,  28.,  63.,\n",
       "        20., 103.,  24.,  39., 107.,  30.,  41.,  46.,  11.,  42.,  12.,\n",
       "        29.,  27.,  36., 104.,  19.,   9.,  17., 110., 116., 109., 106.,\n",
       "       113.,  18., 105.,   7., 108.])"
      ]
     },
     "execution_count": 131,
     "metadata": {},
     "output_type": "execute_result"
    }
   ],
   "source": [
    "df['age'].unique()"
   ]
  },
  {
   "cell_type": "code",
   "execution_count": 132,
   "id": "6632e976",
   "metadata": {},
   "outputs": [
    {
     "data": {
      "text/plain": [
       "((6481, 2),\n",
       " dateofdeath    datetime64[ns]\n",
       " age                   float64\n",
       " dtype: object)"
      ]
     },
     "execution_count": 132,
     "metadata": {},
     "output_type": "execute_result"
    }
   ],
   "source": [
    "df.shape, df.dtypes"
   ]
  },
  {
   "cell_type": "code",
   "execution_count": 123,
   "id": "e3361087",
   "metadata": {},
   "outputs": [
    {
     "data": {
      "text/plain": [
       "dateofdeath    datetime64[ns]\n",
       "age                     int64\n",
       "dtype: object"
      ]
     },
     "execution_count": 123,
     "metadata": {},
     "output_type": "execute_result"
    }
   ],
   "source": [
    "# 6 Turn the age column into an integer value\n",
    "df['age'] = df['age'].astype(int)\n",
    "df.dtypes"
   ]
  },
  {
   "cell_type": "code",
   "execution_count": 135,
   "id": "dfa82e5e",
   "metadata": {},
   "outputs": [
    {
     "name": "stdout",
     "output_type": "stream",
     "text": [
      "Average age of celebrities who died from Feb to July: 77.18\n"
     ]
    }
   ],
   "source": [
    "# (7) Find the average age of celebrities who died during that period from Feb - July\n",
    "average_age = df.loc[2:7, 'age'].mean()\n",
    "print(f'Average age of celebrities who died from Feb to July: {average_age:.2f}')"
   ]
  },
  {
   "cell_type": "markdown",
   "id": "344a32a0",
   "metadata": {},
   "source": [
    "### 26.2 What was the average age of death from Feb. 15 through July 15?"
   ]
  },
  {
   "cell_type": "code",
   "execution_count": 10,
   "id": "7b3cbc3a",
   "metadata": {},
   "outputs": [
    {
     "data": {
      "text/html": [
       "<div>\n",
       "<style scoped>\n",
       "    .dataframe tbody tr th:only-of-type {\n",
       "        vertical-align: middle;\n",
       "    }\n",
       "\n",
       "    .dataframe tbody tr th {\n",
       "        vertical-align: top;\n",
       "    }\n",
       "\n",
       "    .dataframe thead th {\n",
       "        text-align: right;\n",
       "    }\n",
       "</style>\n",
       "<table border=\"1\" class=\"dataframe\">\n",
       "  <thead>\n",
       "    <tr style=\"text-align: right;\">\n",
       "      <th></th>\n",
       "      <th>dateofdeath</th>\n",
       "      <th>age</th>\n",
       "    </tr>\n",
       "    <tr>\n",
       "      <th>month</th>\n",
       "      <th></th>\n",
       "      <th></th>\n",
       "    </tr>\n",
       "  </thead>\n",
       "  <tbody>\n",
       "    <tr>\n",
       "      <th>1</th>\n",
       "      <td>2016-01-01</td>\n",
       "      <td>71.0</td>\n",
       "    </tr>\n",
       "    <tr>\n",
       "      <th>1</th>\n",
       "      <td>2016-01-21</td>\n",
       "      <td>47.0</td>\n",
       "    </tr>\n",
       "    <tr>\n",
       "      <th>1</th>\n",
       "      <td>2016-01-21</td>\n",
       "      <td>87.0</td>\n",
       "    </tr>\n",
       "    <tr>\n",
       "      <th>1</th>\n",
       "      <td>2016-01-21</td>\n",
       "      <td>90.0</td>\n",
       "    </tr>\n",
       "    <tr>\n",
       "      <th>1</th>\n",
       "      <td>2016-01-21</td>\n",
       "      <td>73.0</td>\n",
       "    </tr>\n",
       "  </tbody>\n",
       "</table>\n",
       "</div>"
      ],
      "text/plain": [
       "      dateofdeath   age\n",
       "month                  \n",
       "1      2016-01-01  71.0\n",
       "1      2016-01-21  47.0\n",
       "1      2016-01-21  87.0\n",
       "1      2016-01-21  90.0\n",
       "1      2016-01-21  73.0"
      ]
     },
     "execution_count": 10,
     "metadata": {},
     "output_type": "execute_result"
    }
   ],
   "source": [
    "file_name = 'data/celebrity_deaths_2016.csv'\n",
    "usecol = ['dateofdeath', 'age']\n",
    "\n",
    "df = pd.read_csv(file_name, usecols=usecol, low_memory=False)\n",
    "\n",
    "# Make the month column the index of the data frame\n",
    "df['dateofdeath'] = pd.to_datetime(df['dateofdeath'])\n",
    "df['month'] = df['dateofdeath'].dt.month\n",
    "df = df.set_index('month')\n",
    "\n",
    "# Sort the data frame by the index\n",
    "df = df.sort_index()\n",
    "\n",
    "# Convert the age column to numeric type, coercing errors to NaN\n",
    "df['age'] = pd.to_numeric(df['age'], errors='coerce')\n",
    "# Remove all NaN values from the age column\n",
    "df = df.dropna(subset=['age'])\n",
    "# Remove all ages of 120 and above\n",
    "df = df[df['age'] < 120]\n",
    "\n",
    "df.head()"
   ]
  },
  {
   "cell_type": "code",
   "execution_count": 11,
   "id": "1306ed4e",
   "metadata": {},
   "outputs": [
    {
     "data": {
      "text/html": [
       "<div>\n",
       "<style scoped>\n",
       "    .dataframe tbody tr th:only-of-type {\n",
       "        vertical-align: middle;\n",
       "    }\n",
       "\n",
       "    .dataframe tbody tr th {\n",
       "        vertical-align: top;\n",
       "    }\n",
       "\n",
       "    .dataframe thead th {\n",
       "        text-align: right;\n",
       "    }\n",
       "</style>\n",
       "<table border=\"1\" class=\"dataframe\">\n",
       "  <thead>\n",
       "    <tr style=\"text-align: right;\">\n",
       "      <th></th>\n",
       "      <th></th>\n",
       "      <th>dateofdeath</th>\n",
       "      <th>age</th>\n",
       "    </tr>\n",
       "    <tr>\n",
       "      <th>month</th>\n",
       "      <th>day</th>\n",
       "      <th></th>\n",
       "      <th></th>\n",
       "    </tr>\n",
       "  </thead>\n",
       "  <tbody>\n",
       "    <tr>\n",
       "      <th rowspan=\"5\" valign=\"top\">1</th>\n",
       "      <th>1</th>\n",
       "      <td>2016-01-01</td>\n",
       "      <td>71.0</td>\n",
       "    </tr>\n",
       "    <tr>\n",
       "      <th>1</th>\n",
       "      <td>2016-01-01</td>\n",
       "      <td>93.0</td>\n",
       "    </tr>\n",
       "    <tr>\n",
       "      <th>1</th>\n",
       "      <td>2016-01-01</td>\n",
       "      <td>74.0</td>\n",
       "    </tr>\n",
       "    <tr>\n",
       "      <th>1</th>\n",
       "      <td>2016-01-01</td>\n",
       "      <td>79.0</td>\n",
       "    </tr>\n",
       "    <tr>\n",
       "      <th>1</th>\n",
       "      <td>2016-01-01</td>\n",
       "      <td>45.0</td>\n",
       "    </tr>\n",
       "  </tbody>\n",
       "</table>\n",
       "</div>"
      ],
      "text/plain": [
       "          dateofdeath   age\n",
       "month day                  \n",
       "1     1    2016-01-01  71.0\n",
       "      1    2016-01-01  93.0\n",
       "      1    2016-01-01  74.0\n",
       "      1    2016-01-01  79.0\n",
       "      1    2016-01-01  45.0"
      ]
     },
     "execution_count": 11,
     "metadata": {},
     "output_type": "execute_result"
    }
   ],
   "source": [
    "# Add a new column, day, from the day of the month in which the celebrity died\n",
    "df['day'] = df['dateofdeath'].dt.day\n",
    "\n",
    "# Reset the index to include the day column\n",
    "df = df.reset_index()\n",
    "\n",
    "# Then create a multi-index (from month and day)\n",
    "df = df.set_index(['month', 'day'])\n",
    "df = df.sort_index()\n",
    "\n",
    "df.head()"
   ]
  },
  {
   "cell_type": "code",
   "execution_count": 12,
   "id": "80a57995",
   "metadata": {},
   "outputs": [
    {
     "name": "stdout",
     "output_type": "stream",
     "text": [
      "Average age of death from Feb. 15 through July 15: 77.05\n"
     ]
    }
   ],
   "source": [
    "# What was the average age of death from Feb. 15 through July 15?\n",
    "feb_15 = (2, 15)\n",
    "jul_15 = (7, 15)\n",
    "average_age = df.loc[feb_15:jul_15, 'age'].mean()\n",
    "print(f'Average age of death from Feb. 15 through July 15: {average_age:.2f}')"
   ]
  },
  {
   "cell_type": "markdown",
   "id": "20083293",
   "metadata": {},
   "source": [
    "### 26.3 Find the five most common causes of death"
   ]
  },
  {
   "cell_type": "code",
   "execution_count": 13,
   "id": "e6174928",
   "metadata": {},
   "outputs": [
    {
     "data": {
      "text/html": [
       "<div>\n",
       "<style scoped>\n",
       "    .dataframe tbody tr th:only-of-type {\n",
       "        vertical-align: middle;\n",
       "    }\n",
       "\n",
       "    .dataframe tbody tr th {\n",
       "        vertical-align: top;\n",
       "    }\n",
       "\n",
       "    .dataframe thead th {\n",
       "        text-align: right;\n",
       "    }\n",
       "</style>\n",
       "<table border=\"1\" class=\"dataframe\">\n",
       "  <thead>\n",
       "    <tr style=\"text-align: right;\">\n",
       "      <th></th>\n",
       "      <th>dateofdeath</th>\n",
       "      <th>age</th>\n",
       "      <th>causeofdeath</th>\n",
       "    </tr>\n",
       "  </thead>\n",
       "  <tbody>\n",
       "    <tr>\n",
       "      <th>0</th>\n",
       "      <td>2016-01-01</td>\n",
       "      <td>71</td>\n",
       "      <td>brain cancer</td>\n",
       "    </tr>\n",
       "    <tr>\n",
       "      <th>1</th>\n",
       "      <td>2016-01-01</td>\n",
       "      <td>74</td>\n",
       "      <td>cancer</td>\n",
       "    </tr>\n",
       "    <tr>\n",
       "      <th>2</th>\n",
       "      <td>2016-01-01</td>\n",
       "      <td>79</td>\n",
       "      <td>cancer</td>\n",
       "    </tr>\n",
       "    <tr>\n",
       "      <th>3</th>\n",
       "      <td>2016-01-01</td>\n",
       "      <td>45</td>\n",
       "      <td>complications of a stroke</td>\n",
       "    </tr>\n",
       "    <tr>\n",
       "      <th>4</th>\n",
       "      <td>2016-01-01</td>\n",
       "      <td>83</td>\n",
       "      <td>heart failure</td>\n",
       "    </tr>\n",
       "  </tbody>\n",
       "</table>\n",
       "</div>"
      ],
      "text/plain": [
       "  dateofdeath age                causeofdeath\n",
       "0  2016-01-01  71                brain cancer\n",
       "1  2016-01-01  74                      cancer\n",
       "2  2016-01-01  79                      cancer\n",
       "3  2016-01-01  45   complications of a stroke\n",
       "4  2016-01-01  83               heart failure"
      ]
     },
     "execution_count": 13,
     "metadata": {},
     "output_type": "execute_result"
    }
   ],
   "source": [
    "file_name = 'data/celebrity_deaths_2016.csv'\n",
    "usecol = ['dateofdeath', 'age', 'causeofdeath']\n",
    "\n",
    "df = pd.read_csv(file_name, usecols=usecol, low_memory=False)\n",
    "\n",
    "df.head()"
   ]
  },
  {
   "cell_type": "code",
   "execution_count": 21,
   "id": "7d7428f0",
   "metadata": {},
   "outputs": [
    {
     "name": "stdout",
     "output_type": "stream",
     "text": [
      "Top 5 causes of death:\n",
      " cancer            : 248\n",
      " heart attack      : 125\n",
      " traffic collision :  56\n",
      " lung cancer       :  51\n",
      " pneumonia         :  50\n"
     ]
    }
   ],
   "source": [
    "# Find the five most common causes of death\n",
    "top_causes = df['causeofdeath'].value_counts().head(5)\n",
    "print(\"Top 5 causes of death:\")\n",
    "for cause, count in top_causes.items():\n",
    "    print(f\"{cause:<19}: {count:>3}\")"
   ]
  },
  {
   "cell_type": "code",
   "execution_count": 26,
   "id": "c76cd869",
   "metadata": {},
   "outputs": [
    {
     "data": {
      "text/plain": [
       "(causeofdeath\n",
       " NaN                   5008\n",
       "  cancer                248\n",
       "  heart attack          125\n",
       "  traffic collision      56\n",
       "  lung cancer            51\n",
       " Name: count, dtype: int64,\n",
       " (6543, 3))"
      ]
     },
     "execution_count": 26,
     "metadata": {},
     "output_type": "execute_result"
    }
   ],
   "source": [
    "# Check the NaN values in the causeofdeath column\n",
    "df['causeofdeath'].value_counts(dropna=False, normalize=False). head(5), df.shape"
   ]
  },
  {
   "cell_type": "code",
   "execution_count": 25,
   "id": "9e926fc3",
   "metadata": {},
   "outputs": [
    {
     "data": {
      "text/plain": [
       "causeofdeath\n",
       "NaN                   0.765398\n",
       " cancer               0.037903\n",
       " heart attack         0.019104\n",
       " traffic collision    0.008559\n",
       " lung cancer          0.007795\n",
       "Name: proportion, dtype: float64"
      ]
     },
     "execution_count": 25,
     "metadata": {},
     "output_type": "execute_result"
    }
   ],
   "source": [
    "# Check the NaN values in the causeofdeath column\n",
    "df['causeofdeath'].value_counts(dropna=False, normalize=True). head(5)"
   ]
  },
  {
   "cell_type": "code",
   "execution_count": 27,
   "id": "e3cd8abf",
   "metadata": {},
   "outputs": [
    {
     "name": "stdout",
     "output_type": "stream",
     "text": [
      "Top 5 causes of death after replacing NaN with 'unknown':\n",
      "unknown            : 5008\n",
      " cancer            : 248\n",
      " heart attack      : 125\n",
      " traffic collision :  56\n",
      " lung cancer       :  51\n"
     ]
    }
   ],
   "source": [
    "# Now replace any NaN values in that column with the string 'unknown', \n",
    "# and again find the five most common causes of death\n",
    "df['causeofdeath'] = df['causeofdeath'].fillna('unknown')   \n",
    "top_causes = df['causeofdeath'].value_counts().head(5)\n",
    "print(\"Top 5 causes of death after replacing NaN with 'unknown':\")\n",
    "for cause, count in top_causes.items():\n",
    "    print(f\"{cause:<19}: {count:>3}\")"
   ]
  },
  {
   "cell_type": "markdown",
   "id": "91a227ec",
   "metadata": {},
   "source": [
    "### 26.4 If someone asks whether cancer is in the top 10 causes, what would you say?"
   ]
  },
  {
   "cell_type": "code",
   "execution_count": 7,
   "id": "461f1cd5",
   "metadata": {},
   "outputs": [
    {
     "data": {
      "text/html": [
       "<div>\n",
       "<style scoped>\n",
       "    .dataframe tbody tr th:only-of-type {\n",
       "        vertical-align: middle;\n",
       "    }\n",
       "\n",
       "    .dataframe tbody tr th {\n",
       "        vertical-align: top;\n",
       "    }\n",
       "\n",
       "    .dataframe thead th {\n",
       "        text-align: right;\n",
       "    }\n",
       "</style>\n",
       "<table border=\"1\" class=\"dataframe\">\n",
       "  <thead>\n",
       "    <tr style=\"text-align: right;\">\n",
       "      <th></th>\n",
       "      <th>dateofdeath</th>\n",
       "      <th>age</th>\n",
       "      <th>causeofdeath</th>\n",
       "    </tr>\n",
       "  </thead>\n",
       "  <tbody>\n",
       "    <tr>\n",
       "      <th>0</th>\n",
       "      <td>2016-01-01</td>\n",
       "      <td>71</td>\n",
       "      <td>brain cancer</td>\n",
       "    </tr>\n",
       "    <tr>\n",
       "      <th>1</th>\n",
       "      <td>2016-01-01</td>\n",
       "      <td>74</td>\n",
       "      <td>cancer</td>\n",
       "    </tr>\n",
       "    <tr>\n",
       "      <th>2</th>\n",
       "      <td>2016-01-01</td>\n",
       "      <td>79</td>\n",
       "      <td>cancer</td>\n",
       "    </tr>\n",
       "    <tr>\n",
       "      <th>3</th>\n",
       "      <td>2016-01-01</td>\n",
       "      <td>45</td>\n",
       "      <td>complications of a stroke</td>\n",
       "    </tr>\n",
       "    <tr>\n",
       "      <th>4</th>\n",
       "      <td>2016-01-01</td>\n",
       "      <td>83</td>\n",
       "      <td>heart failure</td>\n",
       "    </tr>\n",
       "  </tbody>\n",
       "</table>\n",
       "</div>"
      ],
      "text/plain": [
       "  dateofdeath age                causeofdeath\n",
       "0  2016-01-01  71                brain cancer\n",
       "1  2016-01-01  74                      cancer\n",
       "2  2016-01-01  79                      cancer\n",
       "3  2016-01-01  45   complications of a stroke\n",
       "4  2016-01-01  83               heart failure"
      ]
     },
     "execution_count": 7,
     "metadata": {},
     "output_type": "execute_result"
    }
   ],
   "source": [
    "file_name = 'data/celebrity_deaths_2016.csv'\n",
    "usecol = ['dateofdeath', 'age', 'causeofdeath']\n",
    "\n",
    "df = pd.read_csv(file_name, usecols=usecol, low_memory=False)\n",
    "\n",
    "# Fill NaN values in the causeofdeath column with 'unknown'\n",
    "df['causeofdeath'] = df['causeofdeath'].fillna('unknown')\n",
    "\n",
    "df.head()"
   ]
  },
  {
   "cell_type": "code",
   "execution_count": 13,
   "id": "896f035d",
   "metadata": {},
   "outputs": [
    {
     "name": "stdout",
     "output_type": "stream",
     "text": [
      "Total number of known causes of death: 1535\n",
      "Total number of unknown causes of death: 5008\n",
      "Total number of causes of death: 6543\n",
      "\n",
      "Number of causes of death that are exactly 'cancer': 8\n",
      "Number of causes of death that contain 'cancer': 529\n",
      "\n",
      "Percentage of causes of death that contain 'cancer': 34.46%\n"
     ]
    }
   ],
   "source": [
    "# Compute the number of known causes of death\n",
    "unknown_mask = df['causeofdeath'].str.contains('unknown')\n",
    "known_cause_count = df[~unknown_mask].shape[0]\n",
    "unknown_cause_count = df[unknown_mask].shape[0]\n",
    "total_count = df.shape[0]\n",
    "\n",
    "# Compute the number of 'cancer' causes of death\n",
    "cancer_narrow_count =df['causeofdeath'].isin(['cancer']).sum()\n",
    "cancer_wide_count = df['causeofdeath'].str.contains('cancer', case=False).sum()\n",
    "\n",
    "print(f\"Total number of known causes of death: {known_cause_count}\")\n",
    "print(f\"Total number of unknown causes of death: {unknown_cause_count}\")\n",
    "print(f\"Total number of causes of death: {total_count}\")\n",
    "print(f\"\\nNumber of causes of death that are exactly 'cancer': {cancer_narrow_count}\")\n",
    "print(f\"Number of causes of death that contain 'cancer': {cancer_wide_count}\")\n",
    "\n",
    "# Compute cancer_wide_count in percentage of known_cause_count\n",
    "cancer_wide_percentage = (cancer_wide_count / known_cause_count) * 100\n",
    "print(f\"\\nPercentage of causes of death that contain 'cancer': {cancer_wide_percentage:.2f}%\")"
   ]
  },
  {
   "cell_type": "markdown",
   "id": "7d4b1d83",
   "metadata": {},
   "source": [
    "## EXERCISE 27. Titanic interpolation"
   ]
  },
  {
   "cell_type": "markdown",
   "id": "4b8ecf79",
   "metadata": {},
   "source": [
    "### 27.1 Data exploration"
   ]
  },
  {
   "cell_type": "code",
   "execution_count": 15,
   "id": "a8e354ce",
   "metadata": {},
   "outputs": [
    {
     "data": {
      "text/html": [
       "<div>\n",
       "<style scoped>\n",
       "    .dataframe tbody tr th:only-of-type {\n",
       "        vertical-align: middle;\n",
       "    }\n",
       "\n",
       "    .dataframe tbody tr th {\n",
       "        vertical-align: top;\n",
       "    }\n",
       "\n",
       "    .dataframe thead th {\n",
       "        text-align: right;\n",
       "    }\n",
       "</style>\n",
       "<table border=\"1\" class=\"dataframe\">\n",
       "  <thead>\n",
       "    <tr style=\"text-align: right;\">\n",
       "      <th></th>\n",
       "      <th>pclass</th>\n",
       "      <th>survived</th>\n",
       "      <th>name</th>\n",
       "      <th>sex</th>\n",
       "      <th>age</th>\n",
       "      <th>sibsp</th>\n",
       "      <th>parch</th>\n",
       "      <th>ticket</th>\n",
       "      <th>fare</th>\n",
       "      <th>cabin</th>\n",
       "      <th>embarked</th>\n",
       "      <th>boat</th>\n",
       "      <th>body</th>\n",
       "      <th>home.dest</th>\n",
       "    </tr>\n",
       "  </thead>\n",
       "  <tbody>\n",
       "    <tr>\n",
       "      <th>0</th>\n",
       "      <td>1</td>\n",
       "      <td>1</td>\n",
       "      <td>Allen, Miss. Elisabeth Walton</td>\n",
       "      <td>female</td>\n",
       "      <td>29.0000</td>\n",
       "      <td>0</td>\n",
       "      <td>0</td>\n",
       "      <td>24160</td>\n",
       "      <td>211.3375</td>\n",
       "      <td>B5</td>\n",
       "      <td>S</td>\n",
       "      <td>2</td>\n",
       "      <td>NaN</td>\n",
       "      <td>St Louis, MO</td>\n",
       "    </tr>\n",
       "    <tr>\n",
       "      <th>1</th>\n",
       "      <td>1</td>\n",
       "      <td>1</td>\n",
       "      <td>Allison, Master. Hudson Trevor</td>\n",
       "      <td>male</td>\n",
       "      <td>0.9167</td>\n",
       "      <td>1</td>\n",
       "      <td>2</td>\n",
       "      <td>113781</td>\n",
       "      <td>151.5500</td>\n",
       "      <td>C22 C26</td>\n",
       "      <td>S</td>\n",
       "      <td>11</td>\n",
       "      <td>NaN</td>\n",
       "      <td>Montreal, PQ / Chesterville, ON</td>\n",
       "    </tr>\n",
       "    <tr>\n",
       "      <th>2</th>\n",
       "      <td>1</td>\n",
       "      <td>0</td>\n",
       "      <td>Allison, Miss. Helen Loraine</td>\n",
       "      <td>female</td>\n",
       "      <td>2.0000</td>\n",
       "      <td>1</td>\n",
       "      <td>2</td>\n",
       "      <td>113781</td>\n",
       "      <td>151.5500</td>\n",
       "      <td>C22 C26</td>\n",
       "      <td>S</td>\n",
       "      <td>NaN</td>\n",
       "      <td>NaN</td>\n",
       "      <td>Montreal, PQ / Chesterville, ON</td>\n",
       "    </tr>\n",
       "    <tr>\n",
       "      <th>3</th>\n",
       "      <td>1</td>\n",
       "      <td>0</td>\n",
       "      <td>Allison, Mr. Hudson Joshua Creighton</td>\n",
       "      <td>male</td>\n",
       "      <td>30.0000</td>\n",
       "      <td>1</td>\n",
       "      <td>2</td>\n",
       "      <td>113781</td>\n",
       "      <td>151.5500</td>\n",
       "      <td>C22 C26</td>\n",
       "      <td>S</td>\n",
       "      <td>NaN</td>\n",
       "      <td>135.0</td>\n",
       "      <td>Montreal, PQ / Chesterville, ON</td>\n",
       "    </tr>\n",
       "    <tr>\n",
       "      <th>4</th>\n",
       "      <td>1</td>\n",
       "      <td>0</td>\n",
       "      <td>Allison, Mrs. Hudson J C (Bessie Waldo Daniels)</td>\n",
       "      <td>female</td>\n",
       "      <td>25.0000</td>\n",
       "      <td>1</td>\n",
       "      <td>2</td>\n",
       "      <td>113781</td>\n",
       "      <td>151.5500</td>\n",
       "      <td>C22 C26</td>\n",
       "      <td>S</td>\n",
       "      <td>NaN</td>\n",
       "      <td>NaN</td>\n",
       "      <td>Montreal, PQ / Chesterville, ON</td>\n",
       "    </tr>\n",
       "  </tbody>\n",
       "</table>\n",
       "</div>"
      ],
      "text/plain": [
       "   pclass  survived                                             name     sex  \\\n",
       "0       1         1                    Allen, Miss. Elisabeth Walton  female   \n",
       "1       1         1                   Allison, Master. Hudson Trevor    male   \n",
       "2       1         0                     Allison, Miss. Helen Loraine  female   \n",
       "3       1         0             Allison, Mr. Hudson Joshua Creighton    male   \n",
       "4       1         0  Allison, Mrs. Hudson J C (Bessie Waldo Daniels)  female   \n",
       "\n",
       "       age  sibsp  parch  ticket      fare    cabin embarked boat   body  \\\n",
       "0  29.0000      0      0   24160  211.3375       B5        S    2    NaN   \n",
       "1   0.9167      1      2  113781  151.5500  C22 C26        S   11    NaN   \n",
       "2   2.0000      1      2  113781  151.5500  C22 C26        S  NaN    NaN   \n",
       "3  30.0000      1      2  113781  151.5500  C22 C26        S  NaN  135.0   \n",
       "4  25.0000      1      2  113781  151.5500  C22 C26        S  NaN    NaN   \n",
       "\n",
       "                         home.dest  \n",
       "0                     St Louis, MO  \n",
       "1  Montreal, PQ / Chesterville, ON  \n",
       "2  Montreal, PQ / Chesterville, ON  \n",
       "3  Montreal, PQ / Chesterville, ON  \n",
       "4  Montreal, PQ / Chesterville, ON  "
      ]
     },
     "execution_count": 15,
     "metadata": {},
     "output_type": "execute_result"
    }
   ],
   "source": [
    "# Load the Titanic dataset from an Excel file\n",
    "file_name = 'data/titanic3.xls'\n",
    "df = pd.read_excel(file_name)\n",
    "\n",
    "df.head()"
   ]
  },
  {
   "cell_type": "code",
   "execution_count": 17,
   "id": "91835fde",
   "metadata": {},
   "outputs": [
    {
     "data": {
      "text/plain": [
       "body         1188\n",
       "cabin        1014\n",
       "boat          823\n",
       "home.dest     564\n",
       "age           263\n",
       "embarked        2\n",
       "fare            1\n",
       "dtype: int64"
      ]
     },
     "execution_count": 17,
     "metadata": {},
     "output_type": "execute_result"
    }
   ],
   "source": [
    "# Determine which columns contain null values\n",
    "nan_counts = df.isna().sum()\n",
    "mask = nan_counts > 0\n",
    "nan_counts[mask].sort_values(ascending=False)"
   ]
  },
  {
   "cell_type": "code",
   "execution_count": 18,
   "id": "9f18100a",
   "metadata": {},
   "outputs": [
    {
     "data": {
      "text/plain": [
       "Index(['age', 'fare', 'cabin', 'embarked', 'boat', 'body', 'home.dest'], dtype='object')"
      ]
     },
     "execution_count": 18,
     "metadata": {},
     "output_type": "execute_result"
    }
   ],
   "source": [
    "df.columns[mask]"
   ]
  },
  {
   "cell_type": "code",
   "execution_count": 26,
   "id": "13413c75",
   "metadata": {},
   "outputs": [],
   "source": [
    "# A function to clean the titanic dataset\n",
    "def clean_titanic_data(df):\n",
    "    \"\"\"    Cleans the Titanic dataset by removing rows with missing values in 'embarked' and 'fare' columns.\n",
    "    Args:\n",
    "        df (pd.DataFrame): The Titanic dataset.\n",
    "    Returns:\n",
    "        pd.DataFrame: The cleaned dataset with rows containing NaN in 'embarked' and 'fare' removed.\n",
    "    \"\"\"\n",
    "\n",
    "    # Remove rows with any missing data for 'embarked' and 'fare'\n",
    "    df = df.dropna(subset=['embarked', 'fare'])\n",
    "\n",
    "    # Replace NaN values in 'age' with the mean age\n",
    "    df.loc[:, 'age'] = df['age'].fillna(df['age'].mean())\n",
    "\n",
    "    # Replace NaN values in 'home.dest' with the mode\n",
    "    df.loc[:, 'home.dest'] = df['home.dest'].fillna(df['home.dest'].mode()[0])\n",
    "\n",
    "    return df"
   ]
  },
  {
   "cell_type": "code",
   "execution_count": 27,
   "id": "11f7e98a",
   "metadata": {},
   "outputs": [],
   "source": [
    "# Load the Titanic dataset from an Excel file\n",
    "file_name = 'data/titanic3.xls'\n",
    "df = pd.read_excel(file_name)\n",
    "\n",
    "# Clean the Titanic dataset\n",
    "df = clean_titanic_data(df)"
   ]
  },
  {
   "cell_type": "code",
   "execution_count": 28,
   "id": "2211a3de",
   "metadata": {},
   "outputs": [
    {
     "data": {
      "text/plain": [
       "body     1186\n",
       "cabin    1013\n",
       "boat      822\n",
       "dtype: int64"
      ]
     },
     "execution_count": 28,
     "metadata": {},
     "output_type": "execute_result"
    }
   ],
   "source": [
    "# Determine which columns contain null values\n",
    "nan_counts = df.isna().sum()\n",
    "mask = nan_counts > 0\n",
    "nan_counts[mask].sort_values(ascending=False)"
   ]
  },
  {
   "cell_type": "markdown",
   "id": "6714e1bf",
   "metadata": {},
   "source": [
    "### 27.2 Replace NaN values in the `home.dest` column with the most common value from that person’s embarked column"
   ]
  },
  {
   "cell_type": "code",
   "execution_count": 46,
   "id": "03153622",
   "metadata": {},
   "outputs": [],
   "source": [
    "# Load the Titanic dataset from an Excel file\n",
    "file_name = 'data/titanic3.xls'\n",
    "df = pd.read_excel(file_name)\n",
    "\n",
    "# Remove rows with any missing data for 'embarked' and 'fare'\n",
    "# df = df.dropna(subset=['embarked', 'fare'])"
   ]
  },
  {
   "cell_type": "code",
   "execution_count": 47,
   "id": "80d0fdf0",
   "metadata": {},
   "outputs": [
    {
     "data": {
      "text/html": [
       "<div>\n",
       "<style scoped>\n",
       "    .dataframe tbody tr th:only-of-type {\n",
       "        vertical-align: middle;\n",
       "    }\n",
       "\n",
       "    .dataframe tbody tr th {\n",
       "        vertical-align: top;\n",
       "    }\n",
       "\n",
       "    .dataframe thead th {\n",
       "        text-align: right;\n",
       "    }\n",
       "</style>\n",
       "<table border=\"1\" class=\"dataframe\">\n",
       "  <thead>\n",
       "    <tr style=\"text-align: right;\">\n",
       "      <th></th>\n",
       "      <th>pclass</th>\n",
       "      <th>survived</th>\n",
       "      <th>name</th>\n",
       "      <th>sex</th>\n",
       "      <th>age</th>\n",
       "      <th>sibsp</th>\n",
       "      <th>parch</th>\n",
       "      <th>ticket</th>\n",
       "      <th>fare</th>\n",
       "      <th>cabin</th>\n",
       "      <th>embarked</th>\n",
       "      <th>boat</th>\n",
       "      <th>body</th>\n",
       "      <th>home.dest</th>\n",
       "    </tr>\n",
       "  </thead>\n",
       "  <tbody>\n",
       "    <tr>\n",
       "      <th>0</th>\n",
       "      <td>1</td>\n",
       "      <td>1</td>\n",
       "      <td>Allen, Miss. Elisabeth Walton</td>\n",
       "      <td>female</td>\n",
       "      <td>29.0000</td>\n",
       "      <td>0</td>\n",
       "      <td>0</td>\n",
       "      <td>24160</td>\n",
       "      <td>211.3375</td>\n",
       "      <td>B5</td>\n",
       "      <td>S</td>\n",
       "      <td>2</td>\n",
       "      <td>NaN</td>\n",
       "      <td>St Louis, MO</td>\n",
       "    </tr>\n",
       "    <tr>\n",
       "      <th>1</th>\n",
       "      <td>1</td>\n",
       "      <td>1</td>\n",
       "      <td>Allison, Master. Hudson Trevor</td>\n",
       "      <td>male</td>\n",
       "      <td>0.9167</td>\n",
       "      <td>1</td>\n",
       "      <td>2</td>\n",
       "      <td>113781</td>\n",
       "      <td>151.5500</td>\n",
       "      <td>C22 C26</td>\n",
       "      <td>S</td>\n",
       "      <td>11</td>\n",
       "      <td>NaN</td>\n",
       "      <td>Montreal, PQ / Chesterville, ON</td>\n",
       "    </tr>\n",
       "    <tr>\n",
       "      <th>2</th>\n",
       "      <td>1</td>\n",
       "      <td>0</td>\n",
       "      <td>Allison, Miss. Helen Loraine</td>\n",
       "      <td>female</td>\n",
       "      <td>2.0000</td>\n",
       "      <td>1</td>\n",
       "      <td>2</td>\n",
       "      <td>113781</td>\n",
       "      <td>151.5500</td>\n",
       "      <td>C22 C26</td>\n",
       "      <td>S</td>\n",
       "      <td>NaN</td>\n",
       "      <td>NaN</td>\n",
       "      <td>Montreal, PQ / Chesterville, ON</td>\n",
       "    </tr>\n",
       "    <tr>\n",
       "      <th>3</th>\n",
       "      <td>1</td>\n",
       "      <td>0</td>\n",
       "      <td>Allison, Mr. Hudson Joshua Creighton</td>\n",
       "      <td>male</td>\n",
       "      <td>30.0000</td>\n",
       "      <td>1</td>\n",
       "      <td>2</td>\n",
       "      <td>113781</td>\n",
       "      <td>151.5500</td>\n",
       "      <td>C22 C26</td>\n",
       "      <td>S</td>\n",
       "      <td>NaN</td>\n",
       "      <td>135.0</td>\n",
       "      <td>Montreal, PQ / Chesterville, ON</td>\n",
       "    </tr>\n",
       "    <tr>\n",
       "      <th>4</th>\n",
       "      <td>1</td>\n",
       "      <td>0</td>\n",
       "      <td>Allison, Mrs. Hudson J C (Bessie Waldo Daniels)</td>\n",
       "      <td>female</td>\n",
       "      <td>25.0000</td>\n",
       "      <td>1</td>\n",
       "      <td>2</td>\n",
       "      <td>113781</td>\n",
       "      <td>151.5500</td>\n",
       "      <td>C22 C26</td>\n",
       "      <td>S</td>\n",
       "      <td>NaN</td>\n",
       "      <td>NaN</td>\n",
       "      <td>Montreal, PQ / Chesterville, ON</td>\n",
       "    </tr>\n",
       "  </tbody>\n",
       "</table>\n",
       "</div>"
      ],
      "text/plain": [
       "   pclass  survived                                             name     sex  \\\n",
       "0       1         1                    Allen, Miss. Elisabeth Walton  female   \n",
       "1       1         1                   Allison, Master. Hudson Trevor    male   \n",
       "2       1         0                     Allison, Miss. Helen Loraine  female   \n",
       "3       1         0             Allison, Mr. Hudson Joshua Creighton    male   \n",
       "4       1         0  Allison, Mrs. Hudson J C (Bessie Waldo Daniels)  female   \n",
       "\n",
       "       age  sibsp  parch  ticket      fare    cabin embarked boat   body  \\\n",
       "0  29.0000      0      0   24160  211.3375       B5        S    2    NaN   \n",
       "1   0.9167      1      2  113781  151.5500  C22 C26        S   11    NaN   \n",
       "2   2.0000      1      2  113781  151.5500  C22 C26        S  NaN    NaN   \n",
       "3  30.0000      1      2  113781  151.5500  C22 C26        S  NaN  135.0   \n",
       "4  25.0000      1      2  113781  151.5500  C22 C26        S  NaN    NaN   \n",
       "\n",
       "                         home.dest  \n",
       "0                     St Louis, MO  \n",
       "1  Montreal, PQ / Chesterville, ON  \n",
       "2  Montreal, PQ / Chesterville, ON  \n",
       "3  Montreal, PQ / Chesterville, ON  \n",
       "4  Montreal, PQ / Chesterville, ON  "
      ]
     },
     "execution_count": 47,
     "metadata": {},
     "output_type": "execute_result"
    }
   ],
   "source": [
    "df.head()"
   ]
  },
  {
   "cell_type": "code",
   "execution_count": 48,
   "id": "52c1024f",
   "metadata": {},
   "outputs": [
    {
     "data": {
      "text/plain": [
       "array(['S', 'C', nan, 'Q'], dtype=object)"
      ]
     },
     "execution_count": 48,
     "metadata": {},
     "output_type": "execute_result"
    }
   ],
   "source": [
    "df['embarked'].unique()"
   ]
  },
  {
   "cell_type": "code",
   "execution_count": 49,
   "id": "22433f8b",
   "metadata": {},
   "outputs": [
    {
     "data": {
      "text/plain": [
       "embarked\n",
       "C           New York, NY\n",
       "Q    Ireland Chicago, IL\n",
       "S           New York, NY\n",
       "Name: home.dest, dtype: object"
      ]
     },
     "execution_count": 49,
     "metadata": {},
     "output_type": "execute_result"
    }
   ],
   "source": [
    "# (1) Create a series (most_common_destinations) in which the index contains the\n",
    "# unique values from the embarked column and the values are the most common\n",
    "# destination for each value of embarked.\n",
    "most_common_dest = df.groupby('embarked')['home.dest'].agg(lambda x: x.mode()[0])\n",
    "\n",
    "most_common_dest"
   ]
  },
  {
   "cell_type": "code",
   "execution_count": 50,
   "id": "adf9f583",
   "metadata": {},
   "outputs": [
    {
     "data": {
      "text/plain": [
       "S           New York, NY\n",
       "C           New York, NY\n",
       "Q    Ireland Chicago, IL\n",
       "dtype: object"
      ]
     },
     "execution_count": 50,
     "metadata": {},
     "output_type": "execute_result"
    }
   ],
   "source": [
    "# Let's do the same manually starting from an empty series\n",
    "unique_embarked = df['embarked'].dropna().unique()\n",
    "most_common_dest = pd.Series(index=unique_embarked, dtype='object')\n",
    "\n",
    "for embarked in unique_embarked:\n",
    "\n",
    "    # Get the most common destination for this embarked value\n",
    "    mask = df['embarked'] == embarked\n",
    "    max_value = df.loc[mask, 'home.dest'].mode()[0]\n",
    "\n",
    "    # Assign the most common destination to the series\n",
    "    most_common_dest[embarked] = max_value\n",
    "\n",
    "most_common_dest"
   ]
  },
  {
   "cell_type": "code",
   "execution_count": 55,
   "id": "32e05b4b",
   "metadata": {},
   "outputs": [],
   "source": [
    "# (2) (3) Use the most_common_destinations series to replace values in home.dest with\n",
    "# the most common values for each embarkation point.\n",
    "values_to_fill = df['embarked'].map(most_common_dest)\n",
    "df['home.dest'] = df['home.dest'].fillna(values_to_fill)"
   ]
  },
  {
   "cell_type": "code",
   "execution_count": 56,
   "id": "10fdd5f1",
   "metadata": {},
   "outputs": [
    {
     "data": {
      "text/plain": [
       "np.int64(1)"
      ]
     },
     "execution_count": 56,
     "metadata": {},
     "output_type": "execute_result"
    }
   ],
   "source": [
    "df['home.dest'].isnull().sum()"
   ]
  },
  {
   "cell_type": "markdown",
   "id": "d736890c",
   "metadata": {},
   "source": [
    "## EXERCISE 28. Inconsistent data"
   ]
  },
  {
   "cell_type": "code",
   "execution_count": 85,
   "id": "2bd72a69",
   "metadata": {},
   "outputs": [],
   "source": [
    "file_name = 'data/nyc-parking-violations-2020.csv'\n",
    "usecol = ['Plate ID',  'Registration State', 'Vehicle Make', 'Vehicle Color', 'Violation Time', 'Street Name']\n",
    "df = pd.read_csv(file_name, usecols=usecol, low_memory=False)"
   ]
  },
  {
   "cell_type": "code",
   "execution_count": 86,
   "id": "7b1a1179",
   "metadata": {},
   "outputs": [
    {
     "data": {
      "text/html": [
       "<div>\n",
       "<style scoped>\n",
       "    .dataframe tbody tr th:only-of-type {\n",
       "        vertical-align: middle;\n",
       "    }\n",
       "\n",
       "    .dataframe tbody tr th {\n",
       "        vertical-align: top;\n",
       "    }\n",
       "\n",
       "    .dataframe thead th {\n",
       "        text-align: right;\n",
       "    }\n",
       "</style>\n",
       "<table border=\"1\" class=\"dataframe\">\n",
       "  <thead>\n",
       "    <tr style=\"text-align: right;\">\n",
       "      <th></th>\n",
       "      <th>Plate ID</th>\n",
       "      <th>Registration State</th>\n",
       "      <th>Vehicle Make</th>\n",
       "      <th>Violation Time</th>\n",
       "      <th>Street Name</th>\n",
       "      <th>Vehicle Color</th>\n",
       "    </tr>\n",
       "  </thead>\n",
       "  <tbody>\n",
       "    <tr>\n",
       "      <th>0</th>\n",
       "      <td>J58JKX</td>\n",
       "      <td>NJ</td>\n",
       "      <td>HONDA</td>\n",
       "      <td>0523P</td>\n",
       "      <td>43 ST</td>\n",
       "      <td>BK</td>\n",
       "    </tr>\n",
       "    <tr>\n",
       "      <th>1</th>\n",
       "      <td>KRE6058</td>\n",
       "      <td>PA</td>\n",
       "      <td>ME/BE</td>\n",
       "      <td>0428P</td>\n",
       "      <td>UNION ST</td>\n",
       "      <td>BLK</td>\n",
       "    </tr>\n",
       "    <tr>\n",
       "      <th>2</th>\n",
       "      <td>444326R</td>\n",
       "      <td>NJ</td>\n",
       "      <td>LEXUS</td>\n",
       "      <td>0625A</td>\n",
       "      <td>CLERMONT AVENUE</td>\n",
       "      <td>BLACK</td>\n",
       "    </tr>\n",
       "    <tr>\n",
       "      <th>3</th>\n",
       "      <td>F728330</td>\n",
       "      <td>OH</td>\n",
       "      <td>CHEVR</td>\n",
       "      <td>1106A</td>\n",
       "      <td>DIVISION AVE</td>\n",
       "      <td>NaN</td>\n",
       "    </tr>\n",
       "    <tr>\n",
       "      <th>4</th>\n",
       "      <td>FMY9090</td>\n",
       "      <td>NY</td>\n",
       "      <td>JEEP</td>\n",
       "      <td>1253A</td>\n",
       "      <td>GRAND ST</td>\n",
       "      <td>GREY</td>\n",
       "    </tr>\n",
       "  </tbody>\n",
       "</table>\n",
       "</div>"
      ],
      "text/plain": [
       "  Plate ID Registration State Vehicle Make Violation Time      Street Name  \\\n",
       "0   J58JKX                 NJ        HONDA          0523P            43 ST   \n",
       "1  KRE6058                 PA        ME/BE          0428P         UNION ST   \n",
       "2  444326R                 NJ        LEXUS          0625A  CLERMONT AVENUE   \n",
       "3  F728330                 OH        CHEVR          1106A     DIVISION AVE   \n",
       "4  FMY9090                 NY         JEEP          1253A         GRAND ST   \n",
       "\n",
       "  Vehicle Color  \n",
       "0            BK  \n",
       "1           BLK  \n",
       "2         BLACK  \n",
       "3           NaN  \n",
       "4          GREY  "
      ]
     },
     "execution_count": 86,
     "metadata": {},
     "output_type": "execute_result"
    }
   ],
   "source": [
    "df.head()"
   ]
  },
  {
   "cell_type": "code",
   "execution_count": 87,
   "id": "56454e98",
   "metadata": {},
   "outputs": [],
   "source": [
    "# Drop the column 'Violation Time'\n",
    "df = df.drop(columns=['Violation Time'])"
   ]
  },
  {
   "cell_type": "code",
   "execution_count": 88,
   "id": "26803124",
   "metadata": {},
   "outputs": [
    {
     "data": {
      "text/html": [
       "<div>\n",
       "<style scoped>\n",
       "    .dataframe tbody tr th:only-of-type {\n",
       "        vertical-align: middle;\n",
       "    }\n",
       "\n",
       "    .dataframe tbody tr th {\n",
       "        vertical-align: top;\n",
       "    }\n",
       "\n",
       "    .dataframe thead th {\n",
       "        text-align: right;\n",
       "    }\n",
       "</style>\n",
       "<table border=\"1\" class=\"dataframe\">\n",
       "  <thead>\n",
       "    <tr style=\"text-align: right;\">\n",
       "      <th></th>\n",
       "      <th>Plate ID</th>\n",
       "      <th>Registration State</th>\n",
       "      <th>Vehicle Make</th>\n",
       "      <th>Street Name</th>\n",
       "      <th>Vehicle Color</th>\n",
       "    </tr>\n",
       "  </thead>\n",
       "  <tbody>\n",
       "    <tr>\n",
       "      <th>0</th>\n",
       "      <td>J58JKX</td>\n",
       "      <td>NJ</td>\n",
       "      <td>HONDA</td>\n",
       "      <td>43 ST</td>\n",
       "      <td>BK</td>\n",
       "    </tr>\n",
       "    <tr>\n",
       "      <th>1</th>\n",
       "      <td>KRE6058</td>\n",
       "      <td>PA</td>\n",
       "      <td>ME/BE</td>\n",
       "      <td>UNION ST</td>\n",
       "      <td>BLK</td>\n",
       "    </tr>\n",
       "    <tr>\n",
       "      <th>2</th>\n",
       "      <td>444326R</td>\n",
       "      <td>NJ</td>\n",
       "      <td>LEXUS</td>\n",
       "      <td>CLERMONT AVENUE</td>\n",
       "      <td>BLACK</td>\n",
       "    </tr>\n",
       "    <tr>\n",
       "      <th>3</th>\n",
       "      <td>F728330</td>\n",
       "      <td>OH</td>\n",
       "      <td>CHEVR</td>\n",
       "      <td>DIVISION AVE</td>\n",
       "      <td>NaN</td>\n",
       "    </tr>\n",
       "    <tr>\n",
       "      <th>4</th>\n",
       "      <td>FMY9090</td>\n",
       "      <td>NY</td>\n",
       "      <td>JEEP</td>\n",
       "      <td>GRAND ST</td>\n",
       "      <td>GREY</td>\n",
       "    </tr>\n",
       "  </tbody>\n",
       "</table>\n",
       "</div>"
      ],
      "text/plain": [
       "  Plate ID Registration State Vehicle Make      Street Name Vehicle Color\n",
       "0   J58JKX                 NJ        HONDA            43 ST            BK\n",
       "1  KRE6058                 PA        ME/BE         UNION ST           BLK\n",
       "2  444326R                 NJ        LEXUS  CLERMONT AVENUE         BLACK\n",
       "3  F728330                 OH        CHEVR     DIVISION AVE           NaN\n",
       "4  FMY9090                 NY         JEEP         GRAND ST          GREY"
      ]
     },
     "execution_count": 88,
     "metadata": {},
     "output_type": "execute_result"
    }
   ],
   "source": [
    "df.head()"
   ]
  },
  {
   "cell_type": "markdown",
   "id": "70b6da00",
   "metadata": {},
   "source": [
    "### 28.1 Data exploration"
   ]
  },
  {
   "cell_type": "code",
   "execution_count": 89,
   "id": "a7081442",
   "metadata": {},
   "outputs": [
    {
     "data": {
      "text/plain": [
       "array(['BK', 'BLK', 'BLACK', ..., 'WHGY8', 'ORYW', 'CH'],\n",
       "      shape=(1897,), dtype=object)"
      ]
     },
     "execution_count": 89,
     "metadata": {},
     "output_type": "execute_result"
    }
   ],
   "source": [
    "# 2 Determine how many different vehicle colors (the Vehicle Color column) there are.\n",
    "df['Vehicle Color'].unique()"
   ]
  },
  {
   "cell_type": "code",
   "execution_count": 90,
   "id": "6e92d782",
   "metadata": {},
   "outputs": [
    {
     "data": {
      "text/plain": [
       "Vehicle Color\n",
       "WH       2344858\n",
       "GY       2307704\n",
       "BK       2066374\n",
       "WHITE    1061234\n",
       "BL        775124\n",
       "RD        483298\n",
       "BLACK     465110\n",
       "GREY      306787\n",
       "BROWN     292348\n",
       "SILVE     191477\n",
       "GR        182929\n",
       "BLUE      178298\n",
       "RED       161693\n",
       "TN        120576\n",
       "BR        102204\n",
       "YW         98700\n",
       "BLK        91539\n",
       "OTHER      60245\n",
       "GREEN      58765\n",
       "GL         54851\n",
       "GRY        46527\n",
       "MR         42812\n",
       "GRAY       40854\n",
       "WHT        35433\n",
       "YELLO      32792\n",
       "WHI        29760\n",
       "OR         28100\n",
       "BK.        27830\n",
       "WT         25583\n",
       "WT.        24593\n",
       "Name: count, dtype: int64"
      ]
     },
     "execution_count": 90,
     "metadata": {},
     "output_type": "execute_result"
    }
   ],
   "source": [
    "# Look at the 30 most common colors, and identify colors that appear multiple\n",
    "# times but are written differently. For example, the color WHITE is also written WT,\n",
    "# WT., and WHT.\n",
    "df['Vehicle Color'].value_counts().head(30)"
   ]
  },
  {
   "cell_type": "code",
   "execution_count": 91,
   "id": "4eb3d2c5",
   "metadata": {},
   "outputs": [],
   "source": [
    "# 4 Prepare a Python dict in which the keys represent the various color-name inputs\n",
    "# and the values represent the values you want them to have in the end. I suggest\n",
    "# using longer names, such as WHITE, rather than shorter ones.\n",
    "colormap = {'WH': 'WHITE', \n",
    "          'GY':'GRAY', \n",
    "             'BK':'BLACK',\n",
    "             'BL':'BLUE',\n",
    "             'RD':'RED', \n",
    "             'GR':'GRAY',\n",
    "             'TN':'TAN',\n",
    "             'BR':'BROWN', \n",
    "             'YW':'YELLO', \n",
    "             'BLK':'BLACK',\n",
    "             'GRY':'GRAY', \n",
    "             'WHT':'WHITE', \n",
    "             'WHI':'WHITE', \n",
    "             'OR':'ORANG',\n",
    "             'BK.':'BLACK',\n",
    "             'WT':'WHITE',\n",
    "            'WT.':'WHITE'}"
   ]
  },
  {
   "cell_type": "code",
   "execution_count": 69,
   "id": "e15b05cd",
   "metadata": {},
   "outputs": [],
   "source": [
    "# 5 Replace the existing (old) colors with your translations. How many colors are\n",
    "# there now?\n",
    "df['Vehicle Color'] = df['Vehicle Color'].replace(colormap)"
   ]
  },
  {
   "cell_type": "code",
   "execution_count": 92,
   "id": "4306ea86",
   "metadata": {},
   "outputs": [
    {
     "data": {
      "text/plain": [
       "array(['BK', 'BLK', 'BLACK', ..., 'WHGY8', 'ORYW', 'CH'],\n",
       "      shape=(1897,), dtype=object)"
      ]
     },
     "execution_count": 92,
     "metadata": {},
     "output_type": "execute_result"
    }
   ],
   "source": [
    "df['Vehicle Color'].unique()"
   ]
  },
  {
   "cell_type": "markdown",
   "id": "9782d2fd",
   "metadata": {},
   "source": [
    "### 28.2 Beyond 1"
   ]
  },
  {
   "cell_type": "code",
   "execution_count": 72,
   "id": "a01df6a5",
   "metadata": {},
   "outputs": [
    {
     "data": {
      "text/plain": [
       "(array(['HONDA', 'ME/BE', 'LEXUS', ..., 'KASAK', 'Harle', 'KIA ('],\n",
       "       shape=(5211,), dtype=object),\n",
       " Vehicle Make\n",
       " TOYOT    1395273\n",
       " HONDA    1343265\n",
       " FORD     1328063\n",
       " NISSA    1119587\n",
       " CHEVR     711464\n",
       "           ...   \n",
       " BEAVE          1\n",
       " NELSO          1\n",
       " HOWBY          1\n",
       " BONEE          1\n",
       " KIA (          1\n",
       " Name: count, Length: 5210, dtype: int64)"
      ]
     },
     "execution_count": 72,
     "metadata": {},
     "output_type": "execute_result"
    }
   ],
   "source": [
    "df['Vehicle Make'].unique(), df['Vehicle Make'].value_counts()"
   ]
  },
  {
   "cell_type": "code",
   "execution_count": 94,
   "id": "fe7da11e",
   "metadata": {},
   "outputs": [],
   "source": [
    "def clean_name(one_string):\n",
    "\n",
    "    if not isinstance(one_string, str):\n",
    "        return one_string\n",
    "\n",
    "    output = ''\n",
    "    \n",
    "    for one_character in one_string.strip().upper():\n",
    "        if one_character in string.ascii_uppercase:\n",
    "            output += one_character\n",
    "\n",
    "    return output"
   ]
  },
  {
   "cell_type": "code",
   "execution_count": 98,
   "id": "a91c76c4",
   "metadata": {},
   "outputs": [
    {
     "name": "stdout",
     "output_type": "stream",
     "text": [
      "               ME/BE -> MEBE                \n",
      "                 nan -> nan                 \n",
      "               RA RO -> RARO                \n",
      "               NS/OT -> NSOT                \n",
      "               BL/BI -> BLBI                \n",
      "                 H D -> HD                  \n",
      "               MO/VE -> MOVE                \n",
      "               BMW/I -> BMWI                \n",
      "               TA/TA -> TATA                \n",
      "               KI/MO -> KIMO                \n",
      "                 L/R -> LR                  \n",
      "               NE/FL -> NEFL                \n",
      "                 M-B -> MB                  \n",
      "               RA/RO -> RARO                \n"
     ]
    }
   ],
   "source": [
    "# Try this function on a few examples from df['Vehicle Make'].unique()\n",
    "for make in df['Vehicle Make'].unique()[:200]:\n",
    "    clean_make = clean_name(make)\n",
    "    if clean_make != make:\n",
    "        # Only print if the name was changed\n",
    "        print(f\"{make:>20} -> {clean_name(make):<20}\")"
   ]
  },
  {
   "cell_type": "code",
   "execution_count": 99,
   "id": "849751fc",
   "metadata": {},
   "outputs": [
    {
     "name": "stdout",
     "output_type": "stream",
     "text": [
      "Unique vehicle makes before cleaning: 5210\n",
      "Unique vehicle makes after cleaning: 4915\n"
     ]
    }
   ],
   "source": [
    "# Apply the clean_name function to the Vehicle Make column\n",
    "unique_count_before = df['Vehicle Make'].nunique()\n",
    "df['Vehicle Make'] = df['Vehicle Make'].apply(clean_name)\n",
    "unique_count_after = df['Vehicle Make'].nunique()\n",
    "print(f\"Unique vehicle makes before cleaning: {unique_count_before}\")\n",
    "print(f\"Unique vehicle makes after cleaning: {unique_count_after}\")"
   ]
  },
  {
   "cell_type": "markdown",
   "id": "9a8a5d58",
   "metadata": {},
   "source": [
    "### 28.3 Beyond 2"
   ]
  },
  {
   "cell_type": "code",
   "execution_count": 102,
   "id": "72fd274d",
   "metadata": {},
   "outputs": [],
   "source": [
    "# For example, it sometimes says E 110th St and sometimes says E 110 ST\n",
    "s = df['Street Name'].dropna()"
   ]
  },
  {
   "cell_type": "code",
   "execution_count": 103,
   "id": "38258c22",
   "metadata": {},
   "outputs": [
    {
     "data": {
      "text/plain": [
       "Street Name\n",
       "W 110th St              2970\n",
       "110th St                2388\n",
       "E 110th St              2048\n",
       "WB 110TH AVE/BRINKER     922\n",
       "110th Ave                704\n",
       "110 ST                    94\n",
       "110th Rd                  93\n",
       "W 110 ST                  87\n",
       "E 110 ST                  71\n",
       "SB 110TH ST @ 67TH D      65\n",
       "Name: count, dtype: int64"
      ]
     },
     "execution_count": 103,
     "metadata": {},
     "output_type": "execute_result"
    }
   ],
   "source": [
    "s[s.str.contains('110')].value_counts().head(10)"
   ]
  },
  {
   "cell_type": "code",
   "execution_count": 104,
   "id": "1e934d48",
   "metadata": {},
   "outputs": [
    {
     "data": {
      "text/plain": [
       "Street Name\n",
       "SB BROADWAY @ 252ND     21939\n",
       "NB BROADWAY @ W 228T    13367\n",
       "BROADWAY                10771\n",
       "SB BROADWAY @ W 196T     6623\n",
       "NB BROADWAY @ W 120T     5691\n",
       "NB BROADWAY @ W 196T     2594\n",
       "BROADWAY (S/B) @ SHE     1456\n",
       "NB BROADWAY AVE @ W       963\n",
       "EB BROADWAY AVE @ 63      885\n",
       "NB BROADWAY @ WINEGA      431\n",
       "Name: count, dtype: int64"
      ]
     },
     "execution_count": 104,
     "metadata": {},
     "output_type": "execute_result"
    }
   ],
   "source": [
    "s[s.str.contains('BWAY') | s.str.contains('BROADWAY')].value_counts().head(10)"
   ]
  },
  {
   "cell_type": "markdown",
   "id": "bfae4db0",
   "metadata": {},
   "source": [
    "### Beyond 3"
   ]
  },
  {
   "cell_type": "code",
   "execution_count": 105,
   "id": "35a1095f",
   "metadata": {},
   "outputs": [
    {
     "data": {
      "text/plain": [
       "Registration State\n",
       "NY    9753643\n",
       "NJ    1096110\n",
       "PA     338779\n",
       "FL     174056\n",
       "CT     165205\n",
       "       ...   \n",
       "PE         18\n",
       "SK          8\n",
       "MX          7\n",
       "NT          3\n",
       "YT          2\n",
       "Name: count, Length: 68, dtype: int64"
      ]
     },
     "execution_count": 105,
     "metadata": {},
     "output_type": "execute_result"
    }
   ],
   "source": [
    "df['Registration State'].value_counts()"
   ]
  },
  {
   "cell_type": "code",
   "execution_count": null,
   "id": "a2edc65d",
   "metadata": {},
   "outputs": [],
   "source": []
  }
 ],
 "metadata": {
  "kernelspec": {
   "display_name": "env",
   "language": "python",
   "name": "python3"
  },
  "language_info": {
   "codemirror_mode": {
    "name": "ipython",
    "version": 3
   },
   "file_extension": ".py",
   "mimetype": "text/x-python",
   "name": "python",
   "nbconvert_exporter": "python",
   "pygments_lexer": "ipython3",
   "version": "3.13.2"
  }
 },
 "nbformat": 4,
 "nbformat_minor": 5
}
