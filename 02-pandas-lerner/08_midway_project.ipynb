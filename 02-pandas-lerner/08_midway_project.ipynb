{
 "cells": [
  {
   "cell_type": "markdown",
   "id": "b59d9c75",
   "metadata": {},
   "source": [
    "# Setup"
   ]
  },
  {
   "cell_type": "code",
   "execution_count": 1,
   "id": "c7fb2564",
   "metadata": {},
   "outputs": [],
   "source": [
    "import pandas as pd\n",
    "import numpy as np\n",
    "\n",
    "import requests\n",
    "from io import StringIO\n",
    "\n",
    "import string\n",
    "\n",
    "import utils_midproject as utils\n",
    "\n",
    "import matplotlib.pyplot as plt\n",
    "import seaborn as sns\n",
    "sns.set_theme()\n",
    "\n",
    "%load_ext autoreload\n",
    "%autoreload 2"
   ]
  },
  {
   "cell_type": "markdown",
   "id": "8e2f64f0",
   "metadata": {},
   "source": [
    "# 01 Python survey"
   ]
  },
  {
   "cell_type": "markdown",
   "id": "a333f3c2",
   "metadata": {},
   "source": [
    "## 01 Loading the data"
   ]
  },
  {
   "cell_type": "code",
   "execution_count": 2,
   "id": "698bbb21",
   "metadata": {},
   "outputs": [],
   "source": [
    "file_name = 'data/2020_sharing_data_outside.csv'\n",
    "\n",
    "py_df = pd.read_csv(file_name, low_memory=False)"
   ]
  },
  {
   "cell_type": "code",
   "execution_count": 3,
   "id": "062b9107",
   "metadata": {},
   "outputs": [
    {
     "data": {
      "text/html": [
       "<div>\n",
       "<style scoped>\n",
       "    .dataframe tbody tr th:only-of-type {\n",
       "        vertical-align: middle;\n",
       "    }\n",
       "\n",
       "    .dataframe tbody tr th {\n",
       "        vertical-align: top;\n",
       "    }\n",
       "\n",
       "    .dataframe thead th {\n",
       "        text-align: right;\n",
       "    }\n",
       "</style>\n",
       "<table border=\"1\" class=\"dataframe\">\n",
       "  <thead>\n",
       "    <tr style=\"text-align: right;\">\n",
       "      <th></th>\n",
       "      <th>is.python.main</th>\n",
       "      <th>other.lang.None</th>\n",
       "      <th>other.lang.Java</th>\n",
       "      <th>other.lang.JavaScript</th>\n",
       "      <th>other.lang.C/C++</th>\n",
       "      <th>other.lang.PHP</th>\n",
       "      <th>other.lang.C#</th>\n",
       "      <th>other.lang.Ruby</th>\n",
       "      <th>other.lang.Bash / Shell</th>\n",
       "      <th>other.lang.Objective-C</th>\n",
       "      <th>...</th>\n",
       "      <th>job.role.Technical support</th>\n",
       "      <th>job.role.Data analyst</th>\n",
       "      <th>job.role.Business analyst</th>\n",
       "      <th>job.role.Team lead</th>\n",
       "      <th>job.role.Product manager</th>\n",
       "      <th>job.role.CIO / CEO / CTO</th>\n",
       "      <th>job.role.Systems analyst</th>\n",
       "      <th>job.role.Other</th>\n",
       "      <th>age</th>\n",
       "      <th>country.live</th>\n",
       "    </tr>\n",
       "  </thead>\n",
       "  <tbody>\n",
       "    <tr>\n",
       "      <th>0</th>\n",
       "      <td>Yes</td>\n",
       "      <td>NaN</td>\n",
       "      <td>NaN</td>\n",
       "      <td>NaN</td>\n",
       "      <td>NaN</td>\n",
       "      <td>NaN</td>\n",
       "      <td>NaN</td>\n",
       "      <td>NaN</td>\n",
       "      <td>Bash / Shell</td>\n",
       "      <td>NaN</td>\n",
       "      <td>...</td>\n",
       "      <td>NaN</td>\n",
       "      <td>NaN</td>\n",
       "      <td>Business analyst</td>\n",
       "      <td>NaN</td>\n",
       "      <td>NaN</td>\n",
       "      <td>NaN</td>\n",
       "      <td>NaN</td>\n",
       "      <td>NaN</td>\n",
       "      <td>30–39</td>\n",
       "      <td>NaN</td>\n",
       "    </tr>\n",
       "    <tr>\n",
       "      <th>1</th>\n",
       "      <td>Yes</td>\n",
       "      <td>NaN</td>\n",
       "      <td>Java</td>\n",
       "      <td>JavaScript</td>\n",
       "      <td>NaN</td>\n",
       "      <td>NaN</td>\n",
       "      <td>C#</td>\n",
       "      <td>NaN</td>\n",
       "      <td>NaN</td>\n",
       "      <td>NaN</td>\n",
       "      <td>...</td>\n",
       "      <td>NaN</td>\n",
       "      <td>NaN</td>\n",
       "      <td>NaN</td>\n",
       "      <td>NaN</td>\n",
       "      <td>NaN</td>\n",
       "      <td>NaN</td>\n",
       "      <td>NaN</td>\n",
       "      <td>NaN</td>\n",
       "      <td>21–29</td>\n",
       "      <td>India</td>\n",
       "    </tr>\n",
       "    <tr>\n",
       "      <th>2</th>\n",
       "      <td>Yes</td>\n",
       "      <td>NaN</td>\n",
       "      <td>NaN</td>\n",
       "      <td>NaN</td>\n",
       "      <td>C/C++</td>\n",
       "      <td>NaN</td>\n",
       "      <td>NaN</td>\n",
       "      <td>NaN</td>\n",
       "      <td>Bash / Shell</td>\n",
       "      <td>NaN</td>\n",
       "      <td>...</td>\n",
       "      <td>Technical support</td>\n",
       "      <td>Data analyst</td>\n",
       "      <td>NaN</td>\n",
       "      <td>Team lead</td>\n",
       "      <td>NaN</td>\n",
       "      <td>NaN</td>\n",
       "      <td>NaN</td>\n",
       "      <td>NaN</td>\n",
       "      <td>30–39</td>\n",
       "      <td>United States</td>\n",
       "    </tr>\n",
       "    <tr>\n",
       "      <th>3</th>\n",
       "      <td>Yes</td>\n",
       "      <td>NaN</td>\n",
       "      <td>NaN</td>\n",
       "      <td>JavaScript</td>\n",
       "      <td>NaN</td>\n",
       "      <td>NaN</td>\n",
       "      <td>NaN</td>\n",
       "      <td>NaN</td>\n",
       "      <td>Bash / Shell</td>\n",
       "      <td>NaN</td>\n",
       "      <td>...</td>\n",
       "      <td>NaN</td>\n",
       "      <td>NaN</td>\n",
       "      <td>NaN</td>\n",
       "      <td>NaN</td>\n",
       "      <td>NaN</td>\n",
       "      <td>NaN</td>\n",
       "      <td>NaN</td>\n",
       "      <td>NaN</td>\n",
       "      <td>NaN</td>\n",
       "      <td>NaN</td>\n",
       "    </tr>\n",
       "    <tr>\n",
       "      <th>4</th>\n",
       "      <td>Yes</td>\n",
       "      <td>NaN</td>\n",
       "      <td>Java</td>\n",
       "      <td>JavaScript</td>\n",
       "      <td>C/C++</td>\n",
       "      <td>NaN</td>\n",
       "      <td>NaN</td>\n",
       "      <td>NaN</td>\n",
       "      <td>Bash / Shell</td>\n",
       "      <td>NaN</td>\n",
       "      <td>...</td>\n",
       "      <td>NaN</td>\n",
       "      <td>NaN</td>\n",
       "      <td>NaN</td>\n",
       "      <td>NaN</td>\n",
       "      <td>NaN</td>\n",
       "      <td>NaN</td>\n",
       "      <td>NaN</td>\n",
       "      <td>NaN</td>\n",
       "      <td>21–29</td>\n",
       "      <td>Italy</td>\n",
       "    </tr>\n",
       "  </tbody>\n",
       "</table>\n",
       "<p>5 rows × 264 columns</p>\n",
       "</div>"
      ],
      "text/plain": [
       "  is.python.main  other.lang.None other.lang.Java other.lang.JavaScript  \\\n",
       "0            Yes              NaN             NaN                   NaN   \n",
       "1            Yes              NaN            Java            JavaScript   \n",
       "2            Yes              NaN             NaN                   NaN   \n",
       "3            Yes              NaN             NaN            JavaScript   \n",
       "4            Yes              NaN            Java            JavaScript   \n",
       "\n",
       "  other.lang.C/C++ other.lang.PHP other.lang.C# other.lang.Ruby  \\\n",
       "0              NaN            NaN           NaN             NaN   \n",
       "1              NaN            NaN            C#             NaN   \n",
       "2            C/C++            NaN           NaN             NaN   \n",
       "3              NaN            NaN           NaN             NaN   \n",
       "4            C/C++            NaN           NaN             NaN   \n",
       "\n",
       "  other.lang.Bash / Shell other.lang.Objective-C  ...  \\\n",
       "0            Bash / Shell                    NaN  ...   \n",
       "1                     NaN                    NaN  ...   \n",
       "2            Bash / Shell                    NaN  ...   \n",
       "3            Bash / Shell                    NaN  ...   \n",
       "4            Bash / Shell                    NaN  ...   \n",
       "\n",
       "  job.role.Technical support job.role.Data analyst job.role.Business analyst  \\\n",
       "0                        NaN                   NaN          Business analyst   \n",
       "1                        NaN                   NaN                       NaN   \n",
       "2          Technical support          Data analyst                       NaN   \n",
       "3                        NaN                   NaN                       NaN   \n",
       "4                        NaN                   NaN                       NaN   \n",
       "\n",
       "  job.role.Team lead job.role.Product manager job.role.CIO / CEO / CTO  \\\n",
       "0                NaN                      NaN                      NaN   \n",
       "1                NaN                      NaN                      NaN   \n",
       "2          Team lead                      NaN                      NaN   \n",
       "3                NaN                      NaN                      NaN   \n",
       "4                NaN                      NaN                      NaN   \n",
       "\n",
       "  job.role.Systems analyst job.role.Other    age   country.live  \n",
       "0                      NaN            NaN  30–39            NaN  \n",
       "1                      NaN            NaN  21–29          India  \n",
       "2                      NaN            NaN  30–39  United States  \n",
       "3                      NaN            NaN    NaN            NaN  \n",
       "4                      NaN            NaN  21–29          Italy  \n",
       "\n",
       "[5 rows x 264 columns]"
      ]
     },
     "execution_count": 3,
     "metadata": {},
     "output_type": "execute_result"
    }
   ],
   "source": [
    "py_df.head()"
   ]
  },
  {
   "cell_type": "code",
   "execution_count": 5,
   "id": "d1a9b614",
   "metadata": {},
   "outputs": [
    {
     "data": {
      "text/plain": [
       "(54462, 264)"
      ]
     },
     "execution_count": 5,
     "metadata": {},
     "output_type": "execute_result"
    }
   ],
   "source": [
    "py_df.shape"
   ]
  },
  {
   "cell_type": "markdown",
   "id": "8316b71f",
   "metadata": {},
   "source": [
    "## 02 Turn the columns into a multi-index"
   ]
  },
  {
   "cell_type": "code",
   "execution_count": 11,
   "id": "bc85fdef",
   "metadata": {},
   "outputs": [],
   "source": [
    "miu = utils.MultiIndexUtils(df=py_df)\n",
    "df_multi = miu.with_multi_index_columns()"
   ]
  },
  {
   "cell_type": "code",
   "execution_count": 12,
   "id": "1cde77e8",
   "metadata": {},
   "outputs": [
    {
     "data": {
      "text/html": [
       "<div>\n",
       "<style scoped>\n",
       "    .dataframe tbody tr th:only-of-type {\n",
       "        vertical-align: middle;\n",
       "    }\n",
       "\n",
       "    .dataframe tbody tr th {\n",
       "        vertical-align: top;\n",
       "    }\n",
       "\n",
       "    .dataframe thead tr th {\n",
       "        text-align: left;\n",
       "    }\n",
       "</style>\n",
       "<table border=\"1\" class=\"dataframe\">\n",
       "  <thead>\n",
       "    <tr>\n",
       "      <th></th>\n",
       "      <th>general</th>\n",
       "      <th colspan=\"9\" halign=\"left\">other.lang</th>\n",
       "      <th>...</th>\n",
       "      <th colspan=\"8\" halign=\"left\">job.role</th>\n",
       "      <th colspan=\"2\" halign=\"left\">general</th>\n",
       "    </tr>\n",
       "    <tr>\n",
       "      <th></th>\n",
       "      <th>is.python.main</th>\n",
       "      <th>None</th>\n",
       "      <th>Java</th>\n",
       "      <th>JavaScript</th>\n",
       "      <th>C/C++</th>\n",
       "      <th>PHP</th>\n",
       "      <th>C#</th>\n",
       "      <th>Ruby</th>\n",
       "      <th>Bash / Shell</th>\n",
       "      <th>Objective-C</th>\n",
       "      <th>...</th>\n",
       "      <th>Technical support</th>\n",
       "      <th>Data analyst</th>\n",
       "      <th>Business analyst</th>\n",
       "      <th>Team lead</th>\n",
       "      <th>Product manager</th>\n",
       "      <th>CIO / CEO / CTO</th>\n",
       "      <th>Systems analyst</th>\n",
       "      <th>Other</th>\n",
       "      <th>age</th>\n",
       "      <th>country.live</th>\n",
       "    </tr>\n",
       "  </thead>\n",
       "  <tbody>\n",
       "    <tr>\n",
       "      <th>0</th>\n",
       "      <td>Yes</td>\n",
       "      <td>NaN</td>\n",
       "      <td>NaN</td>\n",
       "      <td>NaN</td>\n",
       "      <td>NaN</td>\n",
       "      <td>NaN</td>\n",
       "      <td>NaN</td>\n",
       "      <td>NaN</td>\n",
       "      <td>Bash / Shell</td>\n",
       "      <td>NaN</td>\n",
       "      <td>...</td>\n",
       "      <td>NaN</td>\n",
       "      <td>NaN</td>\n",
       "      <td>Business analyst</td>\n",
       "      <td>NaN</td>\n",
       "      <td>NaN</td>\n",
       "      <td>NaN</td>\n",
       "      <td>NaN</td>\n",
       "      <td>NaN</td>\n",
       "      <td>30–39</td>\n",
       "      <td>NaN</td>\n",
       "    </tr>\n",
       "    <tr>\n",
       "      <th>1</th>\n",
       "      <td>Yes</td>\n",
       "      <td>NaN</td>\n",
       "      <td>Java</td>\n",
       "      <td>JavaScript</td>\n",
       "      <td>NaN</td>\n",
       "      <td>NaN</td>\n",
       "      <td>C#</td>\n",
       "      <td>NaN</td>\n",
       "      <td>NaN</td>\n",
       "      <td>NaN</td>\n",
       "      <td>...</td>\n",
       "      <td>NaN</td>\n",
       "      <td>NaN</td>\n",
       "      <td>NaN</td>\n",
       "      <td>NaN</td>\n",
       "      <td>NaN</td>\n",
       "      <td>NaN</td>\n",
       "      <td>NaN</td>\n",
       "      <td>NaN</td>\n",
       "      <td>21–29</td>\n",
       "      <td>India</td>\n",
       "    </tr>\n",
       "    <tr>\n",
       "      <th>2</th>\n",
       "      <td>Yes</td>\n",
       "      <td>NaN</td>\n",
       "      <td>NaN</td>\n",
       "      <td>NaN</td>\n",
       "      <td>C/C++</td>\n",
       "      <td>NaN</td>\n",
       "      <td>NaN</td>\n",
       "      <td>NaN</td>\n",
       "      <td>Bash / Shell</td>\n",
       "      <td>NaN</td>\n",
       "      <td>...</td>\n",
       "      <td>Technical support</td>\n",
       "      <td>Data analyst</td>\n",
       "      <td>NaN</td>\n",
       "      <td>Team lead</td>\n",
       "      <td>NaN</td>\n",
       "      <td>NaN</td>\n",
       "      <td>NaN</td>\n",
       "      <td>NaN</td>\n",
       "      <td>30–39</td>\n",
       "      <td>United States</td>\n",
       "    </tr>\n",
       "    <tr>\n",
       "      <th>3</th>\n",
       "      <td>Yes</td>\n",
       "      <td>NaN</td>\n",
       "      <td>NaN</td>\n",
       "      <td>JavaScript</td>\n",
       "      <td>NaN</td>\n",
       "      <td>NaN</td>\n",
       "      <td>NaN</td>\n",
       "      <td>NaN</td>\n",
       "      <td>Bash / Shell</td>\n",
       "      <td>NaN</td>\n",
       "      <td>...</td>\n",
       "      <td>NaN</td>\n",
       "      <td>NaN</td>\n",
       "      <td>NaN</td>\n",
       "      <td>NaN</td>\n",
       "      <td>NaN</td>\n",
       "      <td>NaN</td>\n",
       "      <td>NaN</td>\n",
       "      <td>NaN</td>\n",
       "      <td>NaN</td>\n",
       "      <td>NaN</td>\n",
       "    </tr>\n",
       "    <tr>\n",
       "      <th>4</th>\n",
       "      <td>Yes</td>\n",
       "      <td>NaN</td>\n",
       "      <td>Java</td>\n",
       "      <td>JavaScript</td>\n",
       "      <td>C/C++</td>\n",
       "      <td>NaN</td>\n",
       "      <td>NaN</td>\n",
       "      <td>NaN</td>\n",
       "      <td>Bash / Shell</td>\n",
       "      <td>NaN</td>\n",
       "      <td>...</td>\n",
       "      <td>NaN</td>\n",
       "      <td>NaN</td>\n",
       "      <td>NaN</td>\n",
       "      <td>NaN</td>\n",
       "      <td>NaN</td>\n",
       "      <td>NaN</td>\n",
       "      <td>NaN</td>\n",
       "      <td>NaN</td>\n",
       "      <td>21–29</td>\n",
       "      <td>Italy</td>\n",
       "    </tr>\n",
       "  </tbody>\n",
       "</table>\n",
       "<p>5 rows × 264 columns</p>\n",
       "</div>"
      ],
      "text/plain": [
       "         general other.lang                                          \\\n",
       "  is.python.main       None  Java  JavaScript  C/C++  PHP   C# Ruby   \n",
       "0            Yes        NaN   NaN         NaN    NaN  NaN  NaN  NaN   \n",
       "1            Yes        NaN  Java  JavaScript    NaN  NaN   C#  NaN   \n",
       "2            Yes        NaN   NaN         NaN  C/C++  NaN  NaN  NaN   \n",
       "3            Yes        NaN   NaN  JavaScript    NaN  NaN  NaN  NaN   \n",
       "4            Yes        NaN  Java  JavaScript  C/C++  NaN  NaN  NaN   \n",
       "\n",
       "                             ...           job.role                \\\n",
       "   Bash / Shell Objective-C  ...  Technical support  Data analyst   \n",
       "0  Bash / Shell         NaN  ...                NaN           NaN   \n",
       "1           NaN         NaN  ...                NaN           NaN   \n",
       "2  Bash / Shell         NaN  ...  Technical support  Data analyst   \n",
       "3  Bash / Shell         NaN  ...                NaN           NaN   \n",
       "4  Bash / Shell         NaN  ...                NaN           NaN   \n",
       "\n",
       "                                                                \\\n",
       "   Business analyst  Team lead Product manager CIO / CEO / CTO   \n",
       "0  Business analyst        NaN             NaN             NaN   \n",
       "1               NaN        NaN             NaN             NaN   \n",
       "2               NaN  Team lead             NaN             NaN   \n",
       "3               NaN        NaN             NaN             NaN   \n",
       "4               NaN        NaN             NaN             NaN   \n",
       "\n",
       "                        general                 \n",
       "  Systems analyst Other     age   country.live  \n",
       "0             NaN   NaN   30–39            NaN  \n",
       "1             NaN   NaN   21–29          India  \n",
       "2             NaN   NaN   30–39  United States  \n",
       "3             NaN   NaN     NaN            NaN  \n",
       "4             NaN   NaN   21–29          Italy  \n",
       "\n",
       "[5 rows x 264 columns]"
      ]
     },
     "execution_count": 12,
     "metadata": {},
     "output_type": "execute_result"
    }
   ],
   "source": [
    "df_multi.head()"
   ]
  },
  {
   "cell_type": "code",
   "execution_count": 13,
   "id": "d49da471",
   "metadata": {},
   "outputs": [
    {
     "data": {
      "text/plain": [
       "((54462, 264), (54462, 264))"
      ]
     },
     "execution_count": 13,
     "metadata": {},
     "output_type": "execute_result"
    }
   ],
   "source": [
    "py_df.shape, df_multi.shape"
   ]
  },
  {
   "cell_type": "markdown",
   "id": "9cb0a062",
   "metadata": {},
   "source": [
    "## 03 Sort the columns so they’re in alphabetical order"
   ]
  },
  {
   "cell_type": "code",
   "execution_count": 14,
   "id": "f07405a2",
   "metadata": {},
   "outputs": [],
   "source": [
    "# SOrted columns\n",
    "df_multi = df_multi.reindex(sorted(df_multi.columns), axis=1)"
   ]
  },
  {
   "cell_type": "code",
   "execution_count": 15,
   "id": "37206996",
   "metadata": {},
   "outputs": [
    {
     "data": {
      "text/html": [
       "<div>\n",
       "<style scoped>\n",
       "    .dataframe tbody tr th:only-of-type {\n",
       "        vertical-align: middle;\n",
       "    }\n",
       "\n",
       "    .dataframe tbody tr th {\n",
       "        vertical-align: top;\n",
       "    }\n",
       "\n",
       "    .dataframe thead tr th {\n",
       "        text-align: left;\n",
       "    }\n",
       "</style>\n",
       "<table border=\"1\" class=\"dataframe\">\n",
       "  <thead>\n",
       "    <tr>\n",
       "      <th></th>\n",
       "      <th colspan=\"10\" halign=\"left\">bigdata</th>\n",
       "      <th>...</th>\n",
       "      <th colspan=\"10\" halign=\"left\">web.frameworks</th>\n",
       "    </tr>\n",
       "    <tr>\n",
       "      <th></th>\n",
       "      <th>Apache Beam</th>\n",
       "      <th>Apache Flink</th>\n",
       "      <th>Apache Hadoop/MapReduce</th>\n",
       "      <th>Apache Hive</th>\n",
       "      <th>Apache Kafka</th>\n",
       "      <th>Apache Samza</th>\n",
       "      <th>Apache Spark</th>\n",
       "      <th>Apache Tez</th>\n",
       "      <th>ClickHouse</th>\n",
       "      <th>Dask</th>\n",
       "      <th>...</th>\n",
       "      <th>Django</th>\n",
       "      <th>Falcon</th>\n",
       "      <th>FastAPI</th>\n",
       "      <th>Flask</th>\n",
       "      <th>Hug</th>\n",
       "      <th>None</th>\n",
       "      <th>Other</th>\n",
       "      <th>Pyramid</th>\n",
       "      <th>Tornado</th>\n",
       "      <th>web2py</th>\n",
       "    </tr>\n",
       "  </thead>\n",
       "  <tbody>\n",
       "    <tr>\n",
       "      <th>0</th>\n",
       "      <td>Apache Beam</td>\n",
       "      <td>NaN</td>\n",
       "      <td>NaN</td>\n",
       "      <td>NaN</td>\n",
       "      <td>NaN</td>\n",
       "      <td>NaN</td>\n",
       "      <td>NaN</td>\n",
       "      <td>NaN</td>\n",
       "      <td>NaN</td>\n",
       "      <td>NaN</td>\n",
       "      <td>...</td>\n",
       "      <td>NaN</td>\n",
       "      <td>NaN</td>\n",
       "      <td>NaN</td>\n",
       "      <td>NaN</td>\n",
       "      <td>NaN</td>\n",
       "      <td>NaN</td>\n",
       "      <td>NaN</td>\n",
       "      <td>NaN</td>\n",
       "      <td>NaN</td>\n",
       "      <td>NaN</td>\n",
       "    </tr>\n",
       "    <tr>\n",
       "      <th>1</th>\n",
       "      <td>NaN</td>\n",
       "      <td>NaN</td>\n",
       "      <td>NaN</td>\n",
       "      <td>NaN</td>\n",
       "      <td>NaN</td>\n",
       "      <td>NaN</td>\n",
       "      <td>NaN</td>\n",
       "      <td>NaN</td>\n",
       "      <td>NaN</td>\n",
       "      <td>NaN</td>\n",
       "      <td>...</td>\n",
       "      <td>NaN</td>\n",
       "      <td>NaN</td>\n",
       "      <td>NaN</td>\n",
       "      <td>NaN</td>\n",
       "      <td>NaN</td>\n",
       "      <td>NaN</td>\n",
       "      <td>NaN</td>\n",
       "      <td>NaN</td>\n",
       "      <td>Tornado</td>\n",
       "      <td>NaN</td>\n",
       "    </tr>\n",
       "    <tr>\n",
       "      <th>2</th>\n",
       "      <td>NaN</td>\n",
       "      <td>NaN</td>\n",
       "      <td>NaN</td>\n",
       "      <td>NaN</td>\n",
       "      <td>NaN</td>\n",
       "      <td>NaN</td>\n",
       "      <td>NaN</td>\n",
       "      <td>NaN</td>\n",
       "      <td>NaN</td>\n",
       "      <td>NaN</td>\n",
       "      <td>...</td>\n",
       "      <td>NaN</td>\n",
       "      <td>NaN</td>\n",
       "      <td>NaN</td>\n",
       "      <td>Flask</td>\n",
       "      <td>NaN</td>\n",
       "      <td>NaN</td>\n",
       "      <td>NaN</td>\n",
       "      <td>NaN</td>\n",
       "      <td>NaN</td>\n",
       "      <td>NaN</td>\n",
       "    </tr>\n",
       "    <tr>\n",
       "      <th>3</th>\n",
       "      <td>NaN</td>\n",
       "      <td>NaN</td>\n",
       "      <td>NaN</td>\n",
       "      <td>NaN</td>\n",
       "      <td>NaN</td>\n",
       "      <td>NaN</td>\n",
       "      <td>NaN</td>\n",
       "      <td>NaN</td>\n",
       "      <td>NaN</td>\n",
       "      <td>NaN</td>\n",
       "      <td>...</td>\n",
       "      <td>Django</td>\n",
       "      <td>NaN</td>\n",
       "      <td>NaN</td>\n",
       "      <td>NaN</td>\n",
       "      <td>NaN</td>\n",
       "      <td>NaN</td>\n",
       "      <td>NaN</td>\n",
       "      <td>NaN</td>\n",
       "      <td>NaN</td>\n",
       "      <td>NaN</td>\n",
       "    </tr>\n",
       "    <tr>\n",
       "      <th>4</th>\n",
       "      <td>NaN</td>\n",
       "      <td>NaN</td>\n",
       "      <td>NaN</td>\n",
       "      <td>NaN</td>\n",
       "      <td>NaN</td>\n",
       "      <td>NaN</td>\n",
       "      <td>NaN</td>\n",
       "      <td>NaN</td>\n",
       "      <td>NaN</td>\n",
       "      <td>NaN</td>\n",
       "      <td>...</td>\n",
       "      <td>NaN</td>\n",
       "      <td>NaN</td>\n",
       "      <td>NaN</td>\n",
       "      <td>Flask</td>\n",
       "      <td>NaN</td>\n",
       "      <td>NaN</td>\n",
       "      <td>NaN</td>\n",
       "      <td>NaN</td>\n",
       "      <td>NaN</td>\n",
       "      <td>NaN</td>\n",
       "    </tr>\n",
       "  </tbody>\n",
       "</table>\n",
       "<p>5 rows × 264 columns</p>\n",
       "</div>"
      ],
      "text/plain": [
       "       bigdata                                                                \\\n",
       "   Apache Beam Apache Flink Apache Hadoop/MapReduce Apache Hive Apache Kafka   \n",
       "0  Apache Beam          NaN                     NaN         NaN          NaN   \n",
       "1          NaN          NaN                     NaN         NaN          NaN   \n",
       "2          NaN          NaN                     NaN         NaN          NaN   \n",
       "3          NaN          NaN                     NaN         NaN          NaN   \n",
       "4          NaN          NaN                     NaN         NaN          NaN   \n",
       "\n",
       "                                                        ... web.frameworks  \\\n",
       "  Apache Samza Apache Spark Apache Tez ClickHouse Dask  ...         Django   \n",
       "0          NaN          NaN        NaN        NaN  NaN  ...            NaN   \n",
       "1          NaN          NaN        NaN        NaN  NaN  ...            NaN   \n",
       "2          NaN          NaN        NaN        NaN  NaN  ...            NaN   \n",
       "3          NaN          NaN        NaN        NaN  NaN  ...         Django   \n",
       "4          NaN          NaN        NaN        NaN  NaN  ...            NaN   \n",
       "\n",
       "                                                                   \n",
       "  Falcon FastAPI  Flask   Hug None Other Pyramid   Tornado web2py  \n",
       "0    NaN     NaN     NaN  NaN  NaN   NaN      NaN      NaN    NaN  \n",
       "1    NaN     NaN     NaN  NaN  NaN   NaN      NaN  Tornado    NaN  \n",
       "2    NaN     NaN  Flask   NaN  NaN   NaN      NaN      NaN    NaN  \n",
       "3    NaN     NaN     NaN  NaN  NaN   NaN      NaN      NaN    NaN  \n",
       "4    NaN     NaN  Flask   NaN  NaN   NaN      NaN      NaN    NaN  \n",
       "\n",
       "[5 rows x 264 columns]"
      ]
     },
     "execution_count": 15,
     "metadata": {},
     "output_type": "execute_result"
    }
   ],
   "source": [
    "df_multi.head()"
   ]
  },
  {
   "cell_type": "markdown",
   "id": "51e34854",
   "metadata": {},
   "source": [
    "## 04 Answer these questions:"
   ]
  },
  {
   "cell_type": "markdown",
   "id": "7841b7f5",
   "metadata": {},
   "source": [
    "### What are the 10 most popular Python IDEs?"
   ]
  },
  {
   "cell_type": "code",
   "execution_count": 23,
   "id": "be27174c",
   "metadata": {},
   "outputs": [
    {
     "name": "stdout",
     "output_type": "stream",
     "text": [
      "ide - main\n",
      "ide.editor - Atom\n",
      "ide.editor - Eclipse + Pydev\n",
      "ide.editor - Emacs\n",
      "ide.editor - IDLE\n",
      "ide.editor - IntelliJ IDEA\n",
      "ide.editor - Jupyter Notebook\n",
      "ide.editor - JupyterLab\n",
      "ide.editor - None\n",
      "ide.editor - NotePad++\n",
      "ide.editor - Other\n",
      "ide.editor - PyCharm Community Edition\n",
      "ide.editor - PyCharm Professional Edition\n",
      "ide.editor - Python Tools for Visual Studio (PTVS)\n",
      "ide.editor - Spyder\n",
      "ide.editor - Sublime Text\n",
      "ide.editor - VS Code\n",
      "ide.editor - Vim\n"
     ]
    }
   ],
   "source": [
    "for first, second in df_multi.columns:\n",
    "    if 'ide' in first.lower():\n",
    "        print(f'{first} - {second}')"
   ]
  },
  {
   "cell_type": "code",
   "execution_count": 25,
   "id": "5b4521a0",
   "metadata": {},
   "outputs": [
    {
     "data": {
      "text/plain": [
       "0           PyCharm Community Edition\n",
       "1                             VS Code\n",
       "2                                 Vim\n",
       "3        PyCharm Professional Edition\n",
       "4                             VS Code\n",
       "                     ...             \n",
       "54457                             Vim\n",
       "54458                             NaN\n",
       "54459    PyCharm Professional Edition\n",
       "54460                           Other\n",
       "54461                         VS Code\n",
       "Name: (ide, main), Length: 54462, dtype: object"
      ]
     },
     "execution_count": 25,
     "metadata": {},
     "output_type": "execute_result"
    }
   ],
   "source": [
    "df_multi[('ide', 'main')]"
   ]
  },
  {
   "cell_type": "code",
   "execution_count": 26,
   "id": "948c50d0",
   "metadata": {},
   "outputs": [
    {
     "data": {
      "text/plain": [
       "0            NaN\n",
       "1            NaN\n",
       "2        VS Code\n",
       "3            NaN\n",
       "4            NaN\n",
       "          ...   \n",
       "54457        NaN\n",
       "54458        NaN\n",
       "54459    VS Code\n",
       "54460        NaN\n",
       "54461        NaN\n",
       "Name: (ide.editor, VS Code), Length: 54462, dtype: object"
      ]
     },
     "execution_count": 26,
     "metadata": {},
     "output_type": "execute_result"
    }
   ],
   "source": [
    "df_multi[('ide.editor', 'VS Code')]"
   ]
  },
  {
   "cell_type": "code",
   "execution_count": 27,
   "id": "6dc6f9f8",
   "metadata": {},
   "outputs": [
    {
     "data": {
      "text/plain": [
       "(ide, main)\n",
       "VS Code                         8010\n",
       "PyCharm Professional Edition    5144\n",
       "PyCharm Community Edition       3815\n",
       "Vim                             2176\n",
       "Sublime Text                    1201\n",
       "Jupyter Notebook                1167\n",
       "Atom                             784\n",
       "Other                            711\n",
       "Emacs                            636\n",
       "Spyder                           580\n",
       "Name: count, dtype: int64"
      ]
     },
     "execution_count": 27,
     "metadata": {},
     "output_type": "execute_result"
    }
   ],
   "source": [
    "df_multi[('ide', 'main')].value_counts().head(10)"
   ]
  },
  {
   "cell_type": "markdown",
   "id": "02fe489d",
   "metadata": {},
   "source": [
    "### Which 10 other programming languages (`other.lang`) are most commonly used by Python developers?"
   ]
  },
  {
   "cell_type": "code",
   "execution_count": 29,
   "id": "21afca9b",
   "metadata": {},
   "outputs": [
    {
     "name": "stdout",
     "output_type": "stream",
     "text": [
      "other.lang - Bash / Shell\n",
      "other.lang - C#\n",
      "other.lang - C/C++\n",
      "other.lang - Clojure\n",
      "other.lang - CoffeeScript\n",
      "other.lang - Go\n",
      "other.lang - Groovy\n",
      "other.lang - HTML/CSS\n",
      "other.lang - Java\n",
      "other.lang - JavaScript\n",
      "other.lang - Kotlin\n",
      "other.lang - None\n",
      "other.lang - Objective-C\n",
      "other.lang - Other\n",
      "other.lang - PHP\n",
      "other.lang - Perl\n",
      "other.lang - R\n",
      "other.lang - Ruby\n",
      "other.lang - Rust\n",
      "other.lang - SQL\n",
      "other.lang - Scala\n",
      "other.lang - Swift\n",
      "other.lang - TypeScript\n",
      "other.lang - Visual Basic\n"
     ]
    }
   ],
   "source": [
    "for first, second in df_multi.columns:\n",
    "    if 'other.lang' in first.lower():\n",
    "        print(f'{first} - {second}')"
   ]
  },
  {
   "cell_type": "code",
   "execution_count": 32,
   "id": "00a7be17",
   "metadata": {},
   "outputs": [
    {
     "data": {
      "text/plain": [
       "JavaScript      16662\n",
       "HTML/CSS        15469\n",
       "Bash / Shell    13793\n",
       "SQL             13391\n",
       "C/C++           11623\n",
       "Java             8109\n",
       "C#               4460\n",
       "PHP              4060\n",
       "TypeScript       3717\n",
       "Other            3592\n",
       "dtype: int64"
      ]
     },
     "execution_count": 32,
     "metadata": {},
     "output_type": "execute_result"
    }
   ],
   "source": [
    "df_multi['other.lang'].count().sort_values(ascending=False).head(10)"
   ]
  },
  {
   "cell_type": "markdown",
   "id": "445724e6",
   "metadata": {},
   "source": [
    "### What were the 10 most common countries from which survey participants came?"
   ]
  },
  {
   "cell_type": "code",
   "execution_count": 34,
   "id": "66afe69e",
   "metadata": {},
   "outputs": [
    {
     "data": {
      "text/plain": [
       "(general, country.live)\n",
       "United States         3975\n",
       "India                 2800\n",
       "Germany               1807\n",
       "China                 1155\n",
       "United Kingdom        1110\n",
       "France                1078\n",
       "Russian Federation     935\n",
       "Other country          880\n",
       "Brazil                 812\n",
       "Canada                 644\n",
       "Name: count, dtype: int64"
      ]
     },
     "execution_count": 34,
     "metadata": {},
     "output_type": "execute_result"
    }
   ],
   "source": [
    "df_multi[('general', 'country.live')].value_counts().head(10)"
   ]
  },
  {
   "cell_type": "markdown",
   "id": "bd7d079b",
   "metadata": {},
   "source": [
    "### According to the Python survey, what proportion of Python developers have each level of experience?"
   ]
  },
  {
   "cell_type": "code",
   "execution_count": 35,
   "id": "1af7daac",
   "metadata": {},
   "outputs": [
    {
     "data": {
      "text/plain": [
       "(general, python.years)\n",
       "3–5 years           10302\n",
       "Less than 1 year     8681\n",
       "1–2 years            8148\n",
       "6–10 years           5615\n",
       "11+ years            3494\n",
       "Name: count, dtype: int64"
      ]
     },
     "execution_count": 35,
     "metadata": {},
     "output_type": "execute_result"
    }
   ],
   "source": [
    "df_multi[('general', 'python.years')].value_counts().head(10)"
   ]
  },
  {
   "cell_type": "markdown",
   "id": "84dc901b",
   "metadata": {},
   "source": [
    "### Which country has the greatest number of Python developers with 11+ years of experience?"
   ]
  },
  {
   "cell_type": "code",
   "execution_count": 37,
   "id": "f96d5702",
   "metadata": {},
   "outputs": [
    {
     "data": {
      "text/plain": [
       "(general, country.live)\n",
       "United States     691\n",
       "Germany           308\n",
       "United Kingdom    207\n",
       "France            166\n",
       "Australia          94\n",
       "Canada             94\n",
       "Netherlands        78\n",
       "Italy              71\n",
       "Spain              67\n",
       "Other country      63\n",
       "Name: count, dtype: int64"
      ]
     },
     "execution_count": 37,
     "metadata": {},
     "output_type": "execute_result"
    }
   ],
   "source": [
    "# Which country has the greatest number of Python developers with 11+ years of experience?\n",
    "mask = df_multi[('general', 'python.years')] == '11+ years'\n",
    "df_multi[mask][('general', 'country.live')].value_counts().head(10)"
   ]
  },
  {
   "cell_type": "markdown",
   "id": "be291e59",
   "metadata": {},
   "source": [
    "### Which country has the greatest proportion of Python developers with 11+ years of experience?"
   ]
  },
  {
   "cell_type": "code",
   "execution_count": 38,
   "id": "ee74b131",
   "metadata": {},
   "outputs": [],
   "source": [
    "# Which country has the greatest proportion of Python developers with 11+ years of experience?\n",
    "country_experience = df_multi['general'][['country.live', 'python.years']]"
   ]
  },
  {
   "cell_type": "code",
   "execution_count": 39,
   "id": "c409a0dd",
   "metadata": {},
   "outputs": [
    {
     "data": {
      "text/html": [
       "<div>\n",
       "<style scoped>\n",
       "    .dataframe tbody tr th:only-of-type {\n",
       "        vertical-align: middle;\n",
       "    }\n",
       "\n",
       "    .dataframe tbody tr th {\n",
       "        vertical-align: top;\n",
       "    }\n",
       "\n",
       "    .dataframe thead th {\n",
       "        text-align: right;\n",
       "    }\n",
       "</style>\n",
       "<table border=\"1\" class=\"dataframe\">\n",
       "  <thead>\n",
       "    <tr style=\"text-align: right;\">\n",
       "      <th></th>\n",
       "      <th>country.live</th>\n",
       "      <th>python.years</th>\n",
       "    </tr>\n",
       "  </thead>\n",
       "  <tbody>\n",
       "    <tr>\n",
       "      <th>0</th>\n",
       "      <td>NaN</td>\n",
       "      <td>3–5 years</td>\n",
       "    </tr>\n",
       "    <tr>\n",
       "      <th>1</th>\n",
       "      <td>India</td>\n",
       "      <td>3–5 years</td>\n",
       "    </tr>\n",
       "    <tr>\n",
       "      <th>2</th>\n",
       "      <td>United States</td>\n",
       "      <td>3–5 years</td>\n",
       "    </tr>\n",
       "    <tr>\n",
       "      <th>3</th>\n",
       "      <td>NaN</td>\n",
       "      <td>11+ years</td>\n",
       "    </tr>\n",
       "    <tr>\n",
       "      <th>4</th>\n",
       "      <td>Italy</td>\n",
       "      <td>1–2 years</td>\n",
       "    </tr>\n",
       "    <tr>\n",
       "      <th>...</th>\n",
       "      <td>...</td>\n",
       "      <td>...</td>\n",
       "    </tr>\n",
       "    <tr>\n",
       "      <th>54457</th>\n",
       "      <td>Russian Federation</td>\n",
       "      <td>6–10 years</td>\n",
       "    </tr>\n",
       "    <tr>\n",
       "      <th>54458</th>\n",
       "      <td>NaN</td>\n",
       "      <td>3–5 years</td>\n",
       "    </tr>\n",
       "    <tr>\n",
       "      <th>54459</th>\n",
       "      <td>Russian Federation</td>\n",
       "      <td>3–5 years</td>\n",
       "    </tr>\n",
       "    <tr>\n",
       "      <th>54460</th>\n",
       "      <td>Spain</td>\n",
       "      <td>6–10 years</td>\n",
       "    </tr>\n",
       "    <tr>\n",
       "      <th>54461</th>\n",
       "      <td>Algeria</td>\n",
       "      <td>1–2 years</td>\n",
       "    </tr>\n",
       "  </tbody>\n",
       "</table>\n",
       "<p>54462 rows × 2 columns</p>\n",
       "</div>"
      ],
      "text/plain": [
       "             country.live python.years\n",
       "0                     NaN    3–5 years\n",
       "1                   India    3–5 years\n",
       "2           United States    3–5 years\n",
       "3                     NaN    11+ years\n",
       "4                   Italy    1–2 years\n",
       "...                   ...          ...\n",
       "54457  Russian Federation   6–10 years\n",
       "54458                 NaN    3–5 years\n",
       "54459  Russian Federation    3–5 years\n",
       "54460               Spain   6–10 years\n",
       "54461             Algeria    1–2 years\n",
       "\n",
       "[54462 rows x 2 columns]"
      ]
     },
     "execution_count": 39,
     "metadata": {},
     "output_type": "execute_result"
    }
   ],
   "source": [
    "country_experience"
   ]
  },
  {
   "cell_type": "code",
   "execution_count": 40,
   "id": "fae3e5f3",
   "metadata": {},
   "outputs": [],
   "source": [
    "all_per_country = country_experience['country.live'].value_counts() "
   ]
  },
  {
   "cell_type": "code",
   "execution_count": 41,
   "id": "160996e7",
   "metadata": {},
   "outputs": [
    {
     "data": {
      "text/plain": [
       "country.live\n",
       "United States         3975\n",
       "India                 2800\n",
       "Germany               1807\n",
       "China                 1155\n",
       "United Kingdom        1110\n",
       "                      ... \n",
       "Kazakhstan              36\n",
       "Dominican Republic      34\n",
       "Uruguay                 33\n",
       "Armenia                 31\n",
       "Uzbekistan              31\n",
       "Name: count, Length: 76, dtype: int64"
      ]
     },
     "execution_count": 41,
     "metadata": {},
     "output_type": "execute_result"
    }
   ],
   "source": [
    "all_per_country"
   ]
  },
  {
   "cell_type": "code",
   "execution_count": 42,
   "id": "583474ed",
   "metadata": {},
   "outputs": [],
   "source": [
    "expert_per_country = country_experience[mask]['country.live'].value_counts()"
   ]
  },
  {
   "cell_type": "code",
   "execution_count": 43,
   "id": "1532ef67",
   "metadata": {},
   "outputs": [
    {
     "data": {
      "text/plain": [
       "country.live\n",
       "United States     691\n",
       "Germany           308\n",
       "United Kingdom    207\n",
       "France            166\n",
       "Australia          94\n",
       "                 ... \n",
       "Viet Nam            1\n",
       "Tunisia             1\n",
       "Pakistan            1\n",
       "Bangladesh          1\n",
       "Egypt               1\n",
       "Name: count, Length: 70, dtype: int64"
      ]
     },
     "execution_count": 43,
     "metadata": {},
     "output_type": "execute_result"
    }
   ],
   "source": [
    "expert_per_country"
   ]
  },
  {
   "cell_type": "code",
   "execution_count": 44,
   "id": "21ac1e64",
   "metadata": {},
   "outputs": [
    {
     "data": {
      "text/plain": [
       "country.live\n",
       "Algeria          0.068966\n",
       "Argentina        0.092308\n",
       "Armenia               NaN\n",
       "Australia        0.225420\n",
       "Austria          0.186170\n",
       "                   ...   \n",
       "United States    0.173836\n",
       "Uruguay          0.060606\n",
       "Uzbekistan            NaN\n",
       "Venezuela        0.045455\n",
       "Viet Nam         0.013158\n",
       "Name: count, Length: 76, dtype: float64"
      ]
     },
     "execution_count": 44,
     "metadata": {},
     "output_type": "execute_result"
    }
   ],
   "source": [
    "expert_per_country / all_per_country"
   ]
  },
  {
   "cell_type": "markdown",
   "id": "56162a8d",
   "metadata": {},
   "source": [
    "# 02 Stack Overflow data"
   ]
  },
  {
   "cell_type": "markdown",
   "id": "a479b155",
   "metadata": {},
   "source": [
    "## 05 Load the Stack Overflow data"
   ]
  },
  {
   "cell_type": "code",
   "execution_count": 2,
   "id": "bb02fe42",
   "metadata": {},
   "outputs": [],
   "source": [
    "file_name_so = 'data/so_2021_survey_results.csv'\n",
    "df_so = pd.read_csv(file_name_so, low_memory=False)"
   ]
  },
  {
   "cell_type": "code",
   "execution_count": 3,
   "id": "30a5904e",
   "metadata": {},
   "outputs": [
    {
     "data": {
      "text/plain": [
       "(83439, 48)"
      ]
     },
     "execution_count": 3,
     "metadata": {},
     "output_type": "execute_result"
    }
   ],
   "source": [
    "df_so.shape"
   ]
  },
  {
   "cell_type": "code",
   "execution_count": 4,
   "id": "fe00608f",
   "metadata": {},
   "outputs": [
    {
     "data": {
      "text/html": [
       "<div>\n",
       "<style scoped>\n",
       "    .dataframe tbody tr th:only-of-type {\n",
       "        vertical-align: middle;\n",
       "    }\n",
       "\n",
       "    .dataframe tbody tr th {\n",
       "        vertical-align: top;\n",
       "    }\n",
       "\n",
       "    .dataframe thead th {\n",
       "        text-align: right;\n",
       "    }\n",
       "</style>\n",
       "<table border=\"1\" class=\"dataframe\">\n",
       "  <thead>\n",
       "    <tr style=\"text-align: right;\">\n",
       "      <th></th>\n",
       "      <th>ResponseId</th>\n",
       "      <th>MainBranch</th>\n",
       "      <th>Employment</th>\n",
       "      <th>Country</th>\n",
       "      <th>US_State</th>\n",
       "      <th>UK_Country</th>\n",
       "      <th>EdLevel</th>\n",
       "      <th>Age1stCode</th>\n",
       "      <th>LearnCode</th>\n",
       "      <th>YearsCode</th>\n",
       "      <th>...</th>\n",
       "      <th>Age</th>\n",
       "      <th>Gender</th>\n",
       "      <th>Trans</th>\n",
       "      <th>Sexuality</th>\n",
       "      <th>Ethnicity</th>\n",
       "      <th>Accessibility</th>\n",
       "      <th>MentalHealth</th>\n",
       "      <th>SurveyLength</th>\n",
       "      <th>SurveyEase</th>\n",
       "      <th>ConvertedCompYearly</th>\n",
       "    </tr>\n",
       "  </thead>\n",
       "  <tbody>\n",
       "    <tr>\n",
       "      <th>0</th>\n",
       "      <td>1</td>\n",
       "      <td>I am a developer by profession</td>\n",
       "      <td>Independent contractor, freelancer, or self-em...</td>\n",
       "      <td>Slovakia</td>\n",
       "      <td>NaN</td>\n",
       "      <td>NaN</td>\n",
       "      <td>Secondary school (e.g. American high school, G...</td>\n",
       "      <td>18 - 24 years</td>\n",
       "      <td>Coding Bootcamp;Other online resources (ex: vi...</td>\n",
       "      <td>NaN</td>\n",
       "      <td>...</td>\n",
       "      <td>25-34 years old</td>\n",
       "      <td>Man</td>\n",
       "      <td>No</td>\n",
       "      <td>Straight / Heterosexual</td>\n",
       "      <td>White or of European descent</td>\n",
       "      <td>None of the above</td>\n",
       "      <td>None of the above</td>\n",
       "      <td>Appropriate in length</td>\n",
       "      <td>Easy</td>\n",
       "      <td>62268.0</td>\n",
       "    </tr>\n",
       "    <tr>\n",
       "      <th>1</th>\n",
       "      <td>2</td>\n",
       "      <td>I am a student who is learning to code</td>\n",
       "      <td>Student, full-time</td>\n",
       "      <td>Netherlands</td>\n",
       "      <td>NaN</td>\n",
       "      <td>NaN</td>\n",
       "      <td>Bachelor’s degree (B.A., B.S., B.Eng., etc.)</td>\n",
       "      <td>11 - 17 years</td>\n",
       "      <td>Other online resources (ex: videos, blogs, etc...</td>\n",
       "      <td>7</td>\n",
       "      <td>...</td>\n",
       "      <td>18-24 years old</td>\n",
       "      <td>Man</td>\n",
       "      <td>No</td>\n",
       "      <td>Straight / Heterosexual</td>\n",
       "      <td>White or of European descent</td>\n",
       "      <td>None of the above</td>\n",
       "      <td>None of the above</td>\n",
       "      <td>Appropriate in length</td>\n",
       "      <td>Easy</td>\n",
       "      <td>NaN</td>\n",
       "    </tr>\n",
       "    <tr>\n",
       "      <th>2</th>\n",
       "      <td>3</td>\n",
       "      <td>I am not primarily a developer, but I write co...</td>\n",
       "      <td>Student, full-time</td>\n",
       "      <td>Russian Federation</td>\n",
       "      <td>NaN</td>\n",
       "      <td>NaN</td>\n",
       "      <td>Bachelor’s degree (B.A., B.S., B.Eng., etc.)</td>\n",
       "      <td>11 - 17 years</td>\n",
       "      <td>Other online resources (ex: videos, blogs, etc...</td>\n",
       "      <td>NaN</td>\n",
       "      <td>...</td>\n",
       "      <td>18-24 years old</td>\n",
       "      <td>Man</td>\n",
       "      <td>No</td>\n",
       "      <td>Prefer not to say</td>\n",
       "      <td>Prefer not to say</td>\n",
       "      <td>None of the above</td>\n",
       "      <td>None of the above</td>\n",
       "      <td>Appropriate in length</td>\n",
       "      <td>Easy</td>\n",
       "      <td>NaN</td>\n",
       "    </tr>\n",
       "    <tr>\n",
       "      <th>3</th>\n",
       "      <td>4</td>\n",
       "      <td>I am a developer by profession</td>\n",
       "      <td>Employed full-time</td>\n",
       "      <td>Austria</td>\n",
       "      <td>NaN</td>\n",
       "      <td>NaN</td>\n",
       "      <td>Master’s degree (M.A., M.S., M.Eng., MBA, etc.)</td>\n",
       "      <td>11 - 17 years</td>\n",
       "      <td>NaN</td>\n",
       "      <td>NaN</td>\n",
       "      <td>...</td>\n",
       "      <td>35-44 years old</td>\n",
       "      <td>Man</td>\n",
       "      <td>No</td>\n",
       "      <td>Straight / Heterosexual</td>\n",
       "      <td>White or of European descent</td>\n",
       "      <td>I am deaf / hard of hearing</td>\n",
       "      <td>NaN</td>\n",
       "      <td>Appropriate in length</td>\n",
       "      <td>Neither easy nor difficult</td>\n",
       "      <td>NaN</td>\n",
       "    </tr>\n",
       "    <tr>\n",
       "      <th>4</th>\n",
       "      <td>5</td>\n",
       "      <td>I am a developer by profession</td>\n",
       "      <td>Independent contractor, freelancer, or self-em...</td>\n",
       "      <td>United Kingdom of Great Britain and Northern I...</td>\n",
       "      <td>NaN</td>\n",
       "      <td>England</td>\n",
       "      <td>Master’s degree (M.A., M.S., M.Eng., MBA, etc.)</td>\n",
       "      <td>5 - 10 years</td>\n",
       "      <td>Friend or family member</td>\n",
       "      <td>17</td>\n",
       "      <td>...</td>\n",
       "      <td>25-34 years old</td>\n",
       "      <td>Man</td>\n",
       "      <td>No</td>\n",
       "      <td>NaN</td>\n",
       "      <td>White or of European descent</td>\n",
       "      <td>None of the above</td>\n",
       "      <td>NaN</td>\n",
       "      <td>Appropriate in length</td>\n",
       "      <td>Easy</td>\n",
       "      <td>NaN</td>\n",
       "    </tr>\n",
       "  </tbody>\n",
       "</table>\n",
       "<p>5 rows × 48 columns</p>\n",
       "</div>"
      ],
      "text/plain": [
       "   ResponseId                                         MainBranch  \\\n",
       "0           1                     I am a developer by profession   \n",
       "1           2             I am a student who is learning to code   \n",
       "2           3  I am not primarily a developer, but I write co...   \n",
       "3           4                     I am a developer by profession   \n",
       "4           5                     I am a developer by profession   \n",
       "\n",
       "                                          Employment  \\\n",
       "0  Independent contractor, freelancer, or self-em...   \n",
       "1                                 Student, full-time   \n",
       "2                                 Student, full-time   \n",
       "3                                 Employed full-time   \n",
       "4  Independent contractor, freelancer, or self-em...   \n",
       "\n",
       "                                             Country US_State UK_Country  \\\n",
       "0                                           Slovakia      NaN        NaN   \n",
       "1                                        Netherlands      NaN        NaN   \n",
       "2                                 Russian Federation      NaN        NaN   \n",
       "3                                            Austria      NaN        NaN   \n",
       "4  United Kingdom of Great Britain and Northern I...      NaN    England   \n",
       "\n",
       "                                             EdLevel     Age1stCode  \\\n",
       "0  Secondary school (e.g. American high school, G...  18 - 24 years   \n",
       "1       Bachelor’s degree (B.A., B.S., B.Eng., etc.)  11 - 17 years   \n",
       "2       Bachelor’s degree (B.A., B.S., B.Eng., etc.)  11 - 17 years   \n",
       "3    Master’s degree (M.A., M.S., M.Eng., MBA, etc.)  11 - 17 years   \n",
       "4    Master’s degree (M.A., M.S., M.Eng., MBA, etc.)   5 - 10 years   \n",
       "\n",
       "                                           LearnCode YearsCode  ...  \\\n",
       "0  Coding Bootcamp;Other online resources (ex: vi...       NaN  ...   \n",
       "1  Other online resources (ex: videos, blogs, etc...         7  ...   \n",
       "2  Other online resources (ex: videos, blogs, etc...       NaN  ...   \n",
       "3                                                NaN       NaN  ...   \n",
       "4                            Friend or family member        17  ...   \n",
       "\n",
       "               Age Gender Trans                Sexuality  \\\n",
       "0  25-34 years old    Man    No  Straight / Heterosexual   \n",
       "1  18-24 years old    Man    No  Straight / Heterosexual   \n",
       "2  18-24 years old    Man    No        Prefer not to say   \n",
       "3  35-44 years old    Man    No  Straight / Heterosexual   \n",
       "4  25-34 years old    Man    No                      NaN   \n",
       "\n",
       "                      Ethnicity                Accessibility  \\\n",
       "0  White or of European descent            None of the above   \n",
       "1  White or of European descent            None of the above   \n",
       "2             Prefer not to say            None of the above   \n",
       "3  White or of European descent  I am deaf / hard of hearing   \n",
       "4  White or of European descent            None of the above   \n",
       "\n",
       "        MentalHealth           SurveyLength                  SurveyEase  \\\n",
       "0  None of the above  Appropriate in length                        Easy   \n",
       "1  None of the above  Appropriate in length                        Easy   \n",
       "2  None of the above  Appropriate in length                        Easy   \n",
       "3                NaN  Appropriate in length  Neither easy nor difficult   \n",
       "4                NaN  Appropriate in length                        Easy   \n",
       "\n",
       "  ConvertedCompYearly  \n",
       "0             62268.0  \n",
       "1                 NaN  \n",
       "2                 NaN  \n",
       "3                 NaN  \n",
       "4                 NaN  \n",
       "\n",
       "[5 rows x 48 columns]"
      ]
     },
     "execution_count": 4,
     "metadata": {},
     "output_type": "execute_result"
    }
   ],
   "source": [
    "df_so.head()"
   ]
  },
  {
   "cell_type": "markdown",
   "id": "414a0b67",
   "metadata": {},
   "source": [
    "## 06 Average salary for different types of employment"
   ]
  },
  {
   "cell_type": "code",
   "execution_count": 62,
   "id": "2d97a7fc",
   "metadata": {},
   "outputs": [
    {
     "data": {
      "text/plain": [
       "Employment\n",
       "Employed full-time                                      53584\n",
       "Student, full-time                                      11781\n",
       "Independent contractor, freelancer, or self-employed     8041\n",
       "Not employed, but looking for work                       2961\n",
       "Employed part-time                                       2461\n",
       "Student, part-time                                       2051\n",
       "Not employed, and not looking for work                   1228\n",
       "I prefer not to say                                       890\n",
       "Retired                                                   326\n",
       "Name: count, dtype: int64"
      ]
     },
     "execution_count": 62,
     "metadata": {},
     "output_type": "execute_result"
    }
   ],
   "source": [
    "df_so['Employment'].value_counts()"
   ]
  },
  {
   "cell_type": "code",
   "execution_count": 61,
   "id": "32f5384d",
   "metadata": {},
   "outputs": [
    {
     "data": {
      "text/plain": [
       "0         62268.0\n",
       "1             NaN\n",
       "2             NaN\n",
       "3             NaN\n",
       "4             NaN\n",
       "           ...   \n",
       "83434    160500.0\n",
       "83435      3960.0\n",
       "83436     90000.0\n",
       "83437    816816.0\n",
       "83438     21168.0\n",
       "Name: ConvertedCompYearly, Length: 83439, dtype: float64"
      ]
     },
     "execution_count": 61,
     "metadata": {},
     "output_type": "execute_result"
    }
   ],
   "source": [
    "df_so['ConvertedCompYearly']"
   ]
  },
  {
   "cell_type": "code",
   "execution_count": null,
   "id": "8d4d69b7",
   "metadata": {},
   "outputs": [
    {
     "data": {
      "text/plain": [
       "Employment\n",
       "I prefer not to say                                     1,455,643\n",
       "Employed full-time                                        121,370\n",
       "Independent contractor, freelancer, or self-employed      107,434\n",
       "Retired                                                    69,533\n",
       "Employed part-time                                         41,136\n",
       "Name: ConvertedCompYearly, dtype: object"
      ]
     },
     "execution_count": 70,
     "metadata": {},
     "output_type": "execute_result"
    }
   ],
   "source": [
    "# Contractors and\n",
    "# freelancers like to say that they earn more than full-time employees. What does\n",
    "# the data here show you?\n",
    "salary_column = 'ConvertedCompYearly'\n",
    "employment_column = 'Employment'\n",
    "(\n",
    "    df_so[salary_column]\n",
    "        .dropna()\n",
    "        .groupby(df_so[employment_column])\n",
    "        .mean()\n",
    "        .sort_values(ascending=False)\n",
    "        .apply(lambda n: f'{n:,.0f}')\n",
    ")"
   ]
  },
  {
   "cell_type": "markdown",
   "id": "f182f9c3",
   "metadata": {},
   "source": [
    "## 07 Pivot table"
   ]
  },
  {
   "cell_type": "code",
   "execution_count": 5,
   "id": "f30ab7f2",
   "metadata": {},
   "outputs": [
    {
     "data": {
      "text/plain": [
       "Index(['ResponseId', 'MainBranch', 'Employment', 'Country', 'US_State',\n",
       "       'UK_Country', 'EdLevel', 'Age1stCode', 'LearnCode', 'YearsCode',\n",
       "       'YearsCodePro', 'DevType', 'OrgSize', 'Currency', 'CompTotal',\n",
       "       'CompFreq', 'LanguageHaveWorkedWith', 'LanguageWantToWorkWith',\n",
       "       'DatabaseHaveWorkedWith', 'DatabaseWantToWorkWith',\n",
       "       'PlatformHaveWorkedWith', 'PlatformWantToWorkWith',\n",
       "       'WebframeHaveWorkedWith', 'WebframeWantToWorkWith',\n",
       "       'MiscTechHaveWorkedWith', 'MiscTechWantToWorkWith',\n",
       "       'ToolsTechHaveWorkedWith', 'ToolsTechWantToWorkWith',\n",
       "       'NEWCollabToolsHaveWorkedWith', 'NEWCollabToolsWantToWorkWith', 'OpSys',\n",
       "       'NEWStuck', 'NEWSOSites', 'SOVisitFreq', 'SOAccount', 'SOPartFreq',\n",
       "       'SOComm', 'NEWOtherComms', 'Age', 'Gender', 'Trans', 'Sexuality',\n",
       "       'Ethnicity', 'Accessibility', 'MentalHealth', 'SurveyLength',\n",
       "       'SurveyEase', 'ConvertedCompYearly'],\n",
       "      dtype='object')"
      ]
     },
     "execution_count": 5,
     "metadata": {},
     "output_type": "execute_result"
    }
   ],
   "source": [
    "df_so.columns"
   ]
  },
  {
   "cell_type": "code",
   "execution_count": 8,
   "id": "66a86f40",
   "metadata": {},
   "outputs": [
    {
     "data": {
      "text/html": [
       "<div>\n",
       "<style scoped>\n",
       "    .dataframe tbody tr th:only-of-type {\n",
       "        vertical-align: middle;\n",
       "    }\n",
       "\n",
       "    .dataframe tbody tr th {\n",
       "        vertical-align: top;\n",
       "    }\n",
       "\n",
       "    .dataframe thead th {\n",
       "        text-align: right;\n",
       "    }\n",
       "</style>\n",
       "<table border=\"1\" class=\"dataframe\">\n",
       "  <thead>\n",
       "    <tr style=\"text-align: right;\">\n",
       "      <th>EdLevel</th>\n",
       "      <th>Associate degree (A.A., A.S., etc.)</th>\n",
       "      <th>Bachelor’s degree (B.A., B.S., B.Eng., etc.)</th>\n",
       "      <th>Master’s degree (M.A., M.S., M.Eng., MBA, etc.)</th>\n",
       "      <th>Other doctoral degree (Ph.D., Ed.D., etc.)</th>\n",
       "      <th>Primary/elementary school</th>\n",
       "      <th>Professional degree (JD, MD, etc.)</th>\n",
       "      <th>Secondary school (e.g. American high school, German Realschule or Gymnasium, etc.)</th>\n",
       "      <th>Some college/university study without earning a degree</th>\n",
       "      <th>Something else</th>\n",
       "    </tr>\n",
       "    <tr>\n",
       "      <th>Country</th>\n",
       "      <th></th>\n",
       "      <th></th>\n",
       "      <th></th>\n",
       "      <th></th>\n",
       "      <th></th>\n",
       "      <th></th>\n",
       "      <th></th>\n",
       "      <th></th>\n",
       "      <th></th>\n",
       "    </tr>\n",
       "  </thead>\n",
       "  <tbody>\n",
       "    <tr>\n",
       "      <th>Afghanistan</th>\n",
       "      <td>NaN</td>\n",
       "      <td>30,288</td>\n",
       "      <td>10,176,704</td>\n",
       "      <td>NaN</td>\n",
       "      <td>NaN</td>\n",
       "      <td>NaN</td>\n",
       "      <td>100</td>\n",
       "      <td>NaN</td>\n",
       "      <td>NaN</td>\n",
       "    </tr>\n",
       "    <tr>\n",
       "      <th>Albania</th>\n",
       "      <td>NaN</td>\n",
       "      <td>19,153</td>\n",
       "      <td>80,128</td>\n",
       "      <td>NaN</td>\n",
       "      <td>NaN</td>\n",
       "      <td>5,298</td>\n",
       "      <td>19,890</td>\n",
       "      <td>22,884</td>\n",
       "      <td>128,522</td>\n",
       "    </tr>\n",
       "    <tr>\n",
       "      <th>Algeria</th>\n",
       "      <td>NaN</td>\n",
       "      <td>21,771</td>\n",
       "      <td>15,053</td>\n",
       "      <td>NaN</td>\n",
       "      <td>NaN</td>\n",
       "      <td>12,912</td>\n",
       "      <td>NaN</td>\n",
       "      <td>6,288</td>\n",
       "      <td>NaN</td>\n",
       "    </tr>\n",
       "    <tr>\n",
       "      <th>Andorra</th>\n",
       "      <td>NaN</td>\n",
       "      <td>94,046</td>\n",
       "      <td>22,056</td>\n",
       "      <td>146,981</td>\n",
       "      <td>NaN</td>\n",
       "      <td>NaN</td>\n",
       "      <td>NaN</td>\n",
       "      <td>NaN</td>\n",
       "      <td>NaN</td>\n",
       "    </tr>\n",
       "    <tr>\n",
       "      <th>Angola</th>\n",
       "      <td>NaN</td>\n",
       "      <td>31,500</td>\n",
       "      <td>NaN</td>\n",
       "      <td>NaN</td>\n",
       "      <td>NaN</td>\n",
       "      <td>NaN</td>\n",
       "      <td>18,678</td>\n",
       "      <td>6,904</td>\n",
       "      <td>NaN</td>\n",
       "    </tr>\n",
       "    <tr>\n",
       "      <th>...</th>\n",
       "      <td>...</td>\n",
       "      <td>...</td>\n",
       "      <td>...</td>\n",
       "      <td>...</td>\n",
       "      <td>...</td>\n",
       "      <td>...</td>\n",
       "      <td>...</td>\n",
       "      <td>...</td>\n",
       "      <td>...</td>\n",
       "    </tr>\n",
       "    <tr>\n",
       "      <th>Venezuela, Bolivarian Republic of...</th>\n",
       "      <td>NaN</td>\n",
       "      <td>30,109</td>\n",
       "      <td>28,680</td>\n",
       "      <td>NaN</td>\n",
       "      <td>7,200</td>\n",
       "      <td>14,833</td>\n",
       "      <td>10,200</td>\n",
       "      <td>17,721</td>\n",
       "      <td>NaN</td>\n",
       "    </tr>\n",
       "    <tr>\n",
       "      <th>Viet Nam</th>\n",
       "      <td>7,827</td>\n",
       "      <td>18,463</td>\n",
       "      <td>50,600</td>\n",
       "      <td>2,592</td>\n",
       "      <td>10,479</td>\n",
       "      <td>30,000</td>\n",
       "      <td>NaN</td>\n",
       "      <td>18,866</td>\n",
       "      <td>NaN</td>\n",
       "    </tr>\n",
       "    <tr>\n",
       "      <th>Yemen</th>\n",
       "      <td>NaN</td>\n",
       "      <td>5,629</td>\n",
       "      <td>NaN</td>\n",
       "      <td>NaN</td>\n",
       "      <td>NaN</td>\n",
       "      <td>NaN</td>\n",
       "      <td>NaN</td>\n",
       "      <td>NaN</td>\n",
       "      <td>NaN</td>\n",
       "    </tr>\n",
       "    <tr>\n",
       "      <th>Zambia</th>\n",
       "      <td>NaN</td>\n",
       "      <td>40,173</td>\n",
       "      <td>4,908</td>\n",
       "      <td>NaN</td>\n",
       "      <td>NaN</td>\n",
       "      <td>NaN</td>\n",
       "      <td>4,482</td>\n",
       "      <td>12,105</td>\n",
       "      <td>8,184</td>\n",
       "    </tr>\n",
       "    <tr>\n",
       "      <th>Zimbabwe</th>\n",
       "      <td>36,000</td>\n",
       "      <td>8,399</td>\n",
       "      <td>NaN</td>\n",
       "      <td>NaN</td>\n",
       "      <td>NaN</td>\n",
       "      <td>NaN</td>\n",
       "      <td>NaN</td>\n",
       "      <td>20,000</td>\n",
       "      <td>NaN</td>\n",
       "    </tr>\n",
       "  </tbody>\n",
       "</table>\n",
       "<p>171 rows × 9 columns</p>\n",
       "</div>"
      ],
      "text/plain": [
       "EdLevel                               Associate degree (A.A., A.S., etc.)  \\\n",
       "Country                                                                     \n",
       "Afghanistan                                                           NaN   \n",
       "Albania                                                               NaN   \n",
       "Algeria                                                               NaN   \n",
       "Andorra                                                               NaN   \n",
       "Angola                                                                NaN   \n",
       "...                                                                   ...   \n",
       "Venezuela, Bolivarian Republic of...                                  NaN   \n",
       "Viet Nam                                                            7,827   \n",
       "Yemen                                                                 NaN   \n",
       "Zambia                                                                NaN   \n",
       "Zimbabwe                                                           36,000   \n",
       "\n",
       "EdLevel                               Bachelor’s degree (B.A., B.S., B.Eng., etc.)  \\\n",
       "Country                                                                              \n",
       "Afghanistan                                                                 30,288   \n",
       "Albania                                                                     19,153   \n",
       "Algeria                                                                     21,771   \n",
       "Andorra                                                                     94,046   \n",
       "Angola                                                                      31,500   \n",
       "...                                                                            ...   \n",
       "Venezuela, Bolivarian Republic of...                                        30,109   \n",
       "Viet Nam                                                                    18,463   \n",
       "Yemen                                                                        5,629   \n",
       "Zambia                                                                      40,173   \n",
       "Zimbabwe                                                                     8,399   \n",
       "\n",
       "EdLevel                               Master’s degree (M.A., M.S., M.Eng., MBA, etc.)  \\\n",
       "Country                                                                                 \n",
       "Afghanistan                                                                10,176,704   \n",
       "Albania                                                                        80,128   \n",
       "Algeria                                                                        15,053   \n",
       "Andorra                                                                        22,056   \n",
       "Angola                                                                            NaN   \n",
       "...                                                                               ...   \n",
       "Venezuela, Bolivarian Republic of...                                           28,680   \n",
       "Viet Nam                                                                       50,600   \n",
       "Yemen                                                                             NaN   \n",
       "Zambia                                                                          4,908   \n",
       "Zimbabwe                                                                          NaN   \n",
       "\n",
       "EdLevel                               Other doctoral degree (Ph.D., Ed.D., etc.)  \\\n",
       "Country                                                                            \n",
       "Afghanistan                                                                  NaN   \n",
       "Albania                                                                      NaN   \n",
       "Algeria                                                                      NaN   \n",
       "Andorra                                                                  146,981   \n",
       "Angola                                                                       NaN   \n",
       "...                                                                          ...   \n",
       "Venezuela, Bolivarian Republic of...                                         NaN   \n",
       "Viet Nam                                                                   2,592   \n",
       "Yemen                                                                        NaN   \n",
       "Zambia                                                                       NaN   \n",
       "Zimbabwe                                                                     NaN   \n",
       "\n",
       "EdLevel                               Primary/elementary school  \\\n",
       "Country                                                           \n",
       "Afghanistan                                                 NaN   \n",
       "Albania                                                     NaN   \n",
       "Algeria                                                     NaN   \n",
       "Andorra                                                     NaN   \n",
       "Angola                                                      NaN   \n",
       "...                                                         ...   \n",
       "Venezuela, Bolivarian Republic of...                      7,200   \n",
       "Viet Nam                                                 10,479   \n",
       "Yemen                                                       NaN   \n",
       "Zambia                                                      NaN   \n",
       "Zimbabwe                                                    NaN   \n",
       "\n",
       "EdLevel                               Professional degree (JD, MD, etc.)  \\\n",
       "Country                                                                    \n",
       "Afghanistan                                                          NaN   \n",
       "Albania                                                            5,298   \n",
       "Algeria                                                           12,912   \n",
       "Andorra                                                              NaN   \n",
       "Angola                                                               NaN   \n",
       "...                                                                  ...   \n",
       "Venezuela, Bolivarian Republic of...                              14,833   \n",
       "Viet Nam                                                          30,000   \n",
       "Yemen                                                                NaN   \n",
       "Zambia                                                               NaN   \n",
       "Zimbabwe                                                             NaN   \n",
       "\n",
       "EdLevel                               Secondary school (e.g. American high school, German Realschule or Gymnasium, etc.)  \\\n",
       "Country                                                                                                                    \n",
       "Afghanistan                                                                         100                                    \n",
       "Albania                                                                          19,890                                    \n",
       "Algeria                                                                             NaN                                    \n",
       "Andorra                                                                             NaN                                    \n",
       "Angola                                                                           18,678                                    \n",
       "...                                                                                 ...                                    \n",
       "Venezuela, Bolivarian Republic of...                                             10,200                                    \n",
       "Viet Nam                                                                            NaN                                    \n",
       "Yemen                                                                               NaN                                    \n",
       "Zambia                                                                            4,482                                    \n",
       "Zimbabwe                                                                            NaN                                    \n",
       "\n",
       "EdLevel                               Some college/university study without earning a degree  \\\n",
       "Country                                                                                        \n",
       "Afghanistan                                                                         NaN        \n",
       "Albania                                                                          22,884        \n",
       "Algeria                                                                           6,288        \n",
       "Andorra                                                                             NaN        \n",
       "Angola                                                                            6,904        \n",
       "...                                                                                 ...        \n",
       "Venezuela, Bolivarian Republic of...                                             17,721        \n",
       "Viet Nam                                                                         18,866        \n",
       "Yemen                                                                               NaN        \n",
       "Zambia                                                                           12,105        \n",
       "Zimbabwe                                                                         20,000        \n",
       "\n",
       "EdLevel                               Something else  \n",
       "Country                                               \n",
       "Afghanistan                                      NaN  \n",
       "Albania                                      128,522  \n",
       "Algeria                                          NaN  \n",
       "Andorra                                          NaN  \n",
       "Angola                                           NaN  \n",
       "...                                              ...  \n",
       "Venezuela, Bolivarian Republic of...             NaN  \n",
       "Viet Nam                                         NaN  \n",
       "Yemen                                            NaN  \n",
       "Zambia                                         8,184  \n",
       "Zimbabwe                                         NaN  \n",
       "\n",
       "[171 rows x 9 columns]"
      ]
     },
     "execution_count": 8,
     "metadata": {},
     "output_type": "execute_result"
    }
   ],
   "source": [
    "# Create a pivot table in which the index contains countries, the columns are edu-\n",
    "# cation levels, and the cells contain the average salary for each education level\n",
    "# per country.\n",
    "country_column = 'Country'\n",
    "edlevel_column = 'EdLevel'\n",
    "salary_column = 'ConvertedCompYearly'\n",
    "\n",
    "pd.options.display.float_format = '{:,.0f}'.format\n",
    "\n",
    "df_so.pivot_table(\n",
    "    index=country_column,\n",
    "    columns=edlevel_column,\n",
    "    values=salary_column,\n",
    "    aggfunc='mean'\n",
    ")"
   ]
  },
  {
   "cell_type": "markdown",
   "id": "68f84ec5",
   "metadata": {},
   "source": [
    "## 08 Pivot table 2"
   ]
  },
  {
   "cell_type": "code",
   "execution_count": 33,
   "id": "36e15ec4",
   "metadata": {},
   "outputs": [],
   "source": [
    "oecd_filename = 'data/oecd_locations.csv'\n",
    "df_oecd = pd.read_csv(oecd_filename, header=None, names=['country_code', 'country'])"
   ]
  },
  {
   "cell_type": "code",
   "execution_count": 34,
   "id": "94801892",
   "metadata": {},
   "outputs": [
    {
     "data": {
      "text/html": [
       "<div>\n",
       "<style scoped>\n",
       "    .dataframe tbody tr th:only-of-type {\n",
       "        vertical-align: middle;\n",
       "    }\n",
       "\n",
       "    .dataframe tbody tr th {\n",
       "        vertical-align: top;\n",
       "    }\n",
       "\n",
       "    .dataframe thead th {\n",
       "        text-align: right;\n",
       "    }\n",
       "</style>\n",
       "<table border=\"1\" class=\"dataframe\">\n",
       "  <thead>\n",
       "    <tr style=\"text-align: right;\">\n",
       "      <th></th>\n",
       "      <th>country_code</th>\n",
       "      <th>country</th>\n",
       "    </tr>\n",
       "  </thead>\n",
       "  <tbody>\n",
       "    <tr>\n",
       "      <th>0</th>\n",
       "      <td>AUS</td>\n",
       "      <td>Australia</td>\n",
       "    </tr>\n",
       "    <tr>\n",
       "      <th>1</th>\n",
       "      <td>AUT</td>\n",
       "      <td>Austria</td>\n",
       "    </tr>\n",
       "    <tr>\n",
       "      <th>2</th>\n",
       "      <td>BEL</td>\n",
       "      <td>Belgium</td>\n",
       "    </tr>\n",
       "    <tr>\n",
       "      <th>3</th>\n",
       "      <td>CAN</td>\n",
       "      <td>Canada</td>\n",
       "    </tr>\n",
       "    <tr>\n",
       "      <th>4</th>\n",
       "      <td>DNK</td>\n",
       "      <td>Denmark</td>\n",
       "    </tr>\n",
       "    <tr>\n",
       "      <th>5</th>\n",
       "      <td>FIN</td>\n",
       "      <td>Finland</td>\n",
       "    </tr>\n",
       "    <tr>\n",
       "      <th>6</th>\n",
       "      <td>FRA</td>\n",
       "      <td>France</td>\n",
       "    </tr>\n",
       "    <tr>\n",
       "      <th>7</th>\n",
       "      <td>DEU</td>\n",
       "      <td>Germany</td>\n",
       "    </tr>\n",
       "    <tr>\n",
       "      <th>8</th>\n",
       "      <td>HUN</td>\n",
       "      <td>Hungary</td>\n",
       "    </tr>\n",
       "    <tr>\n",
       "      <th>9</th>\n",
       "      <td>ITA</td>\n",
       "      <td>Italy</td>\n",
       "    </tr>\n",
       "    <tr>\n",
       "      <th>10</th>\n",
       "      <td>JPN</td>\n",
       "      <td>Japan</td>\n",
       "    </tr>\n",
       "    <tr>\n",
       "      <th>11</th>\n",
       "      <td>KOR</td>\n",
       "      <td>Korea</td>\n",
       "    </tr>\n",
       "    <tr>\n",
       "      <th>12</th>\n",
       "      <td>GBR</td>\n",
       "      <td>United Kingdom</td>\n",
       "    </tr>\n",
       "    <tr>\n",
       "      <th>13</th>\n",
       "      <td>USA</td>\n",
       "      <td>United States</td>\n",
       "    </tr>\n",
       "    <tr>\n",
       "      <th>14</th>\n",
       "      <td>BRA</td>\n",
       "      <td>Brazil</td>\n",
       "    </tr>\n",
       "    <tr>\n",
       "      <th>15</th>\n",
       "      <td>ISR</td>\n",
       "      <td>Israel</td>\n",
       "    </tr>\n",
       "  </tbody>\n",
       "</table>\n",
       "</div>"
      ],
      "text/plain": [
       "   country_code         country\n",
       "0           AUS       Australia\n",
       "1           AUT         Austria\n",
       "2           BEL         Belgium\n",
       "3           CAN          Canada\n",
       "4           DNK         Denmark\n",
       "5           FIN         Finland\n",
       "6           FRA          France\n",
       "7           DEU         Germany\n",
       "8           HUN         Hungary\n",
       "9           ITA           Italy\n",
       "10          JPN           Japan\n",
       "11          KOR           Korea\n",
       "12          GBR  United Kingdom\n",
       "13          USA   United States\n",
       "14          BRA          Brazil\n",
       "15          ISR          Israel"
      ]
     },
     "execution_count": 34,
     "metadata": {},
     "output_type": "execute_result"
    }
   ],
   "source": [
    "df_oecd"
   ]
  },
  {
   "cell_type": "code",
   "execution_count": 21,
   "id": "f0b356bf",
   "metadata": {},
   "outputs": [
    {
     "data": {
      "text/plain": [
       "(16, 2)"
      ]
     },
     "execution_count": 21,
     "metadata": {},
     "output_type": "execute_result"
    }
   ],
   "source": [
    "df_oecd.shape"
   ]
  },
  {
   "cell_type": "code",
   "execution_count": 22,
   "id": "e276b235",
   "metadata": {},
   "outputs": [
    {
     "data": {
      "text/plain": [
       "(181,\n",
       " array(['Slovakia', 'Netherlands', 'Russian Federation', 'Austria',\n",
       "        'United Kingdom of Great Britain and Northern Ireland',\n",
       "        'United States of America', 'Malaysia', 'India', 'Sweden', 'Spain'],\n",
       "       dtype=object))"
      ]
     },
     "execution_count": 22,
     "metadata": {},
     "output_type": "execute_result"
    }
   ],
   "source": [
    "df_so[country_column].nunique(), df_so[country_column].unique()[:10]"
   ]
  },
  {
   "cell_type": "code",
   "execution_count": 32,
   "id": "9272f928",
   "metadata": {},
   "outputs": [
    {
     "data": {
      "text/plain": [
       "(['Australia',\n",
       "  'Austria',\n",
       "  'Belgium',\n",
       "  'Canada',\n",
       "  'Denmark',\n",
       "  'Finland',\n",
       "  'France',\n",
       "  'Germany',\n",
       "  'Hungary',\n",
       "  'Italy',\n",
       "  'Japan',\n",
       "  'South Korea',\n",
       "  'Republic of Korea',\n",
       "  'United Kingdom of Great Britain and Northern Ireland',\n",
       "  'United States of America',\n",
       "  'Brazil',\n",
       "  'Israel'],\n",
       " 17)"
      ]
     },
     "execution_count": 32,
     "metadata": {},
     "output_type": "execute_result"
    }
   ],
   "source": [
    "oecd = utils.OECDUtils(df_oecd=df_oecd, df_so=df_so)\n",
    "oecd.oecd_countries_list, len(oecd.oecd_countries_list)"
   ]
  },
  {
   "cell_type": "code",
   "execution_count": 36,
   "id": "3da91615",
   "metadata": {},
   "outputs": [
    {
     "data": {
      "text/html": [
       "<div>\n",
       "<style scoped>\n",
       "    .dataframe tbody tr th:only-of-type {\n",
       "        vertical-align: middle;\n",
       "    }\n",
       "\n",
       "    .dataframe tbody tr th {\n",
       "        vertical-align: top;\n",
       "    }\n",
       "\n",
       "    .dataframe thead th {\n",
       "        text-align: right;\n",
       "    }\n",
       "</style>\n",
       "<table border=\"1\" class=\"dataframe\">\n",
       "  <thead>\n",
       "    <tr style=\"text-align: right;\">\n",
       "      <th>EdLevel</th>\n",
       "      <th>Associate degree (A.A., A.S., etc.)</th>\n",
       "      <th>Bachelor’s degree (B.A., B.S., B.Eng., etc.)</th>\n",
       "      <th>Master’s degree (M.A., M.S., M.Eng., MBA, etc.)</th>\n",
       "      <th>Other doctoral degree (Ph.D., Ed.D., etc.)</th>\n",
       "      <th>Primary/elementary school</th>\n",
       "      <th>Professional degree (JD, MD, etc.)</th>\n",
       "      <th>Secondary school (e.g. American high school, German Realschule or Gymnasium, etc.)</th>\n",
       "      <th>Some college/university study without earning a degree</th>\n",
       "      <th>Something else</th>\n",
       "    </tr>\n",
       "    <tr>\n",
       "      <th>Country</th>\n",
       "      <th></th>\n",
       "      <th></th>\n",
       "      <th></th>\n",
       "      <th></th>\n",
       "      <th></th>\n",
       "      <th></th>\n",
       "      <th></th>\n",
       "      <th></th>\n",
       "      <th></th>\n",
       "    </tr>\n",
       "  </thead>\n",
       "  <tbody>\n",
       "    <tr>\n",
       "      <th>Australia</th>\n",
       "      <td>117,050</td>\n",
       "      <td>180,794</td>\n",
       "      <td>106,794</td>\n",
       "      <td>150,235</td>\n",
       "      <td>153,328</td>\n",
       "      <td>108,725</td>\n",
       "      <td>158,931</td>\n",
       "      <td>127,064</td>\n",
       "      <td>231,987</td>\n",
       "    </tr>\n",
       "    <tr>\n",
       "      <th>Austria</th>\n",
       "      <td>43,623</td>\n",
       "      <td>66,096</td>\n",
       "      <td>77,646</td>\n",
       "      <td>74,783</td>\n",
       "      <td>86,877</td>\n",
       "      <td>38,915</td>\n",
       "      <td>47,439</td>\n",
       "      <td>53,906</td>\n",
       "      <td>45,773</td>\n",
       "    </tr>\n",
       "    <tr>\n",
       "      <th>Belgium</th>\n",
       "      <td>35,664</td>\n",
       "      <td>68,475</td>\n",
       "      <td>88,580</td>\n",
       "      <td>80,832</td>\n",
       "      <td>11,342,349</td>\n",
       "      <td>71,000</td>\n",
       "      <td>43,224</td>\n",
       "      <td>88,006</td>\n",
       "      <td>27,036</td>\n",
       "    </tr>\n",
       "    <tr>\n",
       "      <th>Brazil</th>\n",
       "      <td>25,347</td>\n",
       "      <td>47,681</td>\n",
       "      <td>42,056</td>\n",
       "      <td>43,123</td>\n",
       "      <td>7,880</td>\n",
       "      <td>25,450</td>\n",
       "      <td>15,073</td>\n",
       "      <td>39,978</td>\n",
       "      <td>20,289</td>\n",
       "    </tr>\n",
       "    <tr>\n",
       "      <th>Canada</th>\n",
       "      <td>87,930</td>\n",
       "      <td>140,668</td>\n",
       "      <td>144,733</td>\n",
       "      <td>102,989</td>\n",
       "      <td>73,788</td>\n",
       "      <td>82,953</td>\n",
       "      <td>180,585</td>\n",
       "      <td>155,090</td>\n",
       "      <td>60,795</td>\n",
       "    </tr>\n",
       "  </tbody>\n",
       "</table>\n",
       "</div>"
      ],
      "text/plain": [
       "EdLevel    Associate degree (A.A., A.S., etc.)  \\\n",
       "Country                                          \n",
       "Australia                              117,050   \n",
       "Austria                                 43,623   \n",
       "Belgium                                 35,664   \n",
       "Brazil                                  25,347   \n",
       "Canada                                  87,930   \n",
       "\n",
       "EdLevel    Bachelor’s degree (B.A., B.S., B.Eng., etc.)  \\\n",
       "Country                                                   \n",
       "Australia                                       180,794   \n",
       "Austria                                          66,096   \n",
       "Belgium                                          68,475   \n",
       "Brazil                                           47,681   \n",
       "Canada                                          140,668   \n",
       "\n",
       "EdLevel    Master’s degree (M.A., M.S., M.Eng., MBA, etc.)  \\\n",
       "Country                                                      \n",
       "Australia                                          106,794   \n",
       "Austria                                             77,646   \n",
       "Belgium                                             88,580   \n",
       "Brazil                                              42,056   \n",
       "Canada                                             144,733   \n",
       "\n",
       "EdLevel    Other doctoral degree (Ph.D., Ed.D., etc.)  \\\n",
       "Country                                                 \n",
       "Australia                                     150,235   \n",
       "Austria                                        74,783   \n",
       "Belgium                                        80,832   \n",
       "Brazil                                         43,123   \n",
       "Canada                                        102,989   \n",
       "\n",
       "EdLevel    Primary/elementary school  Professional degree (JD, MD, etc.)  \\\n",
       "Country                                                                    \n",
       "Australia                    153,328                             108,725   \n",
       "Austria                       86,877                              38,915   \n",
       "Belgium                   11,342,349                              71,000   \n",
       "Brazil                         7,880                              25,450   \n",
       "Canada                        73,788                              82,953   \n",
       "\n",
       "EdLevel    Secondary school (e.g. American high school, German Realschule or Gymnasium, etc.)  \\\n",
       "Country                                                                                         \n",
       "Australia                                            158,931                                    \n",
       "Austria                                               47,439                                    \n",
       "Belgium                                               43,224                                    \n",
       "Brazil                                                15,073                                    \n",
       "Canada                                               180,585                                    \n",
       "\n",
       "EdLevel    Some college/university study without earning a degree  \\\n",
       "Country                                                             \n",
       "Australia                                            127,064        \n",
       "Austria                                               53,906        \n",
       "Belgium                                               88,006        \n",
       "Brazil                                                39,978        \n",
       "Canada                                               155,090        \n",
       "\n",
       "EdLevel    Something else  \n",
       "Country                    \n",
       "Australia         231,987  \n",
       "Austria            45,773  \n",
       "Belgium            27,036  \n",
       "Brazil             20,289  \n",
       "Canada             60,795  "
      ]
     },
     "execution_count": 36,
     "metadata": {},
     "output_type": "execute_result"
    }
   ],
   "source": [
    "# Create this pivot table again, only including countries in the OECD subset\n",
    "country_column = 'Country'\n",
    "edlevel_column = 'EdLevel'\n",
    "salary_column = 'ConvertedCompYearly'\n",
    "\n",
    "# Create a mask for OECD countries\n",
    "mask_oecd = df_so[country_column].isin(oecd.oecd_countries_list)\n",
    "# Create a new DataFrame with only OECD countries\n",
    "df_so_oecd = df_so[mask_oecd]\n",
    "\n",
    "pivot_table_oecd = df_so_oecd.pivot_table(\n",
    "    index=country_column,\n",
    "    columns=edlevel_column,\n",
    "    values=salary_column,\n",
    "    aggfunc='mean'\n",
    ")\n",
    "\n",
    "pivot_table_oecd.head()"
   ]
  },
  {
   "cell_type": "code",
   "execution_count": 38,
   "id": "ea2814fe",
   "metadata": {},
   "outputs": [
    {
     "name": "stdout",
     "output_type": "stream",
     "text": [
      "Associate degree column: Associate degree (A.A., A.S., etc.)\n",
      "Country with highest salary for associate degree: Finland - 282,354\n"
     ]
    }
   ],
   "source": [
    "# In which of these countries does someone with an associate’s degree earn the most?\n",
    "associate_degree_column = None\n",
    "for column in df_so[edlevel_column]:\n",
    "    if 'associate' in column.lower():\n",
    "        print(f'Associate degree column: {column}')\n",
    "        associate_degree_column = column\n",
    "        break\n",
    "\n",
    "if associate_degree_column:\n",
    "    associate_degree_salaries = pivot_table_oecd[associate_degree_column].dropna()\n",
    "    max_salary_country = associate_degree_salaries.idxmax()\n",
    "    max_salary_value = associate_degree_salaries.max()\n",
    "    print(f'Country with highest salary for associate degree: {max_salary_country} - {max_salary_value:,.0f}')\n",
    "else:\n",
    "    print('Associate degree column not found in the pivot table.')"
   ]
  },
  {
   "cell_type": "code",
   "execution_count": 39,
   "id": "66f9153e",
   "metadata": {},
   "outputs": [
    {
     "data": {
      "text/plain": [
       "Country\n",
       "Finland                                                282,354\n",
       "United States of America                               206,568\n",
       "Israel                                                 146,421\n",
       "Japan                                                  143,197\n",
       "United Kingdom of Great Britain and Northern Ireland   139,155\n",
       "Australia                                              117,050\n",
       "Germany                                                 98,531\n",
       "Canada                                                  87,930\n",
       "Denmark                                                 80,217\n",
       "France                                                  54,395\n",
       "Name: Associate degree (A.A., A.S., etc.), dtype: float64"
      ]
     },
     "execution_count": 39,
     "metadata": {},
     "output_type": "execute_result"
    }
   ],
   "source": [
    "# Extract the salaries for the associate degree column per country and sort them\n",
    "pivot_table_oecd[associate_degree_column].dropna().sort_values(ascending=False).head(10)"
   ]
  },
  {
   "cell_type": "code",
   "execution_count": 40,
   "id": "f5cf3a0a",
   "metadata": {},
   "outputs": [
    {
     "name": "stdout",
     "output_type": "stream",
     "text": [
      "Doctoral degree column: Other doctoral degree (Ph.D., Ed.D., etc.)\n"
     ]
    },
    {
     "data": {
      "text/plain": [
       "'Other doctoral degree (Ph.D., Ed.D., etc.)'"
      ]
     },
     "execution_count": 40,
     "metadata": {},
     "output_type": "execute_result"
    }
   ],
   "source": [
    "# In which of them does someone with a doctoral degree earn the most?\n",
    "doctoral_degree_column = None\n",
    "for column in df_so[edlevel_column]:\n",
    "    if 'doctoral' in column.lower():\n",
    "        print(f'Doctoral degree column: {column}')\n",
    "        doctoral_degree_column = column\n",
    "        break\n",
    "\n",
    "doctoral_degree_column"
   ]
  },
  {
   "cell_type": "code",
   "execution_count": 41,
   "id": "c33801c7",
   "metadata": {},
   "outputs": [
    {
     "data": {
      "text/plain": [
       "Country\n",
       "United States of America                               208,657\n",
       "Japan                                                  157,239\n",
       "Australia                                              150,235\n",
       "France                                                 140,403\n",
       "Israel                                                 131,813\n",
       "United Kingdom of Great Britain and Northern Ireland   123,226\n",
       "Germany                                                108,718\n",
       "Canada                                                 102,989\n",
       "Denmark                                                102,785\n",
       "Italy                                                   93,491\n",
       "Name: Other doctoral degree (Ph.D., Ed.D., etc.), dtype: float64"
      ]
     },
     "execution_count": 41,
     "metadata": {},
     "output_type": "execute_result"
    }
   ],
   "source": [
    "pivot_table_oecd[doctoral_degree_column].dropna().sort_values(ascending=False).head(10)"
   ]
  },
  {
   "cell_type": "markdown",
   "id": "0f5314ea",
   "metadata": {},
   "source": [
    "## 09 Remove rows from `so_df` in which `LanguageHaveWorkedWith` is `NaN`"
   ]
  },
  {
   "cell_type": "code",
   "execution_count": 44,
   "id": "862ad7a2",
   "metadata": {},
   "outputs": [
    {
     "data": {
      "text/plain": [
       "True"
      ]
     },
     "execution_count": 44,
     "metadata": {},
     "output_type": "execute_result"
    }
   ],
   "source": [
    "column_language = 'LanguageHaveWorkedWith'\n",
    "column_language in df_so.columns"
   ]
  },
  {
   "cell_type": "code",
   "execution_count": 46,
   "id": "5819de9d",
   "metadata": {},
   "outputs": [],
   "source": [
    "# Remove rows from `df_so` in which `LanguageHaveWorkedWith` is `NaN`\n",
    "df_so_landuage_clean = df_so.dropna(subset=[column_language])"
   ]
  },
  {
   "cell_type": "code",
   "execution_count": 47,
   "id": "4331246d",
   "metadata": {},
   "outputs": [
    {
     "data": {
      "text/plain": [
       "np.int64(0)"
      ]
     },
     "execution_count": 47,
     "metadata": {},
     "output_type": "execute_result"
    }
   ],
   "source": [
    "# Check that the column is clean\n",
    "df_so_landuage_clean[column_language].isna().sum()"
   ]
  },
  {
   "cell_type": "markdown",
   "id": "7fd4ed14",
   "metadata": {},
   "source": [
    "## 10 Remove rows from `df_so` in which `Python` isn’t included as a commonly used language (`LanguageHaveWorkedWith`)"
   ]
  },
  {
   "cell_type": "code",
   "execution_count": 48,
   "id": "f0b44f1d",
   "metadata": {},
   "outputs": [
    {
     "data": {
      "text/plain": [
       "True"
      ]
     },
     "execution_count": 48,
     "metadata": {},
     "output_type": "execute_result"
    }
   ],
   "source": [
    "column_language2 = 'LanguageHaveWorkedWith'\n",
    "column_language2 in df_so.columns"
   ]
  },
  {
   "cell_type": "code",
   "execution_count": 50,
   "id": "1ad69440",
   "metadata": {},
   "outputs": [
    {
     "data": {
      "text/plain": [
       "LanguageHaveWorkedWith\n",
       "Python                                    1337\n",
       "HTML/CSS;JavaScript;Node.js;TypeScript     811\n",
       "Java                                       715\n",
       "HTML/CSS;JavaScript;PHP;SQL                674\n",
       "C#                                         597\n",
       "C#;HTML/CSS;JavaScript;SQL                 558\n",
       "HTML/CSS;JavaScript                        531\n",
       "HTML/CSS;JavaScript;Node.js                494\n",
       "HTML/CSS;JavaScript;TypeScript             491\n",
       "HTML/CSS;JavaScript;Python                 432\n",
       "HTML/CSS;JavaScript;PHP                    417\n",
       "Python;SQL                                 416\n",
       "C#;HTML/CSS;JavaScript;SQL;TypeScript      405\n",
       "C++;Python                                 348\n",
       "C#;SQL                                     347\n",
       "Java;Kotlin                                299\n",
       "Java;Python                                290\n",
       "HTML/CSS;JavaScript;Node.js;PHP;SQL        280\n",
       "C++                                        277\n",
       "JavaScript                                 276\n",
       "Name: count, dtype: int64"
      ]
     },
     "execution_count": 50,
     "metadata": {},
     "output_type": "execute_result"
    }
   ],
   "source": [
    "# Check the values in the `LanguageHaveWorkedWith` column\n",
    "df_so_landuage_clean[column_language2].value_counts().head(20)"
   ]
  },
  {
   "cell_type": "code",
   "execution_count": 51,
   "id": "6dfd77d8",
   "metadata": {},
   "outputs": [],
   "source": [
    "# Remove rows from `df_so` in which `Python` isn’t included as a commonly used language (`LanguageHaveWorkedWith`)\n",
    "\n",
    "# Drop nans from the `LanguageHaveWorkedWith` column    \n",
    "df_so_language2_clean = df_so.dropna(subset=[column_language2])\n",
    "\n",
    "# Create a mask for rows where 'Python' is mentioned in the `LanguageHaveWorkedWith` column\n",
    "mask_python = df_so_language2_clean[column_language2].str.lower().str.contains('python')\n",
    "\n",
    "# Filter the DataFrame using the mask\n",
    "# and create a new DataFrame with only the rows where 'Python' is mentioned\n",
    "df_so_python = df_so_language2_clean[mask_python]"
   ]
  },
  {
   "cell_type": "code",
   "execution_count": 54,
   "id": "e3d76dcb",
   "metadata": {},
   "outputs": [
    {
     "data": {
      "text/plain": [
       "LanguageHaveWorkedWith\n",
       "Python                                               1337\n",
       "HTML/CSS;JavaScript;Python                            432\n",
       "Python;SQL                                            416\n",
       "C++;Python                                            348\n",
       "Java;Python                                           290\n",
       "Bash/Shell;Python                                     274\n",
       "HTML/CSS;JavaScript;Node.js;Python                    235\n",
       "C;C++;Python                                          226\n",
       "HTML/CSS;JavaScript;Python;SQL                        223\n",
       "HTML/CSS;Python                                       215\n",
       "HTML/CSS;JavaScript;Node.js;Python;TypeScript         210\n",
       "JavaScript;Python                                     200\n",
       "Bash/Shell;Python;SQL                                 169\n",
       "C#;Python                                             157\n",
       "C;Python                                              157\n",
       "Python;R                                              154\n",
       "HTML/CSS;JavaScript;Node.js;Python;SQL;TypeScript     146\n",
       "Bash/Shell;C;C++;Python                               144\n",
       "HTML/CSS;JavaScript;PHP;Python;SQL                    143\n",
       "Python;R;SQL                                          132\n",
       "Name: count, dtype: int64"
      ]
     },
     "execution_count": 54,
     "metadata": {},
     "output_type": "execute_result"
    }
   ],
   "source": [
    "df_so_python[column_language2].value_counts().head(20)"
   ]
  },
  {
   "cell_type": "code",
   "execution_count": 55,
   "id": "35b09fb9",
   "metadata": {},
   "outputs": [
    {
     "data": {
      "text/plain": [
       "(39792, 48)"
      ]
     },
     "execution_count": 55,
     "metadata": {},
     "output_type": "execute_result"
    }
   ],
   "source": [
    "df_so_python.shape"
   ]
  },
  {
   "cell_type": "markdown",
   "id": "030febc6",
   "metadata": {},
   "source": [
    "## 11 Remove rows from `df_so` in which `YearsCode` is `NaN`"
   ]
  },
  {
   "cell_type": "code",
   "execution_count": 66,
   "id": "dad88470",
   "metadata": {},
   "outputs": [
    {
     "data": {
      "text/plain": [
       "True"
      ]
     },
     "execution_count": 66,
     "metadata": {},
     "output_type": "execute_result"
    }
   ],
   "source": [
    "column_years_code = 'YearsCode'\n",
    "column_years_code in df_so.columns"
   ]
  },
  {
   "cell_type": "code",
   "execution_count": 67,
   "id": "96639079",
   "metadata": {},
   "outputs": [],
   "source": [
    "df_so_years_code_clean = df_so.dropna(subset=[column_years_code])"
   ]
  },
  {
   "cell_type": "code",
   "execution_count": 68,
   "id": "6d60dfd3",
   "metadata": {},
   "outputs": [
    {
     "data": {
      "text/plain": [
       "((83439, 48), (81641, 48))"
      ]
     },
     "execution_count": 68,
     "metadata": {},
     "output_type": "execute_result"
    }
   ],
   "source": [
    "df_so.shape, df_so_years_code_clean.shape"
   ]
  },
  {
   "cell_type": "markdown",
   "id": "4d9ff958",
   "metadata": {},
   "source": [
    "## 12 Replace the string value Less than 1 year in YearsCode with 0. Replace the string value More than 50 years with 51."
   ]
  },
  {
   "cell_type": "code",
   "execution_count": 73,
   "id": "cae97fb9",
   "metadata": {},
   "outputs": [
    {
     "data": {
      "text/plain": [
       "array(['1', '10', '11', '12', '13', '14', '15', '16', '17', '18', '19',\n",
       "       '2', '20', '21', '22', '23', '24', '25', '26', '27', '28', '29',\n",
       "       '3', '30', '31', '32', '33', '34', '35', '36', '37', '38', '39',\n",
       "       '4', '40', '41', '42', '43', '44', '45', '46', '47', '48', '49',\n",
       "       '5', '50', '6', '7', '8', '9', 'Less than 1 year',\n",
       "       'More than 50 years'], dtype=object)"
      ]
     },
     "execution_count": 73,
     "metadata": {},
     "output_type": "execute_result"
    }
   ],
   "source": [
    "df_so_years_code_clean[column_years_code].sort_values(ascending=True).unique()"
   ]
  },
  {
   "cell_type": "code",
   "execution_count": 74,
   "id": "60e44afe",
   "metadata": {},
   "outputs": [],
   "source": [
    "# Replace the string value `Less than 1 year`` in YearsCode with 0\n",
    "column_less_than_1_year = 'Less than 1 year'\n",
    "df_so_years_code_clean.loc[:, column_years_code] = df_so_years_code_clean.loc[:, column_years_code].replace(\n",
    "    to_replace=column_less_than_1_year,\n",
    "    value='0'\n",
    ")"
   ]
  },
  {
   "cell_type": "code",
   "execution_count": 75,
   "id": "ef2d747c",
   "metadata": {},
   "outputs": [
    {
     "data": {
      "text/plain": [
       "array(['0', '1', '10', '11', '12', '13', '14', '15', '16', '17', '18',\n",
       "       '19', '2', '20', '21', '22', '23', '24', '25', '26', '27', '28',\n",
       "       '29', '3', '30', '31', '32', '33', '34', '35', '36', '37', '38',\n",
       "       '39', '4', '40', '41', '42', '43', '44', '45', '46', '47', '48',\n",
       "       '49', '5', '50', '6', '7', '8', '9', 'More than 50 years'],\n",
       "      dtype=object)"
      ]
     },
     "execution_count": 75,
     "metadata": {},
     "output_type": "execute_result"
    }
   ],
   "source": [
    "df_so_years_code_clean[column_years_code].sort_values(ascending=True).unique()"
   ]
  },
  {
   "cell_type": "code",
   "execution_count": 76,
   "id": "7510141f",
   "metadata": {},
   "outputs": [],
   "source": [
    "# Replace the string value More than 50 years with 51.\n",
    "column_more_than_50_years = 'More than 50 years'\n",
    "df_so_years_code_clean.loc[:, column_years_code] = df_so_years_code_clean.loc[:, column_years_code].replace(\n",
    "    to_replace=column_more_than_50_years,\n",
    "    value='51'\n",
    ")"
   ]
  },
  {
   "cell_type": "code",
   "execution_count": 77,
   "id": "515aef40",
   "metadata": {},
   "outputs": [
    {
     "data": {
      "text/plain": [
       "array(['0', '1', '10', '11', '12', '13', '14', '15', '16', '17', '18',\n",
       "       '19', '2', '20', '21', '22', '23', '24', '25', '26', '27', '28',\n",
       "       '29', '3', '30', '31', '32', '33', '34', '35', '36', '37', '38',\n",
       "       '39', '4', '40', '41', '42', '43', '44', '45', '46', '47', '48',\n",
       "       '49', '5', '50', '51', '6', '7', '8', '9'], dtype=object)"
      ]
     },
     "execution_count": 77,
     "metadata": {},
     "output_type": "execute_result"
    }
   ],
   "source": [
    "df_so_years_code_clean[column_years_code].sort_values(ascending=True).unique()"
   ]
  },
  {
   "cell_type": "markdown",
   "id": "410783c4",
   "metadata": {},
   "source": [
    "## 13 Turn YearsCode into an integer column."
   ]
  },
  {
   "cell_type": "code",
   "execution_count": 79,
   "id": "c1b965dc",
   "metadata": {},
   "outputs": [],
   "source": [
    "# Turn YearsCode into an integer column.\n",
    "df_so_years_code_clean.loc[:, column_years_code] = df_so_years_code_clean.loc[:, column_years_code].astype(int)"
   ]
  },
  {
   "cell_type": "code",
   "execution_count": null,
   "id": "cf7bf36a",
   "metadata": {},
   "outputs": [],
   "source": [
    "df_so_years_code_clean.loc[:, column_years_code] = df_so_years_code_clean.loc[:, column_years_code].astype(int)"
   ]
  },
  {
   "cell_type": "code",
   "execution_count": 82,
   "id": "b039ae97",
   "metadata": {},
   "outputs": [
    {
     "data": {
      "text/plain": [
       "dtype('int64')"
      ]
     },
     "execution_count": 82,
     "metadata": {},
     "output_type": "execute_result"
    }
   ],
   "source": [
    "df_so_years_code_clean.loc[:, column_years_code].dtype"
   ]
  },
  {
   "cell_type": "markdown",
   "id": "291537a9",
   "metadata": {},
   "source": [
    "## 14 Create a new column in `df_so`, called experience, which will categorize the values in the `YearsCode` "
   ]
  },
  {
   "cell_type": "code",
   "execution_count": 83,
   "id": "cbaea3ea",
   "metadata": {},
   "outputs": [
    {
     "data": {
      "text/plain": [
       "'1–2 years'"
      ]
     },
     "execution_count": 83,
     "metadata": {},
     "output_type": "execute_result"
    }
   ],
   "source": [
    "# Values can be\n",
    "# – Less than 1 year\n",
    "# – 1–2 years\n",
    "# – 3–5 years\n",
    "# – 6–10 years\n",
    "# – 11+ years\n",
    "\n",
    "utils.categorize_experience(2)"
   ]
  },
  {
   "cell_type": "code",
   "execution_count": 85,
   "id": "c1617589",
   "metadata": {},
   "outputs": [],
   "source": [
    "# Create a new column in `df_so`, called experience, which will categorize the values in the `YearsCode`\n",
    "column_experience = 'experience'\n",
    "df_so_years_code_clean.loc[:, column_experience] = df_so_years_code_clean[column_years_code].apply(\n",
    "    utils.categorize_experience\n",
    ")"
   ]
  },
  {
   "cell_type": "code",
   "execution_count": 86,
   "id": "e90a2780",
   "metadata": {},
   "outputs": [
    {
     "data": {
      "text/plain": [
       "experience\n",
       "11+ years           35132\n",
       "6–10 years          24295\n",
       "3–5 years           15688\n",
       "1–2 years            5037\n",
       "Less than 1 year     1489\n",
       "Name: count, dtype: int64"
      ]
     },
     "execution_count": 86,
     "metadata": {},
     "output_type": "execute_result"
    }
   ],
   "source": [
    "df_so_years_code_clean[column_experience].value_counts()"
   ]
  },
  {
   "cell_type": "markdown",
   "id": "932bd56b",
   "metadata": {},
   "source": [
    "## 15 According to the Stack Overflow survey, what proportion of Python developers have each level of experience?"
   ]
  },
  {
   "cell_type": "code",
   "execution_count": 88,
   "id": "9536d51f",
   "metadata": {},
   "outputs": [
    {
     "data": {
      "text/plain": [
       "experience\n",
       "11+ years          0.4303\n",
       "6–10 years         0.2976\n",
       "3–5 years          0.1922\n",
       "1–2 years          0.0617\n",
       "Less than 1 year   0.0182\n",
       "Name: proportion, dtype: float64"
      ]
     },
     "execution_count": 88,
     "metadata": {},
     "output_type": "execute_result"
    }
   ],
   "source": [
    "pd.options.display.float_format = '{:,.4f}'.format\n",
    "df_so_years_code_clean[column_experience].value_counts(normalize=True)"
   ]
  },
  {
   "cell_type": "markdown",
   "id": "c971cdbf",
   "metadata": {},
   "source": [
    "This was the midway project..."
   ]
  },
  {
   "cell_type": "code",
   "execution_count": null,
   "id": "6123bb51",
   "metadata": {},
   "outputs": [],
   "source": []
  }
 ],
 "metadata": {
  "kernelspec": {
   "display_name": "env",
   "language": "python",
   "name": "python3"
  },
  "language_info": {
   "codemirror_mode": {
    "name": "ipython",
    "version": 3
   },
   "file_extension": ".py",
   "mimetype": "text/x-python",
   "name": "python",
   "nbconvert_exporter": "python",
   "pygments_lexer": "ipython3",
   "version": "3.13.2"
  }
 },
 "nbformat": 4,
 "nbformat_minor": 5
}
