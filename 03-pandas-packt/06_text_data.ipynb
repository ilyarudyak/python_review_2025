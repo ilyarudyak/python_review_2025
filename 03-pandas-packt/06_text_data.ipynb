{
 "cells": [
  {
   "cell_type": "markdown",
   "id": "f7b7e6d2",
   "metadata": {
    "jp-MarkdownHeadingCollapsed": true
   },
   "source": [
    "## Setup"
   ]
  },
  {
   "cell_type": "code",
   "execution_count": 15,
   "id": "176fcc60",
   "metadata": {},
   "outputs": [
    {
     "name": "stdout",
     "output_type": "stream",
     "text": [
      "The autoreload extension is already loaded. To reload it, use:\n",
      "  %reload_ext autoreload\n"
     ]
    }
   ],
   "source": [
    "import numpy as np\n",
    "import pandas as pd\n",
    "import matplotlib.pyplot as plt\n",
    "import seaborn as sns\n",
    "sns.set_theme()\n",
    "\n",
    "import utils_06 as utils\n",
    "\n",
    "%load_ext autoreload\n",
    "%autoreload 2"
   ]
  },
  {
   "cell_type": "markdown",
   "id": "1629140b",
   "metadata": {
    "jp-MarkdownHeadingCollapsed": true
   },
   "source": [
    "## 01 Dataset"
   ]
  },
  {
   "cell_type": "code",
   "execution_count": 2,
   "id": "5bbe816b",
   "metadata": {},
   "outputs": [
    {
     "data": {
      "text/html": [
       "<div>\n",
       "<style scoped>\n",
       "    .dataframe tbody tr th:only-of-type {\n",
       "        vertical-align: middle;\n",
       "    }\n",
       "\n",
       "    .dataframe tbody tr th {\n",
       "        vertical-align: top;\n",
       "    }\n",
       "\n",
       "    .dataframe thead th {\n",
       "        text-align: right;\n",
       "    }\n",
       "</style>\n",
       "<table border=\"1\" class=\"dataframe\">\n",
       "  <thead>\n",
       "    <tr style=\"text-align: right;\">\n",
       "      <th></th>\n",
       "      <th>Name</th>\n",
       "      <th>Position Title</th>\n",
       "      <th>Department</th>\n",
       "      <th>Employee Annual Salary</th>\n",
       "    </tr>\n",
       "  </thead>\n",
       "  <tbody>\n",
       "    <tr>\n",
       "      <th>0</th>\n",
       "      <td>AARON,  ELVIA J</td>\n",
       "      <td>WATER RATE TAKER</td>\n",
       "      <td>WATER MGMNT</td>\n",
       "      <td>$90744.00</td>\n",
       "    </tr>\n",
       "    <tr>\n",
       "      <th>1</th>\n",
       "      <td>AARON,  JEFFERY M</td>\n",
       "      <td>POLICE OFFICER</td>\n",
       "      <td>POLICE</td>\n",
       "      <td>$84450.00</td>\n",
       "    </tr>\n",
       "    <tr>\n",
       "      <th>2</th>\n",
       "      <td>AARON,  KARINA</td>\n",
       "      <td>POLICE OFFICER</td>\n",
       "      <td>POLICE</td>\n",
       "      <td>$84450.00</td>\n",
       "    </tr>\n",
       "    <tr>\n",
       "      <th>3</th>\n",
       "      <td>AARON,  KIMBERLEI R</td>\n",
       "      <td>CHIEF CONTRACT EXPEDITER</td>\n",
       "      <td>GENERAL SERVICES</td>\n",
       "      <td>$89880.00</td>\n",
       "    </tr>\n",
       "    <tr>\n",
       "      <th>4</th>\n",
       "      <td>ABAD JR,  VICENTE M</td>\n",
       "      <td>CIVIL ENGINEER IV</td>\n",
       "      <td>WATER MGMNT</td>\n",
       "      <td>$106836.00</td>\n",
       "    </tr>\n",
       "  </tbody>\n",
       "</table>\n",
       "</div>"
      ],
      "text/plain": [
       "                  Name            Position Title        Department  \\\n",
       "0      AARON,  ELVIA J          WATER RATE TAKER       WATER MGMNT   \n",
       "1    AARON,  JEFFERY M            POLICE OFFICER            POLICE   \n",
       "2       AARON,  KARINA            POLICE OFFICER            POLICE   \n",
       "3  AARON,  KIMBERLEI R  CHIEF CONTRACT EXPEDITER  GENERAL SERVICES   \n",
       "4  ABAD JR,  VICENTE M         CIVIL ENGINEER IV       WATER MGMNT   \n",
       "\n",
       "  Employee Annual Salary  \n",
       "0              $90744.00  \n",
       "1              $84450.00  \n",
       "2              $84450.00  \n",
       "3              $89880.00  \n",
       "4             $106836.00  "
      ]
     },
     "execution_count": 2,
     "metadata": {},
     "output_type": "execute_result"
    }
   ],
   "source": [
    "file_name = 'data/chicago.csv'\n",
    "chicago = pd.read_csv(file_name)\n",
    "chicago.head()"
   ]
  },
  {
   "cell_type": "code",
   "execution_count": 4,
   "id": "2f26728b",
   "metadata": {},
   "outputs": [
    {
     "name": "stdout",
     "output_type": "stream",
     "text": [
      "<class 'pandas.core.frame.DataFrame'>\n",
      "RangeIndex: 32063 entries, 0 to 32062\n",
      "Data columns (total 4 columns):\n",
      " #   Column                  Non-Null Count  Dtype \n",
      "---  ------                  --------------  ----- \n",
      " 0   Name                    32062 non-null  object\n",
      " 1   Position Title          32062 non-null  object\n",
      " 2   Department              32062 non-null  object\n",
      " 3   Employee Annual Salary  32062 non-null  object\n",
      "dtypes: object(4)\n",
      "memory usage: 1002.1+ KB\n"
     ]
    }
   ],
   "source": [
    "chicago.info()"
   ]
  },
  {
   "cell_type": "markdown",
   "id": "5b12e597",
   "metadata": {},
   "source": [
    "## 02 String methods"
   ]
  },
  {
   "cell_type": "code",
   "execution_count": null,
   "id": "7173514d",
   "metadata": {},
   "outputs": [
    {
     "data": {
      "text/plain": [
       "0            Water Rate Taker\n",
       "1              Police Officer\n",
       "2              Police Officer\n",
       "3    Chief Contract Expediter\n",
       "4           Civil Engineer Iv\n",
       "Name: Position Title, dtype: object"
      ]
     },
     "execution_count": 5,
     "metadata": {},
     "output_type": "execute_result"
    }
   ],
   "source": [
    "# String methods to change case of Position Title\n",
    "chicago['Position Title'].str.title().head()"
   ]
  },
  {
   "cell_type": "code",
   "execution_count": 7,
   "id": "8ca5d662",
   "metadata": {},
   "outputs": [
    {
     "data": {
      "text/plain": [
       "0        WATER Management\n",
       "1                  POLICE\n",
       "2                  POLICE\n",
       "3        GENERAL SERVICES\n",
       "4        WATER Management\n",
       "               ...       \n",
       "32058              POLICE\n",
       "32059              POLICE\n",
       "32060              POLICE\n",
       "32061                DoIT\n",
       "32062                 NaN\n",
       "Name: Department, Length: 32063, dtype: object"
      ]
     },
     "execution_count": 7,
     "metadata": {},
     "output_type": "execute_result"
    }
   ],
   "source": [
    "# Change MNGMT to Management in Department\n",
    "chicago['Department'].str.replace('MGMNT', 'Management')"
   ]
  },
  {
   "cell_type": "code",
   "execution_count": 9,
   "id": "06c1ddfa",
   "metadata": {},
   "outputs": [
    {
     "data": {
      "text/html": [
       "<div>\n",
       "<style scoped>\n",
       "    .dataframe tbody tr th:only-of-type {\n",
       "        vertical-align: middle;\n",
       "    }\n",
       "\n",
       "    .dataframe tbody tr th {\n",
       "        vertical-align: top;\n",
       "    }\n",
       "\n",
       "    .dataframe thead th {\n",
       "        text-align: right;\n",
       "    }\n",
       "</style>\n",
       "<table border=\"1\" class=\"dataframe\">\n",
       "  <thead>\n",
       "    <tr style=\"text-align: right;\">\n",
       "      <th></th>\n",
       "      <th>Name</th>\n",
       "      <th>Position Title</th>\n",
       "      <th>Department</th>\n",
       "      <th>Employee Annual Salary</th>\n",
       "    </tr>\n",
       "  </thead>\n",
       "  <tbody>\n",
       "    <tr>\n",
       "      <th>0</th>\n",
       "      <td>AARON,  ELVIA J</td>\n",
       "      <td>WATER RATE TAKER</td>\n",
       "      <td>WATER MGMNT</td>\n",
       "      <td>$90744.00</td>\n",
       "    </tr>\n",
       "    <tr>\n",
       "      <th>554</th>\n",
       "      <td>ALUISE,  VINCENT G</td>\n",
       "      <td>FOREMAN OF WATER PIPE CONSTRUCTION</td>\n",
       "      <td>WATER MGMNT</td>\n",
       "      <td>$102440.00</td>\n",
       "    </tr>\n",
       "    <tr>\n",
       "      <th>671</th>\n",
       "      <td>ANDER,  PERRY A</td>\n",
       "      <td>WATER CHEMIST II</td>\n",
       "      <td>WATER MGMNT</td>\n",
       "      <td>$82044.00</td>\n",
       "    </tr>\n",
       "    <tr>\n",
       "      <th>685</th>\n",
       "      <td>ANDERSON,  ANDREW J</td>\n",
       "      <td>DISTRICT SUPERINTENDENT OF WATER DISTRIBUTION</td>\n",
       "      <td>WATER MGMNT</td>\n",
       "      <td>$109272.00</td>\n",
       "    </tr>\n",
       "    <tr>\n",
       "      <th>702</th>\n",
       "      <td>ANDERSON,  DONALD</td>\n",
       "      <td>FOREMAN OF WATER PIPE CONSTRUCTION</td>\n",
       "      <td>WATER MGMNT</td>\n",
       "      <td>$102440.00</td>\n",
       "    </tr>\n",
       "  </tbody>\n",
       "</table>\n",
       "</div>"
      ],
      "text/plain": [
       "                    Name                                 Position Title  \\\n",
       "0        AARON,  ELVIA J                               WATER RATE TAKER   \n",
       "554   ALUISE,  VINCENT G             FOREMAN OF WATER PIPE CONSTRUCTION   \n",
       "671      ANDER,  PERRY A                               WATER CHEMIST II   \n",
       "685  ANDERSON,  ANDREW J  DISTRICT SUPERINTENDENT OF WATER DISTRIBUTION   \n",
       "702    ANDERSON,  DONALD             FOREMAN OF WATER PIPE CONSTRUCTION   \n",
       "\n",
       "      Department Employee Annual Salary  \n",
       "0    WATER MGMNT              $90744.00  \n",
       "554  WATER MGMNT             $102440.00  \n",
       "671  WATER MGMNT              $82044.00  \n",
       "685  WATER MGMNT             $109272.00  \n",
       "702  WATER MGMNT             $102440.00  "
      ]
     },
     "execution_count": 9,
     "metadata": {},
     "output_type": "execute_result"
    }
   ],
   "source": [
    "# Extract all entries from chicago so Position Title  contains 'water'\n",
    "chicago = chicago.dropna(subset=['Position Title'])\n",
    "mask = chicago['Position Title'].str.lower().str.contains('water')\n",
    "chicago[mask].head()\n"
   ]
  },
  {
   "cell_type": "code",
   "execution_count": 10,
   "id": "eb12bab0",
   "metadata": {},
   "outputs": [
    {
     "data": {
      "text/html": [
       "<div>\n",
       "<style scoped>\n",
       "    .dataframe tbody tr th:only-of-type {\n",
       "        vertical-align: middle;\n",
       "    }\n",
       "\n",
       "    .dataframe tbody tr th {\n",
       "        vertical-align: top;\n",
       "    }\n",
       "\n",
       "    .dataframe thead th {\n",
       "        text-align: right;\n",
       "    }\n",
       "</style>\n",
       "<table border=\"1\" class=\"dataframe\">\n",
       "  <thead>\n",
       "    <tr style=\"text-align: right;\">\n",
       "      <th></th>\n",
       "      <th>Name</th>\n",
       "      <th>Position Title</th>\n",
       "      <th>Department</th>\n",
       "      <th>Employee Annual Salary</th>\n",
       "    </tr>\n",
       "  </thead>\n",
       "  <tbody>\n",
       "    <tr>\n",
       "      <th>4</th>\n",
       "      <td>ABAD JR,  VICENTE M</td>\n",
       "      <td>CIVIL ENGINEER IV</td>\n",
       "      <td>WATER MGMNT</td>\n",
       "      <td>$106836.00</td>\n",
       "    </tr>\n",
       "    <tr>\n",
       "      <th>25</th>\n",
       "      <td>ABDULSATTAR,  MUDHAR</td>\n",
       "      <td>CIVIL ENGINEER II</td>\n",
       "      <td>WATER MGMNT</td>\n",
       "      <td>$58536.00</td>\n",
       "    </tr>\n",
       "    <tr>\n",
       "      <th>34</th>\n",
       "      <td>ABRAHAM,  GIRLEY T</td>\n",
       "      <td>CIVIL ENGINEER IV</td>\n",
       "      <td>WATER MGMNT</td>\n",
       "      <td>$106836.00</td>\n",
       "    </tr>\n",
       "    <tr>\n",
       "      <th>55</th>\n",
       "      <td>ABUTALEB,  AHMAD H</td>\n",
       "      <td>CIVIL ENGINEER II</td>\n",
       "      <td>WATER MGMNT</td>\n",
       "      <td>$89676.00</td>\n",
       "    </tr>\n",
       "    <tr>\n",
       "      <th>147</th>\n",
       "      <td>ADAMS,  TANERA C</td>\n",
       "      <td>CIVIL ENGINEER IV</td>\n",
       "      <td>TRANSPORTN</td>\n",
       "      <td>$106836.00</td>\n",
       "    </tr>\n",
       "  </tbody>\n",
       "</table>\n",
       "</div>"
      ],
      "text/plain": [
       "                     Name     Position Title   Department  \\\n",
       "4     ABAD JR,  VICENTE M  CIVIL ENGINEER IV  WATER MGMNT   \n",
       "25   ABDULSATTAR,  MUDHAR  CIVIL ENGINEER II  WATER MGMNT   \n",
       "34     ABRAHAM,  GIRLEY T  CIVIL ENGINEER IV  WATER MGMNT   \n",
       "55     ABUTALEB,  AHMAD H  CIVIL ENGINEER II  WATER MGMNT   \n",
       "147      ADAMS,  TANERA C  CIVIL ENGINEER IV   TRANSPORTN   \n",
       "\n",
       "    Employee Annual Salary  \n",
       "4               $106836.00  \n",
       "25               $58536.00  \n",
       "34              $106836.00  \n",
       "55               $89676.00  \n",
       "147             $106836.00  "
      ]
     },
     "execution_count": 10,
     "metadata": {},
     "output_type": "execute_result"
    }
   ],
   "source": [
    "# Extract all entries from chicago so Position Title starts with civil\n",
    "mask = chicago['Position Title'].str.lower().str.startswith('civil')\n",
    "chicago[mask].head()"
   ]
  },
  {
   "cell_type": "code",
   "execution_count": 11,
   "id": "a4a36d06",
   "metadata": {},
   "outputs": [
    {
     "data": {
      "text/html": [
       "<div>\n",
       "<style scoped>\n",
       "    .dataframe tbody tr th:only-of-type {\n",
       "        vertical-align: middle;\n",
       "    }\n",
       "\n",
       "    .dataframe tbody tr th {\n",
       "        vertical-align: top;\n",
       "    }\n",
       "\n",
       "    .dataframe thead th {\n",
       "        text-align: right;\n",
       "    }\n",
       "</style>\n",
       "<table border=\"1\" class=\"dataframe\">\n",
       "  <thead>\n",
       "    <tr style=\"text-align: right;\">\n",
       "      <th></th>\n",
       "      <th>Name</th>\n",
       "      <th>Position Title</th>\n",
       "      <th>Department</th>\n",
       "      <th>Employee Annual Salary</th>\n",
       "    </tr>\n",
       "  </thead>\n",
       "  <tbody>\n",
       "    <tr>\n",
       "      <th>4</th>\n",
       "      <td>ABAD JR,  VICENTE M</td>\n",
       "      <td>CIVIL ENGINEER IV</td>\n",
       "      <td>WATER MGMNT</td>\n",
       "      <td>$106836.00</td>\n",
       "    </tr>\n",
       "    <tr>\n",
       "      <th>34</th>\n",
       "      <td>ABRAHAM,  GIRLEY T</td>\n",
       "      <td>CIVIL ENGINEER IV</td>\n",
       "      <td>WATER MGMNT</td>\n",
       "      <td>$106836.00</td>\n",
       "    </tr>\n",
       "    <tr>\n",
       "      <th>145</th>\n",
       "      <td>ADAMS,  SHERYLL A</td>\n",
       "      <td>LIBRARIAN IV</td>\n",
       "      <td>PUBLIC LIBRARY</td>\n",
       "      <td>$97812.00</td>\n",
       "    </tr>\n",
       "    <tr>\n",
       "      <th>147</th>\n",
       "      <td>ADAMS,  TANERA C</td>\n",
       "      <td>CIVIL ENGINEER IV</td>\n",
       "      <td>TRANSPORTN</td>\n",
       "      <td>$106836.00</td>\n",
       "    </tr>\n",
       "    <tr>\n",
       "      <th>166</th>\n",
       "      <td>ADENI,  MOHAMED K</td>\n",
       "      <td>ACCOUNTANT IV</td>\n",
       "      <td>FINANCE</td>\n",
       "      <td>$97812.00</td>\n",
       "    </tr>\n",
       "  </tbody>\n",
       "</table>\n",
       "</div>"
      ],
      "text/plain": [
       "                    Name     Position Title      Department  \\\n",
       "4    ABAD JR,  VICENTE M  CIVIL ENGINEER IV     WATER MGMNT   \n",
       "34    ABRAHAM,  GIRLEY T  CIVIL ENGINEER IV     WATER MGMNT   \n",
       "145    ADAMS,  SHERYLL A       LIBRARIAN IV  PUBLIC LIBRARY   \n",
       "147     ADAMS,  TANERA C  CIVIL ENGINEER IV      TRANSPORTN   \n",
       "166    ADENI,  MOHAMED K      ACCOUNTANT IV         FINANCE   \n",
       "\n",
       "    Employee Annual Salary  \n",
       "4               $106836.00  \n",
       "34              $106836.00  \n",
       "145              $97812.00  \n",
       "147             $106836.00  \n",
       "166              $97812.00  "
      ]
     },
     "execution_count": 11,
     "metadata": {},
     "output_type": "execute_result"
    }
   ],
   "source": [
    "# Extract all entries from chicago so Position Title ends with 'IV'\n",
    "mask = chicago['Position Title'].str.lower().str.endswith('iv')\n",
    "chicago[mask].head()\n"
   ]
  },
  {
   "cell_type": "code",
   "execution_count": 4,
   "id": "471d70a9-5f76-45b3-85ab-5ae5f6ae7931",
   "metadata": {},
   "outputs": [
    {
     "data": {
      "text/plain": [
       "0                [WATER, RATE, TAKER]\n",
       "1                   [POLICE, OFFICER]\n",
       "2                   [POLICE, OFFICER]\n",
       "3        [CHIEF, CONTRACT, EXPEDITER]\n",
       "4               [CIVIL, ENGINEER, IV]\n",
       "                     ...             \n",
       "32058               [POLICE, OFFICER]\n",
       "32059               [POLICE, OFFICER]\n",
       "32060               [POLICE, OFFICER]\n",
       "32061    [CHIEF, DATA, BASE, ANALYST]\n",
       "32062                             NaN\n",
       "Name: Position Title, Length: 32063, dtype: object"
      ]
     },
     "execution_count": 4,
     "metadata": {},
     "output_type": "execute_result"
    }
   ],
   "source": [
    "chicago['Position Title'].str.split(' ')"
   ]
  },
  {
   "cell_type": "code",
   "execution_count": 5,
   "id": "8ba41462-914a-40aa-a084-ee32b596b9bb",
   "metadata": {},
   "outputs": [
    {
     "data": {
      "text/plain": [
       "0         WATER\n",
       "1        POLICE\n",
       "2        POLICE\n",
       "3         CHIEF\n",
       "4         CIVIL\n",
       "          ...  \n",
       "32058    POLICE\n",
       "32059    POLICE\n",
       "32060    POLICE\n",
       "32061     CHIEF\n",
       "32062       NaN\n",
       "Name: Position Title, Length: 32063, dtype: object"
      ]
     },
     "execution_count": 5,
     "metadata": {},
     "output_type": "execute_result"
    }
   ],
   "source": [
    "chicago['Position Title'].str.split(' ').str.get(0)"
   ]
  },
  {
   "cell_type": "markdown",
   "id": "a088432a-2aaa-4faa-bafd-0f50804ce1f0",
   "metadata": {},
   "source": [
    "### Find the most common first name"
   ]
  },
  {
   "cell_type": "code",
   "execution_count": 14,
   "id": "89983bd5-8fb4-4895-9896-2fb2c9656204",
   "metadata": {},
   "outputs": [
    {
     "data": {
      "text/plain": [
       "0          AARON,  ELVIA J\n",
       "1        AARON,  JEFFERY M\n",
       "2           AARON,  KARINA\n",
       "3      AARON,  KIMBERLEI R\n",
       "4      ABAD JR,  VICENTE M\n",
       "5          ABARCA,  ANABEL\n",
       "6        ABARCA,  EMMANUEL\n",
       "7        ABASCAL,  REECE E\n",
       "8     ABBASI,  CHRISTOPHER\n",
       "9    ABBATACOLA,  ROBERT J\n",
       "Name: Name, dtype: object"
      ]
     },
     "execution_count": 14,
     "metadata": {},
     "output_type": "execute_result"
    }
   ],
   "source": [
    "chicago['Name'].head(10)"
   ]
  },
  {
   "cell_type": "code",
   "execution_count": 12,
   "id": "8c10da46-4a8e-43fa-ba25-c9262de9c79b",
   "metadata": {},
   "outputs": [
    {
     "data": {
      "text/plain": [
       "Name\n",
       "MICHAEL    1153\n",
       "JOHN        899\n",
       "JAMES       676\n",
       "ROBERT      622\n",
       "JOSEPH      537\n",
       "DAVID       506\n",
       "THOMAS      490\n",
       "DANIEL      472\n",
       "WILLIAM     397\n",
       "ANTHONY     385\n",
       "Name: count, dtype: int64"
      ]
     },
     "execution_count": 12,
     "metadata": {},
     "output_type": "execute_result"
    }
   ],
   "source": [
    "(chicago['Name']\n",
    " .str.split(',')\n",
    " .str.get(1)\n",
    " .str.strip()\n",
    " .str.split()\n",
    " .str.get(0)\n",
    " .str.strip()\n",
    " .value_counts()\n",
    " .sort_values(ascending=False)\n",
    " .head(10))  "
   ]
  },
  {
   "cell_type": "code",
   "execution_count": 17,
   "id": "fb70a2c8",
   "metadata": {},
   "outputs": [
    {
     "data": {
      "text/plain": [
       "0          AARON,  ELVIA J\n",
       "1        AARON,  JEFFERY M\n",
       "2           AARON,  KARINA\n",
       "3      AARON,  KIMBERLEI R\n",
       "4      ABAD JR,  VICENTE M\n",
       "5          ABARCA,  ANABEL\n",
       "6        ABARCA,  EMMANUEL\n",
       "7        ABASCAL,  REECE E\n",
       "8     ABBASI,  CHRISTOPHER\n",
       "9    ABBATACOLA,  ROBERT J\n",
       "Name: Name, dtype: object"
      ]
     },
     "execution_count": 17,
     "metadata": {},
     "output_type": "execute_result"
    }
   ],
   "source": [
    "chicago['Name'].head(10)"
   ]
  },
  {
   "cell_type": "code",
   "execution_count": null,
   "id": "af83d03d",
   "metadata": {},
   "outputs": [
    {
     "data": {
      "text/plain": [
       "np.int64(1)"
      ]
     },
     "execution_count": 20,
     "metadata": {},
     "output_type": "execute_result"
    }
   ],
   "source": [
    "# Count nans in Name column\n",
    "chicago['Name'].isna().sum()"
   ]
  },
  {
   "cell_type": "code",
   "execution_count": 21,
   "id": "53b04bc8",
   "metadata": {},
   "outputs": [],
   "source": [
    "chicago = chicago.dropna(subset=['Name'])"
   ]
  },
  {
   "cell_type": "code",
   "execution_count": 22,
   "id": "58b810f4",
   "metadata": {},
   "outputs": [
    {
     "data": {
      "text/plain": [
       "np.int64(0)"
      ]
     },
     "execution_count": 22,
     "metadata": {},
     "output_type": "execute_result"
    }
   ],
   "source": [
    "# Count nans in Name column\n",
    "chicago['Name'].isna().sum()"
   ]
  },
  {
   "cell_type": "code",
   "execution_count": 28,
   "id": "8e4cf868-573f-49d4-af85-6d4b14972714",
   "metadata": {},
   "outputs": [
    {
     "data": {
      "text/plain": [
       "First Name\n",
       "Michael    1153\n",
       "John        899\n",
       "James       676\n",
       "Robert      622\n",
       "Joseph      537\n",
       "David       506\n",
       "Thomas      490\n",
       "Daniel      472\n",
       "William     397\n",
       "Anthony     385\n",
       "Name: count, dtype: int64"
      ]
     },
     "execution_count": 28,
     "metadata": {},
     "output_type": "execute_result"
    }
   ],
   "source": [
    "extractor = utils.FirstNameExtractor()\n",
    "chicago['First Name'] = chicago['Name'].apply(extractor.extract_first_name)\n",
    "chicago['First Name'].value_counts().sort_values(ascending=False).head(10)"
   ]
  },
  {
   "cell_type": "markdown",
   "id": "ca07154c",
   "metadata": {},
   "source": [
    "## 03 Coding challenge"
   ]
  },
  {
   "cell_type": "code",
   "execution_count": 30,
   "id": "99a22d8e",
   "metadata": {},
   "outputs": [
    {
     "data": {
      "text/html": [
       "<div>\n",
       "<style scoped>\n",
       "    .dataframe tbody tr th:only-of-type {\n",
       "        vertical-align: middle;\n",
       "    }\n",
       "\n",
       "    .dataframe tbody tr th {\n",
       "        vertical-align: top;\n",
       "    }\n",
       "\n",
       "    .dataframe thead th {\n",
       "        text-align: right;\n",
       "    }\n",
       "</style>\n",
       "<table border=\"1\" class=\"dataframe\">\n",
       "  <thead>\n",
       "    <tr style=\"text-align: right;\">\n",
       "      <th></th>\n",
       "      <th>Name</th>\n",
       "      <th>Address</th>\n",
       "    </tr>\n",
       "  </thead>\n",
       "  <tbody>\n",
       "    <tr>\n",
       "      <th>0</th>\n",
       "      <td>Frank Manning</td>\n",
       "      <td>6461 Quinn Groves, East Matthew, New Hampshire...</td>\n",
       "    </tr>\n",
       "    <tr>\n",
       "      <th>1</th>\n",
       "      <td>Elizabeth Johnson</td>\n",
       "      <td>1360 Tracey Ports Apt. 419, Kyleport, Vermont,...</td>\n",
       "    </tr>\n",
       "    <tr>\n",
       "      <th>2</th>\n",
       "      <td>Donald Stephens</td>\n",
       "      <td>19120 Fleming Manors, Prestonstad, Montana, 23495</td>\n",
       "    </tr>\n",
       "    <tr>\n",
       "      <th>3</th>\n",
       "      <td>Michael Vincent III</td>\n",
       "      <td>441 Olivia Creek, Jimmymouth, Georgia, 82991</td>\n",
       "    </tr>\n",
       "    <tr>\n",
       "      <th>4</th>\n",
       "      <td>Jasmine Zamora</td>\n",
       "      <td>4246 Chelsey Ford Apt. 310, Karamouth, Utah, 7...</td>\n",
       "    </tr>\n",
       "  </tbody>\n",
       "</table>\n",
       "</div>"
      ],
      "text/plain": [
       "                  Name                                            Address\n",
       "0        Frank Manning  6461 Quinn Groves, East Matthew, New Hampshire...\n",
       "1    Elizabeth Johnson  1360 Tracey Ports Apt. 419, Kyleport, Vermont,...\n",
       "2      Donald Stephens  19120 Fleming Manors, Prestonstad, Montana, 23495\n",
       "3  Michael Vincent III       441 Olivia Creek, Jimmymouth, Georgia, 82991\n",
       "4       Jasmine Zamora  4246 Chelsey Ford Apt. 310, Karamouth, Utah, 7..."
      ]
     },
     "execution_count": 30,
     "metadata": {},
     "output_type": "execute_result"
    }
   ],
   "source": [
    "file_name = \"data/customers.csv\"\n",
    "customers = pd.read_csv(file_name)\n",
    "customers.head()"
   ]
  },
  {
   "cell_type": "code",
   "execution_count": null,
   "id": "66fee584",
   "metadata": {},
   "outputs": [],
   "source": [
    "# Our customers data set includes an Address column. Each address consists of a street,\n",
    "# a city, a state, and a zip code. Your challenge is to separate these four values; assign\n",
    "# them to new Street, City, State, and Zip columns; and then remove the Address col-\n",
    "# umn."
   ]
  },
  {
   "cell_type": "code",
   "execution_count": 31,
   "id": "b3b80729",
   "metadata": {},
   "outputs": [
    {
     "data": {
      "text/html": [
       "<div>\n",
       "<style scoped>\n",
       "    .dataframe tbody tr th:only-of-type {\n",
       "        vertical-align: middle;\n",
       "    }\n",
       "\n",
       "    .dataframe tbody tr th {\n",
       "        vertical-align: top;\n",
       "    }\n",
       "\n",
       "    .dataframe thead th {\n",
       "        text-align: right;\n",
       "    }\n",
       "</style>\n",
       "<table border=\"1\" class=\"dataframe\">\n",
       "  <thead>\n",
       "    <tr style=\"text-align: right;\">\n",
       "      <th></th>\n",
       "      <th>Name</th>\n",
       "      <th>Street</th>\n",
       "      <th>City</th>\n",
       "      <th>State</th>\n",
       "      <th>Zip</th>\n",
       "    </tr>\n",
       "  </thead>\n",
       "  <tbody>\n",
       "    <tr>\n",
       "      <th>0</th>\n",
       "      <td>Frank Manning</td>\n",
       "      <td>6461 Quinn Groves</td>\n",
       "      <td>East Matthew</td>\n",
       "      <td>New Hampshire</td>\n",
       "      <td>16656</td>\n",
       "    </tr>\n",
       "    <tr>\n",
       "      <th>1</th>\n",
       "      <td>Elizabeth Johnson</td>\n",
       "      <td>1360 Tracey Ports Apt. 419</td>\n",
       "      <td>Kyleport</td>\n",
       "      <td>Vermont</td>\n",
       "      <td>31924</td>\n",
       "    </tr>\n",
       "    <tr>\n",
       "      <th>2</th>\n",
       "      <td>Donald Stephens</td>\n",
       "      <td>19120 Fleming Manors</td>\n",
       "      <td>Prestonstad</td>\n",
       "      <td>Montana</td>\n",
       "      <td>23495</td>\n",
       "    </tr>\n",
       "    <tr>\n",
       "      <th>3</th>\n",
       "      <td>Michael Vincent III</td>\n",
       "      <td>441 Olivia Creek</td>\n",
       "      <td>Jimmymouth</td>\n",
       "      <td>Georgia</td>\n",
       "      <td>82991</td>\n",
       "    </tr>\n",
       "    <tr>\n",
       "      <th>4</th>\n",
       "      <td>Jasmine Zamora</td>\n",
       "      <td>4246 Chelsey Ford Apt. 310</td>\n",
       "      <td>Karamouth</td>\n",
       "      <td>Utah</td>\n",
       "      <td>76252</td>\n",
       "    </tr>\n",
       "  </tbody>\n",
       "</table>\n",
       "</div>"
      ],
      "text/plain": [
       "                  Name                      Street           City  \\\n",
       "0        Frank Manning           6461 Quinn Groves   East Matthew   \n",
       "1    Elizabeth Johnson  1360 Tracey Ports Apt. 419       Kyleport   \n",
       "2      Donald Stephens        19120 Fleming Manors    Prestonstad   \n",
       "3  Michael Vincent III            441 Olivia Creek     Jimmymouth   \n",
       "4       Jasmine Zamora  4246 Chelsey Ford Apt. 310      Karamouth   \n",
       "\n",
       "            State     Zip  \n",
       "0   New Hampshire   16656  \n",
       "1         Vermont   31924  \n",
       "2         Montana   23495  \n",
       "3         Georgia   82991  \n",
       "4            Utah   76252  "
      ]
     },
     "execution_count": 31,
     "metadata": {},
     "output_type": "execute_result"
    }
   ],
   "source": [
    "columns = ['Street', 'City', 'State', 'Zip']\n",
    "customers[columns] = customers['Address'].str.split(',', expand=True)\n",
    "customers = customers.drop(columns=['Address'])\n",
    "customers.head()"
   ]
  }
 ],
 "metadata": {
  "kernelspec": {
   "display_name": "env",
   "language": "python",
   "name": "python3"
  },
  "language_info": {
   "codemirror_mode": {
    "name": "ipython",
    "version": 3
   },
   "file_extension": ".py",
   "mimetype": "text/x-python",
   "name": "python",
   "nbconvert_exporter": "python",
   "pygments_lexer": "ipython3",
   "version": "3.13.2"
  }
 },
 "nbformat": 4,
 "nbformat_minor": 5
}
