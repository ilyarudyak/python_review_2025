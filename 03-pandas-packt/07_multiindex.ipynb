{
 "cells": [
  {
   "cell_type": "markdown",
   "id": "8e270b9f",
   "metadata": {},
   "source": [
    "## Setup"
   ]
  },
  {
   "cell_type": "code",
   "execution_count": 1,
   "id": "826a473a",
   "metadata": {},
   "outputs": [],
   "source": [
    "import numpy as np\n",
    "import pandas as pd\n",
    "import matplotlib.pyplot as plt\n",
    "import seaborn as sns\n",
    "sns.set_theme()\n",
    "\n",
    "import utils_07 as utils\n",
    "\n",
    "%load_ext autoreload\n",
    "%autoreload 2"
   ]
  },
  {
   "cell_type": "markdown",
   "id": "c77563a7",
   "metadata": {},
   "source": [
    "## 01 Intro to the MultiIndex Module"
   ]
  },
  {
   "cell_type": "code",
   "execution_count": 6,
   "id": "bb49bfae",
   "metadata": {},
   "outputs": [
    {
     "data": {
      "text/html": [
       "<div>\n",
       "<style scoped>\n",
       "    .dataframe tbody tr th:only-of-type {\n",
       "        vertical-align: middle;\n",
       "    }\n",
       "\n",
       "    .dataframe tbody tr th {\n",
       "        vertical-align: top;\n",
       "    }\n",
       "\n",
       "    .dataframe thead th {\n",
       "        text-align: right;\n",
       "    }\n",
       "</style>\n",
       "<table border=\"1\" class=\"dataframe\">\n",
       "  <thead>\n",
       "    <tr style=\"text-align: right;\">\n",
       "      <th></th>\n",
       "      <th>Date</th>\n",
       "      <th>Country</th>\n",
       "      <th>Price in US Dollars</th>\n",
       "    </tr>\n",
       "  </thead>\n",
       "  <tbody>\n",
       "    <tr>\n",
       "      <th>0</th>\n",
       "      <td>2000-04-01</td>\n",
       "      <td>Argentina</td>\n",
       "      <td>2.50</td>\n",
       "    </tr>\n",
       "    <tr>\n",
       "      <th>1</th>\n",
       "      <td>2000-04-01</td>\n",
       "      <td>Australia</td>\n",
       "      <td>1.54</td>\n",
       "    </tr>\n",
       "    <tr>\n",
       "      <th>2</th>\n",
       "      <td>2000-04-01</td>\n",
       "      <td>Brazil</td>\n",
       "      <td>1.65</td>\n",
       "    </tr>\n",
       "    <tr>\n",
       "      <th>3</th>\n",
       "      <td>2000-04-01</td>\n",
       "      <td>Canada</td>\n",
       "      <td>1.94</td>\n",
       "    </tr>\n",
       "    <tr>\n",
       "      <th>4</th>\n",
       "      <td>2000-04-01</td>\n",
       "      <td>Switzerland</td>\n",
       "      <td>3.47</td>\n",
       "    </tr>\n",
       "  </tbody>\n",
       "</table>\n",
       "</div>"
      ],
      "text/plain": [
       "        Date      Country  Price in US Dollars\n",
       "0 2000-04-01    Argentina                 2.50\n",
       "1 2000-04-01    Australia                 1.54\n",
       "2 2000-04-01       Brazil                 1.65\n",
       "3 2000-04-01       Canada                 1.94\n",
       "4 2000-04-01  Switzerland                 3.47"
      ]
     },
     "execution_count": 6,
     "metadata": {},
     "output_type": "execute_result"
    }
   ],
   "source": [
    "b = utils.BIGMAC()\n",
    "b.bigmac.round(2).head()"
   ]
  },
  {
   "cell_type": "code",
   "execution_count": 7,
   "id": "59b00535",
   "metadata": {},
   "outputs": [
    {
     "data": {
      "text/plain": [
       "Date                   datetime64[ns]\n",
       "Country                        object\n",
       "Price in US Dollars           float64\n",
       "dtype: object"
      ]
     },
     "execution_count": 7,
     "metadata": {},
     "output_type": "execute_result"
    }
   ],
   "source": [
    "b.bigmac.dtypes"
   ]
  },
  {
   "cell_type": "code",
   "execution_count": 8,
   "id": "d8e393bc",
   "metadata": {},
   "outputs": [
    {
     "name": "stdout",
     "output_type": "stream",
     "text": [
      "<class 'pandas.core.frame.DataFrame'>\n",
      "RangeIndex: 1386 entries, 0 to 1385\n",
      "Data columns (total 3 columns):\n",
      " #   Column               Non-Null Count  Dtype         \n",
      "---  ------               --------------  -----         \n",
      " 0   Date                 1386 non-null   datetime64[ns]\n",
      " 1   Country              1386 non-null   object        \n",
      " 2   Price in US Dollars  1386 non-null   float64       \n",
      "dtypes: datetime64[ns](1), float64(1), object(1)\n",
      "memory usage: 32.6+ KB\n"
     ]
    }
   ],
   "source": [
    "b.bigmac.info()"
   ]
  },
  {
   "cell_type": "markdown",
   "id": "7e88e552",
   "metadata": {},
   "source": [
    "## 02 Create a MultiIndex"
   ]
  },
  {
   "cell_type": "code",
   "execution_count": 10,
   "id": "0da95e2e",
   "metadata": {},
   "outputs": [
    {
     "data": {
      "text/html": [
       "<div>\n",
       "<style scoped>\n",
       "    .dataframe tbody tr th:only-of-type {\n",
       "        vertical-align: middle;\n",
       "    }\n",
       "\n",
       "    .dataframe tbody tr th {\n",
       "        vertical-align: top;\n",
       "    }\n",
       "\n",
       "    .dataframe thead th {\n",
       "        text-align: right;\n",
       "    }\n",
       "</style>\n",
       "<table border=\"1\" class=\"dataframe\">\n",
       "  <thead>\n",
       "    <tr style=\"text-align: right;\">\n",
       "      <th></th>\n",
       "      <th></th>\n",
       "      <th>Price in US Dollars</th>\n",
       "    </tr>\n",
       "    <tr>\n",
       "      <th>Date</th>\n",
       "      <th>Country</th>\n",
       "      <th></th>\n",
       "    </tr>\n",
       "  </thead>\n",
       "  <tbody>\n",
       "    <tr>\n",
       "      <th rowspan=\"5\" valign=\"top\">2000-04-01</th>\n",
       "      <th>Argentina</th>\n",
       "      <td>2.50</td>\n",
       "    </tr>\n",
       "    <tr>\n",
       "      <th>Australia</th>\n",
       "      <td>1.54</td>\n",
       "    </tr>\n",
       "    <tr>\n",
       "      <th>Brazil</th>\n",
       "      <td>1.65</td>\n",
       "    </tr>\n",
       "    <tr>\n",
       "      <th>Canada</th>\n",
       "      <td>1.94</td>\n",
       "    </tr>\n",
       "    <tr>\n",
       "      <th>Switzerland</th>\n",
       "      <td>3.47</td>\n",
       "    </tr>\n",
       "  </tbody>\n",
       "</table>\n",
       "</div>"
      ],
      "text/plain": [
       "                        Price in US Dollars\n",
       "Date       Country                         \n",
       "2000-04-01 Argentina                   2.50\n",
       "           Australia                   1.54\n",
       "           Brazil                      1.65\n",
       "           Canada                      1.94\n",
       "           Switzerland                 3.47"
      ]
     },
     "execution_count": 10,
     "metadata": {},
     "output_type": "execute_result"
    }
   ],
   "source": [
    "index_col = ['Date', 'Country']\n",
    "b = utils.BIGMAC(index_col=index_col)\n",
    "b.bigmac.round(2).head()"
   ]
  },
  {
   "cell_type": "code",
   "execution_count": 12,
   "id": "4afadf44",
   "metadata": {},
   "outputs": [
    {
     "data": {
      "text/plain": [
       "(1386, 1)"
      ]
     },
     "execution_count": 12,
     "metadata": {},
     "output_type": "execute_result"
    }
   ],
   "source": [
    "b.bigmac.shape"
   ]
  },
  {
   "cell_type": "code",
   "execution_count": 17,
   "id": "2667ce42",
   "metadata": {},
   "outputs": [
    {
     "data": {
      "text/plain": [
       "(MultiIndex([('2000-04-01',   'Argentina'),\n",
       "             ('2000-04-01',   'Australia'),\n",
       "             ('2000-04-01',      'Brazil'),\n",
       "             ('2000-04-01',      'Canada'),\n",
       "             ('2000-04-01', 'Switzerland')],\n",
       "            names=['Date', 'Country']),\n",
       " 1386)"
      ]
     },
     "execution_count": 17,
     "metadata": {},
     "output_type": "execute_result"
    }
   ],
   "source": [
    "# Get index values as list of tuples\n",
    "b.bigmac.index[:5], len(b.bigmac.index)"
   ]
  },
  {
   "cell_type": "code",
   "execution_count": 16,
   "id": "751a5961",
   "metadata": {},
   "outputs": [
    {
     "data": {
      "text/plain": [
       "(Index(['Argentina', 'Australia', 'Brazil', 'Canada', 'Switzerland'], dtype='object', name='Country'),\n",
       " 1386)"
      ]
     },
     "execution_count": 16,
     "metadata": {},
     "output_type": "execute_result"
    }
   ],
   "source": [
    "# Get index values for a specific level\n",
    "b.bigmac.index.get_level_values('Country')[:5], len(b.bigmac.index.get_level_values('Country'))"
   ]
  },
  {
   "cell_type": "markdown",
   "id": "ad810c82",
   "metadata": {},
   "source": [
    "## 03 Extract Rows from a MultiIndex DataFrame"
   ]
  },
  {
   "cell_type": "code",
   "execution_count": 22,
   "id": "e0d879ac",
   "metadata": {},
   "outputs": [
    {
     "data": {
      "text/html": [
       "<div>\n",
       "<style scoped>\n",
       "    .dataframe tbody tr th:only-of-type {\n",
       "        vertical-align: middle;\n",
       "    }\n",
       "\n",
       "    .dataframe tbody tr th {\n",
       "        vertical-align: top;\n",
       "    }\n",
       "\n",
       "    .dataframe thead th {\n",
       "        text-align: right;\n",
       "    }\n",
       "</style>\n",
       "<table border=\"1\" class=\"dataframe\">\n",
       "  <thead>\n",
       "    <tr style=\"text-align: right;\">\n",
       "      <th></th>\n",
       "      <th></th>\n",
       "      <th>Price in US Dollars</th>\n",
       "    </tr>\n",
       "    <tr>\n",
       "      <th>Date</th>\n",
       "      <th>Country</th>\n",
       "      <th></th>\n",
       "    </tr>\n",
       "  </thead>\n",
       "  <tbody>\n",
       "    <tr>\n",
       "      <th rowspan=\"5\" valign=\"top\">2000-04-01</th>\n",
       "      <th>Argentina</th>\n",
       "      <td>2.50</td>\n",
       "    </tr>\n",
       "    <tr>\n",
       "      <th>Australia</th>\n",
       "      <td>1.54</td>\n",
       "    </tr>\n",
       "    <tr>\n",
       "      <th>Brazil</th>\n",
       "      <td>1.65</td>\n",
       "    </tr>\n",
       "    <tr>\n",
       "      <th>Canada</th>\n",
       "      <td>1.94</td>\n",
       "    </tr>\n",
       "    <tr>\n",
       "      <th>Switzerland</th>\n",
       "      <td>3.47</td>\n",
       "    </tr>\n",
       "  </tbody>\n",
       "</table>\n",
       "</div>"
      ],
      "text/plain": [
       "                        Price in US Dollars\n",
       "Date       Country                         \n",
       "2000-04-01 Argentina                   2.50\n",
       "           Australia                   1.54\n",
       "           Brazil                      1.65\n",
       "           Canada                      1.94\n",
       "           Switzerland                 3.47"
      ]
     },
     "execution_count": 22,
     "metadata": {},
     "output_type": "execute_result"
    }
   ],
   "source": [
    "index_col = ['Date', 'Country']\n",
    "b = utils.BIGMAC(index_col=index_col, round=True)\n",
    "b.bigmac.head()"
   ]
  },
  {
   "cell_type": "code",
   "execution_count": null,
   "id": "824297d7",
   "metadata": {},
   "outputs": [
    {
     "data": {
      "text/html": [
       "<div>\n",
       "<style scoped>\n",
       "    .dataframe tbody tr th:only-of-type {\n",
       "        vertical-align: middle;\n",
       "    }\n",
       "\n",
       "    .dataframe tbody tr th {\n",
       "        vertical-align: top;\n",
       "    }\n",
       "\n",
       "    .dataframe thead th {\n",
       "        text-align: right;\n",
       "    }\n",
       "</style>\n",
       "<table border=\"1\" class=\"dataframe\">\n",
       "  <thead>\n",
       "    <tr style=\"text-align: right;\">\n",
       "      <th></th>\n",
       "      <th>Price in US Dollars</th>\n",
       "    </tr>\n",
       "    <tr>\n",
       "      <th>Country</th>\n",
       "      <th></th>\n",
       "    </tr>\n",
       "  </thead>\n",
       "  <tbody>\n",
       "    <tr>\n",
       "      <th>Argentina</th>\n",
       "      <td>2.50</td>\n",
       "    </tr>\n",
       "    <tr>\n",
       "      <th>Australia</th>\n",
       "      <td>1.54</td>\n",
       "    </tr>\n",
       "    <tr>\n",
       "      <th>Brazil</th>\n",
       "      <td>1.65</td>\n",
       "    </tr>\n",
       "    <tr>\n",
       "      <th>Canada</th>\n",
       "      <td>1.94</td>\n",
       "    </tr>\n",
       "    <tr>\n",
       "      <th>Switzerland</th>\n",
       "      <td>3.47</td>\n",
       "    </tr>\n",
       "  </tbody>\n",
       "</table>\n",
       "</div>"
      ],
      "text/plain": [
       "             Price in US Dollars\n",
       "Country                         \n",
       "Argentina                   2.50\n",
       "Australia                   1.54\n",
       "Brazil                      1.65\n",
       "Canada                      1.94\n",
       "Switzerland                 3.47"
      ]
     },
     "execution_count": 23,
     "metadata": {},
     "output_type": "execute_result"
    }
   ],
   "source": [
    "# Extract rows for a date '2000-04-01' with loc\n",
    "b.bigmac.loc['2000-04-01'].head()"
   ]
  },
  {
   "cell_type": "code",
   "execution_count": 26,
   "id": "945d52e6",
   "metadata": {},
   "outputs": [
    {
     "data": {
      "text/plain": [
       "Price in US Dollars    1.94\n",
       "Name: (2000-04-01 00:00:00, Canada), dtype: float64"
      ]
     },
     "execution_count": 26,
     "metadata": {},
     "output_type": "execute_result"
    }
   ],
   "source": [
    "# Extract rows for a date '2000-04-01' and country 'Canada' with loc\n",
    "b.bigmac.loc[('2000-04-01', 'Canada')]"
   ]
  },
  {
   "cell_type": "markdown",
   "id": "c1aa19a7",
   "metadata": {},
   "source": [
    "## 04 The `stack` and `unstack` methods"
   ]
  },
  {
   "cell_type": "code",
   "execution_count": 29,
   "id": "912583de",
   "metadata": {},
   "outputs": [
    {
     "data": {
      "text/html": [
       "<div>\n",
       "<style scoped>\n",
       "    .dataframe tbody tr th:only-of-type {\n",
       "        vertical-align: middle;\n",
       "    }\n",
       "\n",
       "    .dataframe tbody tr th {\n",
       "        vertical-align: top;\n",
       "    }\n",
       "\n",
       "    .dataframe thead th {\n",
       "        text-align: right;\n",
       "    }\n",
       "</style>\n",
       "<table border=\"1\" class=\"dataframe\">\n",
       "  <thead>\n",
       "    <tr style=\"text-align: right;\">\n",
       "      <th></th>\n",
       "      <th></th>\n",
       "      <th>Population</th>\n",
       "      <th>GDP</th>\n",
       "    </tr>\n",
       "    <tr>\n",
       "      <th>year</th>\n",
       "      <th>country</th>\n",
       "      <th></th>\n",
       "      <th></th>\n",
       "    </tr>\n",
       "  </thead>\n",
       "  <tbody>\n",
       "    <tr>\n",
       "      <th rowspan=\"5\" valign=\"top\">1960</th>\n",
       "      <th>Afghanistan</th>\n",
       "      <td>8994793.0</td>\n",
       "      <td>5.377778e+08</td>\n",
       "    </tr>\n",
       "    <tr>\n",
       "      <th>Algeria</th>\n",
       "      <td>11124892.0</td>\n",
       "      <td>2.723638e+09</td>\n",
       "    </tr>\n",
       "    <tr>\n",
       "      <th>Australia</th>\n",
       "      <td>10276477.0</td>\n",
       "      <td>1.856759e+10</td>\n",
       "    </tr>\n",
       "    <tr>\n",
       "      <th>Austria</th>\n",
       "      <td>7047539.0</td>\n",
       "      <td>6.592694e+09</td>\n",
       "    </tr>\n",
       "    <tr>\n",
       "      <th>Bahamas, The</th>\n",
       "      <td>109526.0</td>\n",
       "      <td>1.698023e+08</td>\n",
       "    </tr>\n",
       "  </tbody>\n",
       "</table>\n",
       "</div>"
      ],
      "text/plain": [
       "                   Population           GDP\n",
       "year country                               \n",
       "1960 Afghanistan    8994793.0  5.377778e+08\n",
       "     Algeria       11124892.0  2.723638e+09\n",
       "     Australia     10276477.0  1.856759e+10\n",
       "     Austria        7047539.0  6.592694e+09\n",
       "     Bahamas, The    109526.0  1.698023e+08"
      ]
     },
     "execution_count": 29,
     "metadata": {},
     "output_type": "execute_result"
    }
   ],
   "source": [
    "# Read data/worldstats.csv with a MultiIndex\n",
    "index_col = ['year', 'country']\n",
    "world = pd.read_csv('data/worldstats.csv', index_col=index_col).sort_index()\n",
    "world.head()"
   ]
  },
  {
   "cell_type": "code",
   "execution_count": 30,
   "id": "39798cce",
   "metadata": {},
   "outputs": [
    {
     "data": {
      "text/plain": [
       "year  country                \n",
       "1960  Afghanistan  Population    8.994793e+06\n",
       "                   GDP           5.377778e+08\n",
       "      Algeria      Population    1.112489e+07\n",
       "                   GDP           2.723638e+09\n",
       "      Australia    Population    1.027648e+07\n",
       "dtype: float64"
      ]
     },
     "execution_count": 30,
     "metadata": {},
     "output_type": "execute_result"
    }
   ],
   "source": [
    "world.stack().head()"
   ]
  },
  {
   "cell_type": "code",
   "execution_count": 31,
   "id": "a130c5f0",
   "metadata": {},
   "outputs": [
    {
     "data": {
      "text/html": [
       "<div>\n",
       "<style scoped>\n",
       "    .dataframe tbody tr th:only-of-type {\n",
       "        vertical-align: middle;\n",
       "    }\n",
       "\n",
       "    .dataframe tbody tr th {\n",
       "        vertical-align: top;\n",
       "    }\n",
       "\n",
       "    .dataframe thead th {\n",
       "        text-align: right;\n",
       "    }\n",
       "</style>\n",
       "<table border=\"1\" class=\"dataframe\">\n",
       "  <thead>\n",
       "    <tr style=\"text-align: right;\">\n",
       "      <th></th>\n",
       "      <th></th>\n",
       "      <th>Population</th>\n",
       "      <th>GDP</th>\n",
       "    </tr>\n",
       "    <tr>\n",
       "      <th>year</th>\n",
       "      <th>country</th>\n",
       "      <th></th>\n",
       "      <th></th>\n",
       "    </tr>\n",
       "  </thead>\n",
       "  <tbody>\n",
       "    <tr>\n",
       "      <th rowspan=\"5\" valign=\"top\">1960</th>\n",
       "      <th>Afghanistan</th>\n",
       "      <td>8994793.0</td>\n",
       "      <td>5.377778e+08</td>\n",
       "    </tr>\n",
       "    <tr>\n",
       "      <th>Algeria</th>\n",
       "      <td>11124892.0</td>\n",
       "      <td>2.723638e+09</td>\n",
       "    </tr>\n",
       "    <tr>\n",
       "      <th>Australia</th>\n",
       "      <td>10276477.0</td>\n",
       "      <td>1.856759e+10</td>\n",
       "    </tr>\n",
       "    <tr>\n",
       "      <th>Austria</th>\n",
       "      <td>7047539.0</td>\n",
       "      <td>6.592694e+09</td>\n",
       "    </tr>\n",
       "    <tr>\n",
       "      <th>Bahamas, The</th>\n",
       "      <td>109526.0</td>\n",
       "      <td>1.698023e+08</td>\n",
       "    </tr>\n",
       "  </tbody>\n",
       "</table>\n",
       "</div>"
      ],
      "text/plain": [
       "                   Population           GDP\n",
       "year country                               \n",
       "1960 Afghanistan    8994793.0  5.377778e+08\n",
       "     Algeria       11124892.0  2.723638e+09\n",
       "     Australia     10276477.0  1.856759e+10\n",
       "     Austria        7047539.0  6.592694e+09\n",
       "     Bahamas, The    109526.0  1.698023e+08"
      ]
     },
     "execution_count": 31,
     "metadata": {},
     "output_type": "execute_result"
    }
   ],
   "source": [
    "world.stack().unstack().head()"
   ]
  },
  {
   "cell_type": "markdown",
   "id": "35f2677e",
   "metadata": {},
   "source": [
    "## 05 Coding Challenge"
   ]
  },
  {
   "cell_type": "markdown",
   "id": "01258b3d",
   "metadata": {},
   "source": [
    "### 01 Data Preparation"
   ]
  },
  {
   "cell_type": "code",
   "execution_count": 37,
   "id": "638ce030",
   "metadata": {},
   "outputs": [
    {
     "data": {
      "text/html": [
       "<div>\n",
       "<style scoped>\n",
       "    .dataframe tbody tr th:only-of-type {\n",
       "        vertical-align: middle;\n",
       "    }\n",
       "\n",
       "    .dataframe tbody tr th {\n",
       "        vertical-align: top;\n",
       "    }\n",
       "\n",
       "    .dataframe thead th {\n",
       "        text-align: right;\n",
       "    }\n",
       "</style>\n",
       "<table border=\"1\" class=\"dataframe\">\n",
       "  <thead>\n",
       "    <tr style=\"text-align: right;\">\n",
       "      <th></th>\n",
       "      <th></th>\n",
       "      <th></th>\n",
       "      <th>Name</th>\n",
       "      <th>Market</th>\n",
       "    </tr>\n",
       "    <tr>\n",
       "      <th>Status</th>\n",
       "      <th>Funding Rounds</th>\n",
       "      <th>State</th>\n",
       "      <th></th>\n",
       "      <th></th>\n",
       "    </tr>\n",
       "  </thead>\n",
       "  <tbody>\n",
       "    <tr>\n",
       "      <th rowspan=\"5\" valign=\"top\">Acquired</th>\n",
       "      <th rowspan=\"5\" valign=\"top\">1</th>\n",
       "      <th>AB</th>\n",
       "      <td>Hallpass Media</td>\n",
       "      <td>Games</td>\n",
       "    </tr>\n",
       "    <tr>\n",
       "      <th>AL</th>\n",
       "      <td>EnteGreat</td>\n",
       "      <td>Enterprise Software</td>\n",
       "    </tr>\n",
       "    <tr>\n",
       "      <th>AL</th>\n",
       "      <td>Onward Behavioral Health</td>\n",
       "      <td>Biotechnology</td>\n",
       "    </tr>\n",
       "    <tr>\n",
       "      <th>AL</th>\n",
       "      <td>Proxsys</td>\n",
       "      <td>Biotechnology</td>\n",
       "    </tr>\n",
       "    <tr>\n",
       "      <th>AZ</th>\n",
       "      <td>Envox Group</td>\n",
       "      <td>Public Relations</td>\n",
       "    </tr>\n",
       "  </tbody>\n",
       "</table>\n",
       "</div>"
      ],
      "text/plain": [
       "                                                   Name               Market\n",
       "Status   Funding Rounds State                                               \n",
       "Acquired 1              AB               Hallpass Media                Games\n",
       "                        AL                    EnteGreat  Enterprise Software\n",
       "                        AL     Onward Behavioral Health        Biotechnology\n",
       "                        AL                      Proxsys        Biotechnology\n",
       "                        AZ                  Envox Group     Public Relations"
      ]
     },
     "execution_count": 37,
     "metadata": {},
     "output_type": "execute_result"
    }
   ],
   "source": [
    "i = utils.INVESTMENTS()\n",
    "i.investments.head()"
   ]
  },
  {
   "cell_type": "markdown",
   "id": "58cf94d9",
   "metadata": {},
   "source": [
    "### 02 Challenges"
   ]
  },
  {
   "cell_type": "code",
   "execution_count": 39,
   "id": "be797252",
   "metadata": {},
   "outputs": [
    {
     "data": {
      "text/html": [
       "<div>\n",
       "<style scoped>\n",
       "    .dataframe tbody tr th:only-of-type {\n",
       "        vertical-align: middle;\n",
       "    }\n",
       "\n",
       "    .dataframe tbody tr th {\n",
       "        vertical-align: top;\n",
       "    }\n",
       "\n",
       "    .dataframe thead th {\n",
       "        text-align: right;\n",
       "    }\n",
       "</style>\n",
       "<table border=\"1\" class=\"dataframe\">\n",
       "  <thead>\n",
       "    <tr style=\"text-align: right;\">\n",
       "      <th></th>\n",
       "      <th></th>\n",
       "      <th>Name</th>\n",
       "      <th>Market</th>\n",
       "    </tr>\n",
       "    <tr>\n",
       "      <th>Funding Rounds</th>\n",
       "      <th>State</th>\n",
       "      <th></th>\n",
       "      <th></th>\n",
       "    </tr>\n",
       "  </thead>\n",
       "  <tbody>\n",
       "    <tr>\n",
       "      <th rowspan=\"5\" valign=\"top\">1</th>\n",
       "      <th>AB</th>\n",
       "      <td>Cardinal Media Technologies</td>\n",
       "      <td>Social Network Media</td>\n",
       "    </tr>\n",
       "    <tr>\n",
       "      <th>AB</th>\n",
       "      <td>Easy Bill Online</td>\n",
       "      <td>Tracking</td>\n",
       "    </tr>\n",
       "    <tr>\n",
       "      <th>AB</th>\n",
       "      <td>Globel Direct</td>\n",
       "      <td>Public Relations</td>\n",
       "    </tr>\n",
       "    <tr>\n",
       "      <th>AB</th>\n",
       "      <td>Ph03nix New Media</td>\n",
       "      <td>Games</td>\n",
       "    </tr>\n",
       "    <tr>\n",
       "      <th>AL</th>\n",
       "      <td>Naubo</td>\n",
       "      <td>News</td>\n",
       "    </tr>\n",
       "  </tbody>\n",
       "</table>\n",
       "</div>"
      ],
      "text/plain": [
       "                                             Name                Market\n",
       "Funding Rounds State                                                   \n",
       "1              AB     Cardinal Media Technologies  Social Network Media\n",
       "               AB                Easy Bill Online              Tracking\n",
       "               AB                   Globel Direct      Public Relations\n",
       "               AB               Ph03nix New Media                 Games\n",
       "               AL                           Naubo                  News"
      ]
     },
     "execution_count": 39,
     "metadata": {},
     "output_type": "execute_result"
    }
   ],
   "source": [
    "# 1 Extract all rows with a Status of \"Closed\" using .loc\n",
    "i.investments.loc['Closed'].head()"
   ]
  },
  {
   "cell_type": "code",
   "execution_count": 43,
   "id": "da268ca2",
   "metadata": {},
   "outputs": [
    {
     "data": {
      "text/html": [
       "<div>\n",
       "<style scoped>\n",
       "    .dataframe tbody tr th:only-of-type {\n",
       "        vertical-align: middle;\n",
       "    }\n",
       "\n",
       "    .dataframe tbody tr th {\n",
       "        vertical-align: top;\n",
       "    }\n",
       "\n",
       "    .dataframe thead th {\n",
       "        text-align: right;\n",
       "    }\n",
       "</style>\n",
       "<table border=\"1\" class=\"dataframe\">\n",
       "  <thead>\n",
       "    <tr style=\"text-align: right;\">\n",
       "      <th></th>\n",
       "      <th>Name</th>\n",
       "      <th>Market</th>\n",
       "    </tr>\n",
       "    <tr>\n",
       "      <th>State</th>\n",
       "      <th></th>\n",
       "      <th></th>\n",
       "    </tr>\n",
       "  </thead>\n",
       "  <tbody>\n",
       "    <tr>\n",
       "      <th>NY</th>\n",
       "      <td>Genesis Networks</td>\n",
       "      <td>Web Hosting</td>\n",
       "    </tr>\n",
       "    <tr>\n",
       "      <th>TX</th>\n",
       "      <td>ACTIVE Network</td>\n",
       "      <td>Software</td>\n",
       "    </tr>\n",
       "  </tbody>\n",
       "</table>\n",
       "</div>"
      ],
      "text/plain": [
       "                   Name       Market\n",
       "State                               \n",
       "NY     Genesis Networks  Web Hosting\n",
       "TX       ACTIVE Network     Software"
      ]
     },
     "execution_count": 43,
     "metadata": {},
     "output_type": "execute_result"
    }
   ],
   "source": [
    "# 2 Extract all rows with a Status of \"Acquired\" and 10 funding rounds.\n",
    "i.investments.loc[('Acquired', 10)].head()"
   ]
  },
  {
   "cell_type": "code",
   "execution_count": 44,
   "id": "4f214262",
   "metadata": {},
   "outputs": [
    {
     "data": {
      "text/html": [
       "<div>\n",
       "<style scoped>\n",
       "    .dataframe tbody tr th:only-of-type {\n",
       "        vertical-align: middle;\n",
       "    }\n",
       "\n",
       "    .dataframe tbody tr th {\n",
       "        vertical-align: top;\n",
       "    }\n",
       "\n",
       "    .dataframe thead th {\n",
       "        text-align: right;\n",
       "    }\n",
       "</style>\n",
       "<table border=\"1\" class=\"dataframe\">\n",
       "  <thead>\n",
       "    <tr style=\"text-align: right;\">\n",
       "      <th></th>\n",
       "      <th></th>\n",
       "      <th></th>\n",
       "      <th>Name</th>\n",
       "      <th>Market</th>\n",
       "    </tr>\n",
       "    <tr>\n",
       "      <th>Status</th>\n",
       "      <th>Funding Rounds</th>\n",
       "      <th>State</th>\n",
       "      <th></th>\n",
       "      <th></th>\n",
       "    </tr>\n",
       "  </thead>\n",
       "  <tbody>\n",
       "    <tr>\n",
       "      <th rowspan=\"4\" valign=\"top\">Operating</th>\n",
       "      <th rowspan=\"4\" valign=\"top\">6</th>\n",
       "      <th>NJ</th>\n",
       "      <td>Agile Therapeutics</td>\n",
       "      <td>Biotechnology</td>\n",
       "    </tr>\n",
       "    <tr>\n",
       "      <th>NJ</th>\n",
       "      <td>Agilence</td>\n",
       "      <td>Retail Technology</td>\n",
       "    </tr>\n",
       "    <tr>\n",
       "      <th>NJ</th>\n",
       "      <td>Edge Therapeutics</td>\n",
       "      <td>Biotechnology</td>\n",
       "    </tr>\n",
       "    <tr>\n",
       "      <th>NJ</th>\n",
       "      <td>Nistica</td>\n",
       "      <td>Web Hosting</td>\n",
       "    </tr>\n",
       "  </tbody>\n",
       "</table>\n",
       "</div>"
      ],
      "text/plain": [
       "                                              Name             Market\n",
       "Status    Funding Rounds State                                       \n",
       "Operating 6              NJ     Agile Therapeutics      Biotechnology\n",
       "                         NJ               Agilence  Retail Technology\n",
       "                         NJ      Edge Therapeutics      Biotechnology\n",
       "                         NJ                Nistica        Web Hosting"
      ]
     },
     "execution_count": 44,
     "metadata": {},
     "output_type": "execute_result"
    }
   ],
   "source": [
    "# 3 Extract all rows with a Status of \"Operating\", six funding rounds, and a State\n",
    "# of \"NJ\".\n",
    "i.investments.loc[('Operating', 6, 'NJ')].head()"
   ]
  },
  {
   "cell_type": "code",
   "execution_count": 45,
   "id": "7b2b0952",
   "metadata": {},
   "outputs": [
    {
     "data": {
      "text/plain": [
       "State\n",
       "CA             CipherMax\n",
       "CA    Dilithium Networks\n",
       "CA               Moblyng\n",
       "CA              SolFocus\n",
       "CA              Solyndra\n",
       "Name: Name, dtype: object"
      ]
     },
     "execution_count": 45,
     "metadata": {},
     "output_type": "execute_result"
    }
   ],
   "source": [
    "# 4 Extract all rows with a Status of \"Closed\" and eight funding rounds. Pull out\n",
    "# only the Name column.\n",
    "i.investments.loc[('Closed', 8), 'Name'].head()"
   ]
  },
  {
   "cell_type": "code",
   "execution_count": null,
   "id": "6620c401",
   "metadata": {},
   "outputs": [],
   "source": [
    "# 5 Extract all rows with a State of \"NJ\", irrespective of the values in the Status and\n",
    "# Funding Rounds levels.\n",
    "i.investments.xs(key='NJ', level='State').head()"
   ]
  },
  {
   "cell_type": "code",
   "execution_count": 46,
   "id": "7e7240e5",
   "metadata": {},
   "outputs": [
    {
     "data": {
      "text/html": [
       "<div>\n",
       "<style scoped>\n",
       "    .dataframe tbody tr th:only-of-type {\n",
       "        vertical-align: middle;\n",
       "    }\n",
       "\n",
       "    .dataframe tbody tr th {\n",
       "        vertical-align: top;\n",
       "    }\n",
       "\n",
       "    .dataframe thead th {\n",
       "        text-align: right;\n",
       "    }\n",
       "</style>\n",
       "<table border=\"1\" class=\"dataframe\">\n",
       "  <thead>\n",
       "    <tr style=\"text-align: right;\">\n",
       "      <th></th>\n",
       "      <th>Status</th>\n",
       "      <th>Funding Rounds</th>\n",
       "      <th>State</th>\n",
       "      <th>Name</th>\n",
       "      <th>Market</th>\n",
       "    </tr>\n",
       "  </thead>\n",
       "  <tbody>\n",
       "    <tr>\n",
       "      <th>0</th>\n",
       "      <td>Acquired</td>\n",
       "      <td>1</td>\n",
       "      <td>AB</td>\n",
       "      <td>Hallpass Media</td>\n",
       "      <td>Games</td>\n",
       "    </tr>\n",
       "    <tr>\n",
       "      <th>1</th>\n",
       "      <td>Acquired</td>\n",
       "      <td>1</td>\n",
       "      <td>AL</td>\n",
       "      <td>EnteGreat</td>\n",
       "      <td>Enterprise Software</td>\n",
       "    </tr>\n",
       "    <tr>\n",
       "      <th>2</th>\n",
       "      <td>Acquired</td>\n",
       "      <td>1</td>\n",
       "      <td>AL</td>\n",
       "      <td>Onward Behavioral Health</td>\n",
       "      <td>Biotechnology</td>\n",
       "    </tr>\n",
       "    <tr>\n",
       "      <th>3</th>\n",
       "      <td>Acquired</td>\n",
       "      <td>1</td>\n",
       "      <td>AL</td>\n",
       "      <td>Proxsys</td>\n",
       "      <td>Biotechnology</td>\n",
       "    </tr>\n",
       "    <tr>\n",
       "      <th>4</th>\n",
       "      <td>Acquired</td>\n",
       "      <td>1</td>\n",
       "      <td>AZ</td>\n",
       "      <td>Envox Group</td>\n",
       "      <td>Public Relations</td>\n",
       "    </tr>\n",
       "  </tbody>\n",
       "</table>\n",
       "</div>"
      ],
      "text/plain": [
       "     Status  Funding Rounds State                      Name  \\\n",
       "0  Acquired               1    AB            Hallpass Media   \n",
       "1  Acquired               1    AL                 EnteGreat   \n",
       "2  Acquired               1    AL  Onward Behavioral Health   \n",
       "3  Acquired               1    AL                   Proxsys   \n",
       "4  Acquired               1    AZ               Envox Group   \n",
       "\n",
       "                Market  \n",
       "0                Games  \n",
       "1  Enterprise Software  \n",
       "2        Biotechnology  \n",
       "3        Biotechnology  \n",
       "4     Public Relations  "
      ]
     },
     "execution_count": 46,
     "metadata": {},
     "output_type": "execute_result"
    }
   ],
   "source": [
    "# 6 Reincorporate the MultiIndex levels back into the DataFrame as columns\n",
    "i.investments.reset_index().head()"
   ]
  }
 ],
 "metadata": {
  "kernelspec": {
   "display_name": "env",
   "language": "python",
   "name": "python3"
  },
  "language_info": {
   "codemirror_mode": {
    "name": "ipython",
    "version": 3
   },
   "file_extension": ".py",
   "mimetype": "text/x-python",
   "name": "python",
   "nbconvert_exporter": "python",
   "pygments_lexer": "ipython3",
   "version": "3.13.7"
  }
 },
 "nbformat": 4,
 "nbformat_minor": 5
}
